{
 "cells": [
  {
   "cell_type": "markdown",
   "id": "ef775cd2",
   "metadata": {},
   "source": [
    "# Texas County-to-County Migration Flows with pytidycensus\n",
    "\n",
    "This notebook demonstrates how to visualize migration flows using data retrieved from the Census Bureau's migration flows API via pytidycensus.\n",
    "\n",
    "We'll use the `get_flows()` function to retrieve Texas county-to-county migration data for 2018, and visualize it using lonboard's BrushingExtension for interactive exploration.\n",
    "\n",
    "This approach mirrors the [deck.gl brushing extension example](https://deck.gl/examples/brushing-extension) but uses Census API data directly through pytidycensus."
   ]
  },
  {
   "cell_type": "markdown",
   "id": "6b4469a3",
   "metadata": {},
   "source": [
    "## Dependencies\n",
    "\n",
    "You'll need the following packages:\n",
    "```bash\n",
    "pip install pytidycensus geopandas lonboard matplotlib numpy pandas pyarrow shapely\n",
    "```"
   ]
  },
  {
   "cell_type": "markdown",
   "id": "b73b22ff",
   "metadata": {},
   "source": [
    "## Imports"
   ]
  },
  {
   "cell_type": "code",
   "execution_count": 1,
   "id": "e92e7476",
   "metadata": {},
   "outputs": [],
   "source": [
    "import geopandas as gpd\n",
    "import numpy as np\n",
    "import pandas as pd\n",
    "import pyarrow as pa\n",
    "import shapely\n",
    "from matplotlib.colors import Normalize\n",
    "\n",
    "from lonboard import Map, ScatterplotLayer\n",
    "from lonboard.experimental import ArcLayer\n",
    "from lonboard.layer_extension import BrushingExtension\n",
    "from lonboard._geoarrow.geopandas_interop import geopandas_to_geoarrow\n",
    "import pytidycensus as tc"
   ]
  },
  {
   "cell_type": "markdown",
   "id": "get_flows_data",
   "metadata": {},
   "source": [
    "## Retrieve Migration Flows Data\n",
    "\n",
    "Use pytidycensus to get Texas county-to-county migration flows for 2018.\n",
    "The `geometry=True` parameter ensures we get centroid coordinates for mapping,\n",
    "and `output=\"wide\"` gives us a format suitable for building origin-destination pairs."
   ]
  },
  {
   "cell_type": "code",
   "execution_count": 2,
   "id": "retrieve_flows",
   "metadata": {},
   "outputs": [
    {
     "name": "stderr",
     "output_type": "stream",
     "text": [
      "/home/mmann1123/Documents/github/pytidycensus/pytidycensus/flows.py:654: UserWarning: Could not find centroids for 97 GEOIDs: ['0900108070', '0900365370', '0900747360', '0900177200', '0900368940'].... These flows will not have geometry data.\n",
      "  warnings.warn(\n"
     ]
    },
    {
     "data": {
      "text/html": [
       "<div>\n",
       "<style scoped>\n",
       "    .dataframe tbody tr th:only-of-type {\n",
       "        vertical-align: middle;\n",
       "    }\n",
       "\n",
       "    .dataframe tbody tr th {\n",
       "        vertical-align: top;\n",
       "    }\n",
       "\n",
       "    .dataframe thead th {\n",
       "        text-align: right;\n",
       "    }\n",
       "</style>\n",
       "<table border=\"1\" class=\"dataframe\">\n",
       "  <thead>\n",
       "    <tr style=\"text-align: right;\">\n",
       "      <th></th>\n",
       "      <th>GEOID1</th>\n",
       "      <th>GEOID2</th>\n",
       "      <th>FULL1_NAME</th>\n",
       "      <th>FULL2_NAME</th>\n",
       "      <th>MOVEDIN</th>\n",
       "      <th>MOVEDIN_M</th>\n",
       "      <th>MOVEDOUT</th>\n",
       "      <th>MOVEDOUT_M</th>\n",
       "      <th>MOVEDNET</th>\n",
       "      <th>MOVEDNET_M</th>\n",
       "      <th>centroid1</th>\n",
       "      <th>centroid2</th>\n",
       "    </tr>\n",
       "  </thead>\n",
       "  <tbody>\n",
       "    <tr>\n",
       "      <th>0</th>\n",
       "      <td>48001</td>\n",
       "      <td>None</td>\n",
       "      <td>Anderson County, Texas</td>\n",
       "      <td>Africa</td>\n",
       "      <td>38</td>\n",
       "      <td>52.0</td>\n",
       "      <td>NaN</td>\n",
       "      <td>NaN</td>\n",
       "      <td>NaN</td>\n",
       "      <td>NaN</td>\n",
       "      <td>POINT (-95.65236 31.81326)</td>\n",
       "      <td>NaN</td>\n",
       "    </tr>\n",
       "    <tr>\n",
       "      <th>1</th>\n",
       "      <td>48001</td>\n",
       "      <td>None</td>\n",
       "      <td>Anderson County, Texas</td>\n",
       "      <td>Asia</td>\n",
       "      <td>4</td>\n",
       "      <td>6.0</td>\n",
       "      <td>NaN</td>\n",
       "      <td>NaN</td>\n",
       "      <td>NaN</td>\n",
       "      <td>NaN</td>\n",
       "      <td>POINT (-95.65236 31.81326)</td>\n",
       "      <td>NaN</td>\n",
       "    </tr>\n",
       "    <tr>\n",
       "      <th>2</th>\n",
       "      <td>48001</td>\n",
       "      <td>None</td>\n",
       "      <td>Anderson County, Texas</td>\n",
       "      <td>Central America</td>\n",
       "      <td>2</td>\n",
       "      <td>3.0</td>\n",
       "      <td>NaN</td>\n",
       "      <td>NaN</td>\n",
       "      <td>NaN</td>\n",
       "      <td>NaN</td>\n",
       "      <td>POINT (-95.65236 31.81326)</td>\n",
       "      <td>NaN</td>\n",
       "    </tr>\n",
       "    <tr>\n",
       "      <th>3</th>\n",
       "      <td>48001</td>\n",
       "      <td>01089</td>\n",
       "      <td>Anderson County, Texas</td>\n",
       "      <td>Madison County, Alabama</td>\n",
       "      <td>13</td>\n",
       "      <td>20.0</td>\n",
       "      <td>0.0</td>\n",
       "      <td>28.0</td>\n",
       "      <td>13.0</td>\n",
       "      <td>20.0</td>\n",
       "      <td>POINT (-95.65236 31.81326)</td>\n",
       "      <td>POINT (-86.55022579567611 34.762959383197796)</td>\n",
       "    </tr>\n",
       "    <tr>\n",
       "      <th>4</th>\n",
       "      <td>48001</td>\n",
       "      <td>02016</td>\n",
       "      <td>Anderson County, Texas</td>\n",
       "      <td>Aleutians West Census Area, Alaska</td>\n",
       "      <td>0</td>\n",
       "      <td>31.0</td>\n",
       "      <td>7.0</td>\n",
       "      <td>9.0</td>\n",
       "      <td>-7.0</td>\n",
       "      <td>9.0</td>\n",
       "      <td>POINT (-95.65236 31.81326)</td>\n",
       "      <td>POINT (-173.77316055538125 52.983281670565866)</td>\n",
       "    </tr>\n",
       "  </tbody>\n",
       "</table>\n",
       "</div>"
      ],
      "text/plain": [
       "  GEOID1 GEOID2              FULL1_NAME                          FULL2_NAME  \\\n",
       "0  48001   None  Anderson County, Texas                              Africa   \n",
       "1  48001   None  Anderson County, Texas                                Asia   \n",
       "2  48001   None  Anderson County, Texas                     Central America   \n",
       "3  48001  01089  Anderson County, Texas             Madison County, Alabama   \n",
       "4  48001  02016  Anderson County, Texas  Aleutians West Census Area, Alaska   \n",
       "\n",
       "   MOVEDIN  MOVEDIN_M  MOVEDOUT  MOVEDOUT_M  MOVEDNET  MOVEDNET_M  \\\n",
       "0       38       52.0       NaN         NaN       NaN         NaN   \n",
       "1        4        6.0       NaN         NaN       NaN         NaN   \n",
       "2        2        3.0       NaN         NaN       NaN         NaN   \n",
       "3       13       20.0       0.0        28.0      13.0        20.0   \n",
       "4        0       31.0       7.0         9.0      -7.0         9.0   \n",
       "\n",
       "                    centroid1                                       centroid2  \n",
       "0  POINT (-95.65236 31.81326)                                             NaN  \n",
       "1  POINT (-95.65236 31.81326)                                             NaN  \n",
       "2  POINT (-95.65236 31.81326)                                             NaN  \n",
       "3  POINT (-95.65236 31.81326)   POINT (-86.55022579567611 34.762959383197796)  \n",
       "4  POINT (-95.65236 31.81326)  POINT (-173.77316055538125 52.983281670565866)  "
      ]
     },
     "execution_count": 2,
     "metadata": {},
     "output_type": "execute_result"
    }
   ],
   "source": [
    "# Retrieve Texas county migration flows with geometry\n",
    "flows_geo = tc.get_flows(\n",
    "    geography=\"county\",\n",
    "    state=\"TX\",\n",
    "    year=2018,\n",
    "    geometry=True,\n",
    "    output=\"wide\"\n",
    ")\n",
    "\n",
    "# Display the first few rows to understand the structure\n",
    "flows_geo.head()"
   ]
  },
  {
   "cell_type": "markdown",
   "id": "explore_data",
   "metadata": {},
   "source": [
    "## Explore the Data Structure\n",
    "\n",
    "Let's examine the columns and understand what we're working with:"
   ]
  },
  {
   "cell_type": "code",
   "execution_count": 3,
   "id": "show_columns",
   "metadata": {},
   "outputs": [
    {
     "name": "stdout",
     "output_type": "stream",
     "text": [
      "Columns: ['GEOID1', 'GEOID2', 'FULL1_NAME', 'FULL2_NAME', 'MOVEDIN', 'MOVEDIN_M', 'MOVEDOUT', 'MOVEDOUT_M', 'MOVEDNET', 'MOVEDNET_M', 'centroid1', 'centroid2']\n",
      "\n",
      "Shape: (36641, 12)\n",
      "\n",
      "Sample record:\n"
     ]
    },
    {
     "data": {
      "application/vnd.microsoft.datawrangler.viewer.v0+json": {
       "columns": [
        {
         "name": "index",
         "rawType": "object",
         "type": "string"
        },
        {
         "name": "0",
         "rawType": "object",
         "type": "unknown"
        }
       ],
       "ref": "902a766d-5fc3-4bbd-81cc-387d76233d0b",
       "rows": [
        [
         "GEOID1",
         "48001"
        ],
        [
         "GEOID2",
         null
        ],
        [
         "FULL1_NAME",
         "Anderson County, Texas"
        ],
        [
         "FULL2_NAME",
         "Africa"
        ],
        [
         "MOVEDIN",
         "38"
        ],
        [
         "MOVEDIN_M",
         "52.0"
        ],
        [
         "MOVEDOUT",
         null
        ],
        [
         "MOVEDOUT_M",
         null
        ],
        [
         "MOVEDNET",
         null
        ],
        [
         "MOVEDNET_M",
         null
        ],
        [
         "centroid1",
         "POINT (-95.65236082688608 31.813262871603268)"
        ],
        [
         "centroid2",
         null
        ]
       ],
       "shape": {
        "columns": 1,
        "rows": 12
       }
      },
      "text/plain": [
       "GEOID1                                                48001\n",
       "GEOID2                                                 None\n",
       "FULL1_NAME                           Anderson County, Texas\n",
       "FULL2_NAME                                           Africa\n",
       "MOVEDIN                                                  38\n",
       "MOVEDIN_M                                              52.0\n",
       "MOVEDOUT                                                NaN\n",
       "MOVEDOUT_M                                              NaN\n",
       "MOVEDNET                                                NaN\n",
       "MOVEDNET_M                                              NaN\n",
       "centroid1     POINT (-95.65236082688608 31.813262871603268)\n",
       "centroid2                                               NaN\n",
       "Name: 0, dtype: object"
      ]
     },
     "execution_count": 3,
     "metadata": {},
     "output_type": "execute_result"
    }
   ],
   "source": [
    "print(\"Columns:\", flows_geo.columns.tolist())\n",
    "print(\"\\nShape:\", flows_geo.shape)\n",
    "print(\"\\nSample record:\")\n",
    "flows_geo.iloc[0]"
   ]
  },
  {
   "cell_type": "markdown",
   "id": "extract_centroids",
   "metadata": {},
   "source": [
    "## Extract Centroids from Geometry\n",
    "\n",
    "We need to extract the centroid coordinates for each county to use as positions for our visualization:"
   ]
  },
  {
   "cell_type": "code",
   "execution_count": 4,
   "id": "get_centroids",
   "metadata": {},
   "outputs": [
    {
     "name": "stdout",
     "output_type": "stream",
     "text": [
      "Filtered to 14206 Texas-to-Texas flow records\n",
      "Loaded 253 unique Texas counties\n"
     ]
    }
   ],
   "source": [
    "# Extract centroids from the centroid1 and centroid2 columns\n",
    "# Filter to only Texas-to-Texas flows (both GEOID1 and GEOID2 start with '48')\n",
    "tx_flows = flows_geo[\n",
    "    (flows_geo['GEOID2'].notna()) &\n",
    "    (flows_geo['GEOID2'].str.startswith('48', na=False)) &\n",
    "    (flows_geo['centroid1'].notna()) &\n",
    "    (flows_geo['centroid2'].notna())\n",
    "].copy()\n",
    "\n",
    "print(f\"Filtered to {len(tx_flows)} Texas-to-Texas flow records\")\n",
    "\n",
    "# Create a lookup dictionary for quick access to county info by GEOID\n",
    "# We'll use both GEOID1 and GEOID2 to build a complete county list\n",
    "county_lookup = {}\n",
    "\n",
    "for idx, row in tx_flows.iterrows():\n",
    "    # Add origin county\n",
    "    if row['GEOID1'] not in county_lookup and row['centroid1'] is not None:\n",
    "        county_lookup[row['GEOID1']] = {\n",
    "            'name': row['FULL1_NAME'],\n",
    "            'centroid': [row['centroid1'].x, row['centroid1'].y, 0],\n",
    "            'geoid': row['GEOID1']\n",
    "        }\n",
    "\n",
    "    # Add destination county\n",
    "    if row['GEOID2'] not in county_lookup and row['centroid2'] is not None:\n",
    "        county_lookup[row['GEOID2']] = {\n",
    "            'name': row['FULL2_NAME'],\n",
    "            'centroid': [row['centroid2'].x, row['centroid2'].y, 0],\n",
    "            'geoid': row['GEOID2']\n",
    "        }\n",
    "\n",
    "print(f\"Loaded {len(county_lookup)} unique Texas counties\")"
   ]
  },
  {
   "cell_type": "markdown",
   "id": "build_arcs",
   "metadata": {},
   "source": [
    "## Build Origin-Destination Arrays\n",
    "\n",
    "Now we'll process the flows data to create arrays for:\n",
    "- **arcs**: the migration flow connections between counties\n",
    "- **sources**: origin counties (where people moved from)\n",
    "- **targets**: destination counties (where people moved to)\n",
    "\n",
    "This mirrors the structure from the original migration.ipynb example."
   ]
  },
  {
   "cell_type": "code",
   "execution_count": 5,
   "id": "process_flows",
   "metadata": {},
   "outputs": [
    {
     "name": "stdout",
     "output_type": "stream",
     "text": [
      "Created 1593 arcs, 3186 sources, and 253 targets\n"
     ]
    }
   ],
   "source": [
    "arcs = []\n",
    "targets = []\n",
    "sources = []\n",
    "pairs = {}\n",
    "\n",
    "# Group by origin county to calculate flows\n",
    "for geoid1, group in tx_flows.groupby('GEOID1'):\n",
    "    if geoid1 not in county_lookup:\n",
    "        continue\n",
    "    \n",
    "    origin_county = county_lookup[geoid1]\n",
    "    origin_centroid = origin_county['centroid']\n",
    "    \n",
    "    total_value = {\n",
    "        'gain': 0,\n",
    "        'loss': 0,\n",
    "    }\n",
    "    \n",
    "    # Process each destination county\n",
    "    for idx, row in group.iterrows():\n",
    "        geoid2 = row['GEOID2']\n",
    "        \n",
    "        # Skip if destination is not in lookup or is the same county\n",
    "        if geoid2 not in county_lookup or geoid2 == geoid1:\n",
    "            continue\n",
    "        \n",
    "        destination_county = county_lookup[geoid2]\n",
    "        destination_centroid = destination_county['centroid']\n",
    "        \n",
    "        # Get the migration flow value\n",
    "        # MOVEDNET = MOVEDIN - MOVEDOUT (net migration into GEOID1 from GEOID2)\n",
    "        # Use MOVEDNET if available, otherwise calculate it\n",
    "        if pd.notna(row.get('MOVEDNET')):\n",
    "            value = row['MOVEDNET']\n",
    "        else:\n",
    "            movedin = row.get('MOVEDIN', 0) if pd.notna(row.get('MOVEDIN')) else 0\n",
    "            movedout = row.get('MOVEDOUT', 0) if pd.notna(row.get('MOVEDOUT')) else 0\n",
    "            value = movedin - movedout\n",
    "        \n",
    "        if value > 0:\n",
    "            total_value['gain'] += value\n",
    "        else:\n",
    "            total_value['loss'] += value\n",
    "        \n",
    "        # Filter out small flows to reduce clutter\n",
    "        if abs(value) < 50:\n",
    "            continue\n",
    "        \n",
    "        # Create unique pair key to avoid duplicate arcs\n",
    "        pair_key = '-'.join(sorted([geoid1, geoid2]))\n",
    "        gain = np.sign(value)\n",
    "        \n",
    "        # Add source point\n",
    "        sources.append({\n",
    "            'position': destination_centroid,\n",
    "            'target': origin_centroid,\n",
    "            'name': destination_county['name'],\n",
    "            'radius': 3,\n",
    "            'gain': -gain,\n",
    "        })\n",
    "        \n",
    "        # Eliminate duplicate arcs\n",
    "        if pair_key in pairs:\n",
    "            continue\n",
    "        \n",
    "        pairs[pair_key] = True\n",
    "        \n",
    "        # Add arc based on direction of flow\n",
    "        if gain > 0:\n",
    "            arcs.append({\n",
    "                'target': origin_centroid,\n",
    "                'source': destination_centroid,\n",
    "                'value': value,\n",
    "            })\n",
    "        else:\n",
    "            arcs.append({\n",
    "                'target': destination_centroid,\n",
    "                'source': origin_centroid,\n",
    "                'value': value,\n",
    "            })\n",
    "    \n",
    "    # Add target point\n",
    "    targets.append({\n",
    "        **total_value,\n",
    "        'position': [origin_centroid[0], origin_centroid[1], 10],\n",
    "        'net': total_value['gain'] + total_value['loss'],\n",
    "        'name': origin_county['name'],\n",
    "    })\n",
    "\n",
    "# Sort targets by radius (largest net migration first)\n",
    "targets = sorted(targets, key=lambda d: abs(d['net']), reverse=True)\n",
    "\n",
    "# Handle case where there are no targets\n",
    "if len(targets) > 0 and targets[0]['net'] != 0:\n",
    "    normalizer = Normalize(0, abs(targets[0]['net']))\n",
    "else:\n",
    "    normalizer = Normalize(0, 1)\n",
    "\n",
    "print(f\"Created {len(arcs)} arcs, {len(sources)} sources, and {len(targets)} targets\")"
   ]
  },
  {
   "cell_type": "markdown",
   "id": "color_setup",
   "metadata": {},
   "source": [
    "## Define Color Scheme\n",
    "\n",
    "We'll use red for outward migration and blue for inward migration:"
   ]
  },
  {
   "cell_type": "code",
   "execution_count": 6,
   "id": "colors",
   "metadata": {},
   "outputs": [],
   "source": [
    "# migrate out (red)\n",
    "SOURCE_COLOR = [166, 3, 3]\n",
    "# migrate in (blue)\n",
    "TARGET_COLOR = [35, 181, 184]\n",
    "# Combine into a single array to use as a lookup table\n",
    "COLORS = np.vstack(\n",
    "    [np.array(SOURCE_COLOR, dtype=np.uint8), np.array(TARGET_COLOR, dtype=np.uint8)],\n",
    ")\n",
    "SOURCE_LOOKUP = 0\n",
    "TARGET_LOOKUP = 1"
   ]
  },
  {
   "cell_type": "markdown",
   "id": "brushing_setup",
   "metadata": {},
   "source": [
    "## Configure Brushing Extension\n",
    "\n",
    "The BrushingExtension allows interactive exploration by highlighting flows near the cursor:"
   ]
  },
  {
   "cell_type": "code",
   "execution_count": 7,
   "id": "brushing",
   "metadata": {},
   "outputs": [],
   "source": [
    "brushing_extension = BrushingExtension()\n",
    "brushing_radius = 100000  # 100km radius in meters"
   ]
  },
  {
   "cell_type": "markdown",
   "id": "source_layer_header",
   "metadata": {},
   "source": [
    "## Create Source Layer\n",
    "\n",
    "The source layer represents origin counties in the migration flows:"
   ]
  },
  {
   "cell_type": "code",
   "execution_count": 8,
   "id": "source_layer",
   "metadata": {},
   "outputs": [
    {
     "name": "stdout",
     "output_type": "stream",
     "text": [
      "Created source layer with 3186 points\n"
     ]
    }
   ],
   "source": [
    "# Convert sources list to GeoDataFrame\n",
    "if len(sources) == 0:\n",
    "    print(\"Warning: No source points found. Check the flow data and threshold values.\")\n",
    "    source_layer = None\n",
    "else:\n",
    "    # Extract positions as a proper 2D array\n",
    "    source_positions_list = [source['position'] for source in sources]\n",
    "    source_arr = np.array(source_positions_list)\n",
    "    \n",
    "    # Create shapely points from x, y coordinates (ignoring z)\n",
    "    source_positions = shapely.points(source_arr[:, 0], source_arr[:, 1])\n",
    "    source_gdf = gpd.GeoDataFrame(\n",
    "        pd.DataFrame.from_records(sources)[['name', 'radius', 'gain']],\n",
    "        geometry=source_positions,\n",
    "        crs='EPSG:4326',\n",
    "    )\n",
    "\n",
    "    # Apply colors based on gain/loss\n",
    "    source_colors_lookup = np.where(source_gdf['gain'] > 0, TARGET_LOOKUP, SOURCE_LOOKUP)\n",
    "    source_fill_colors = COLORS[source_colors_lookup]\n",
    "\n",
    "    # Create ScatterplotLayer for sources\n",
    "    source_layer = ScatterplotLayer.from_geopandas(\n",
    "        source_gdf,\n",
    "        get_fill_color=source_fill_colors,\n",
    "        radius_scale=3000,\n",
    "        pickable=False,\n",
    "        extensions=[brushing_extension],\n",
    "        brushing_radius=brushing_radius,\n",
    "    )\n",
    "    print(f\"Created source layer with {len(source_gdf)} points\")"
   ]
  },
  {
   "cell_type": "markdown",
   "id": "target_layer_header",
   "metadata": {},
   "source": [
    "## Create Target Layer\n",
    "\n",
    "The target layer represents destination counties, shown as rings with colors indicating net migration:"
   ]
  },
  {
   "cell_type": "code",
   "execution_count": 9,
   "id": "target_layer",
   "metadata": {},
   "outputs": [
    {
     "name": "stdout",
     "output_type": "stream",
     "text": [
      "Created target layer with 253 points\n"
     ]
    }
   ],
   "source": [
    "# Convert targets list to GeoDataFrame\n",
    "if len(targets) == 0:\n",
    "    print(\"Warning: No target points found. Check the flow data and threshold values.\")\n",
    "    target_ring_layer = None\n",
    "else:\n",
    "    # Extract positions as a proper 2D array\n",
    "    targets_positions_list = [target['position'] for target in targets]\n",
    "    targets_arr = np.array(targets_positions_list)\n",
    "    \n",
    "    # Create shapely points from x, y, z coordinates (ignoring z for shapely)\n",
    "    target_positions = shapely.points(targets_arr[:, 0], targets_arr[:, 1])\n",
    "    target_gdf = gpd.GeoDataFrame(\n",
    "        pd.DataFrame.from_records(targets)[['name', 'gain', 'loss', 'net']],\n",
    "        geometry=target_positions,\n",
    "        crs='EPSG:4326',\n",
    "    )\n",
    "\n",
    "    # Apply colors based on net migration\n",
    "    target_line_colors_lookup = np.where(\n",
    "        target_gdf['net'] > 0,\n",
    "        TARGET_LOOKUP,\n",
    "        SOURCE_LOOKUP,\n",
    "    )\n",
    "    target_line_colors = COLORS[target_line_colors_lookup]\n",
    "\n",
    "    # Create ScatterplotLayer for targets (rings)\n",
    "    target_ring_layer = ScatterplotLayer.from_geopandas(\n",
    "        target_gdf,\n",
    "        get_line_color=target_line_colors,\n",
    "        radius_scale=4000,\n",
    "        pickable=True,\n",
    "        stroked=True,\n",
    "        filled=False,\n",
    "        line_width_min_pixels=2,\n",
    "        extensions=[brushing_extension],\n",
    "        brushing_radius=brushing_radius,\n",
    "    )\n",
    "    print(f\"Created target layer with {len(target_gdf)} points\")"
   ]
  },
  {
   "cell_type": "markdown",
   "id": "arc_layer_header",
   "metadata": {},
   "source": [
    "## Create Arc Layer with BrushingExtension\n",
    "\n",
    "The arc layer draws curved lines showing migration flows between counties.\n",
    "\n",
    "**Important:** To use the BrushingExtension with ArcLayer, we need to convert our data to GeoArrow format. GeoArrow is an Arrow-native encoding of geospatial data that includes proper extension metadata. This metadata is required for the BrushingExtension to work correctly.\n",
    "\n",
    "We do this by:\n",
    "1. Creating GeoDataFrames for source and target positions\n",
    "2. Converting them to GeoArrow using `geopandas_to_geoarrow()`\n",
    "3. Extracting the geometry columns for `get_source_position` and `get_target_position`\n",
    "\n",
    "With BrushingExtension enabled, the arcs will respond to hover interactions on the map!"
   ]
  },
  {
   "cell_type": "code",
   "execution_count": 10,
   "id": "arc_layer",
   "metadata": {},
   "outputs": [
    {
     "name": "stdout",
     "output_type": "stream",
     "text": [
      "Created arc layer with 1593 arcs and BrushingExtension enabled\n"
     ]
    }
   ],
   "source": [
    "# Convert arcs to GeoDataFrames for proper GeoArrow conversion\n",
    "if len(arcs) == 0:\n",
    "    print(\"Warning: No arcs found. Check the flow data and threshold values.\")\n",
    "    arc_layer = None\n",
    "else:\n",
    "    # Create GeoDataFrames for source and target positions\n",
    "    arc_source_points = [shapely.Point(arc['source'][:2]) for arc in arcs]\n",
    "    arc_target_points = [shapely.Point(arc['target'][:2]) for arc in arcs]\n",
    "    \n",
    "    arc_source_gdf = gpd.GeoDataFrame(\n",
    "        {'value': [arc['value'] for arc in arcs]},\n",
    "        geometry=arc_source_points,\n",
    "        crs='EPSG:4326'\n",
    "    )\n",
    "    \n",
    "    arc_target_gdf = gpd.GeoDataFrame(\n",
    "        {'value': [arc['value'] for arc in arcs]},\n",
    "        geometry=arc_target_points,\n",
    "        crs='EPSG:4326'\n",
    "    )\n",
    "    \n",
    "    # Convert to GeoArrow format (required for BrushingExtension to work)\n",
    "    arc_source_table = geopandas_to_geoarrow(arc_source_gdf)\n",
    "    arc_target_table = geopandas_to_geoarrow(arc_target_gdf)\n",
    "    \n",
    "    # Create a PyArrow table for non-geometry attributes\n",
    "    value_array = np.array([arc['value'] for arc in arcs])\n",
    "    attr_table = pa.table({'value': value_array})\n",
    "    \n",
    "    # Create ArcLayer with BrushingExtension\n",
    "    arc_layer = ArcLayer(\n",
    "        table=attr_table,\n",
    "        get_source_position=arc_source_table['geometry'],\n",
    "        get_target_position=arc_target_table['geometry'],\n",
    "        get_source_color=SOURCE_COLOR,\n",
    "        get_target_color=TARGET_COLOR,\n",
    "        get_width=1,\n",
    "        opacity=0.4,\n",
    "        pickable=False,\n",
    "        extensions=[brushing_extension],\n",
    "        brushing_radius=brushing_radius,\n",
    "    )\n",
    "    print(f\"Created arc layer with {len(arcs)} arcs and BrushingExtension enabled\")"
   ]
  },
  {
   "cell_type": "markdown",
   "id": "map_header",
   "metadata": {},
   "source": [
    "## Create Interactive Map with BrushingExtension\n",
    "\n",
    "Now we combine all layers into an interactive map. All three layers have the BrushingExtension enabled, which means:\n",
    "\n",
    "- **Hover Interaction**: Move your cursor over the map to see migration flows near your pointer\n",
    "- **Brushing Radius**: Only arcs and points within the `brushing_radius` (100km) of your cursor will be displayed\n",
    "- **Dynamic Filtering**: As you move your cursor, the visible flows update in real-time\n",
    "\n",
    "**Interpretation:**\n",
    "- **Red arcs/points**: Outward migration (people leaving)\n",
    "- **Blue arcs/points**: Inward migration (people arriving)\n",
    "- **Ring size**: Indicates magnitude of net migration\n",
    "- **Ring color**: Red for net loss, blue for net gain\n",
    "\n",
    "**Tip:** Hover over different areas of Texas to explore local migration patterns!"
   ]
  },
  {
   "cell_type": "code",
   "execution_count": 15,
   "id": "a4e9775f",
   "metadata": {},
   "outputs": [
    {
     "data": {
      "application/vnd.jupyter.widget-view+json": {
       "model_id": "bde397efc4c54e469ca5c27c1d94f531",
       "version_major": 2,
       "version_minor": 1
      },
      "text/plain": [
       "Map(custom_attribution='', layers=(ScatterplotLayer(brushing_radius=100000.0, extensions=(BrushingExtension(),…"
      ]
     },
     "execution_count": 15,
     "metadata": {},
     "output_type": "execute_result"
    }
   ],
   "source": [
    "\n",
    "map_ = Map([source_layer, target_ring_layer, arc_layer], picking_radius=10)\n",
    "map_\n"
   ]
  },
  {
   "cell_type": "markdown",
   "id": "analysis_header",
   "metadata": {},
   "source": [
    "## Analysis: Top Migration Counties\n",
    "\n",
    "Let's examine which Texas counties had the largest net migration gains and losses:"
   ]
  },
  {
   "cell_type": "code",
   "execution_count": 12,
   "id": "top_counties",
   "metadata": {},
   "outputs": [
    {
     "name": "stdout",
     "output_type": "stream",
     "text": [
      "Top 10 Counties by Net Migration Gain:\n",
      "                        name     gain    loss      net\n",
      "2       Denton County, Texas  22222.0 -4351.0  17871.0\n",
      "3       Brazos County, Texas  10653.0 -2834.0   7819.0\n",
      "4   Williamson County, Texas  11431.0 -4030.0   7401.0\n",
      "6      Lubbock County, Texas   9635.0 -2580.0   7055.0\n",
      "7         Hays County, Texas   7992.0 -2081.0   5911.0\n",
      "13  Montgomery County, Texas   9303.0 -5242.0   4061.0\n",
      "14   Fort Bend County, Texas   9010.0 -5120.0   3890.0\n",
      "16     Liberty County, Texas   5241.0 -1493.0   3748.0\n",
      "17   Galveston County, Texas   6047.0 -2306.0   3741.0\n",
      "18     Kaufman County, Texas   5109.0 -1807.0   3302.0\n",
      "\n",
      "Top 10 Counties by Net Migration Loss:\n",
      "                     name     gain     loss      net\n",
      "0    Dallas County, Texas   4018.0 -33712.0 -29694.0\n",
      "1    Harris County, Texas   5075.0 -30332.0 -25257.0\n",
      "5    Travis County, Texas   9580.0 -16721.0  -7141.0\n",
      "8   El Paso County, Texas   2492.0  -7292.0  -4800.0\n",
      "9   Cameron County, Texas   1063.0  -5842.0  -4779.0\n",
      "10   Collin County, Texas   8630.0 -12904.0  -4274.0\n",
      "11  Hidalgo County, Texas   3053.0  -7293.0  -4240.0\n",
      "12     Webb County, Texas    563.0  -4740.0  -4177.0\n",
      "15  Tarrant County, Texas  11313.0 -15065.0  -3752.0\n",
      "21   Potter County, Texas   1948.0  -4838.0  -2890.0\n"
     ]
    }
   ],
   "source": [
    "# Top 10 counties by net gain\n",
    "if 'target_gdf' in locals() and len(target_gdf) > 0:\n",
    "    print(\"Top 10 Counties by Net Migration Gain:\")\n",
    "    print(target_gdf.nlargest(10, 'net')[['name', 'gain', 'loss', 'net']])\n",
    "\n",
    "    print(\"\\nTop 10 Counties by Net Migration Loss:\")\n",
    "    print(target_gdf.nsmallest(10, 'net')[['name', 'gain', 'loss', 'net']])\n",
    "else:\n",
    "    print(\"No target data available for analysis.\")"
   ]
  },
  {
   "cell_type": "markdown",
   "id": "summary",
   "metadata": {},
   "source": [
    "## Summary\n",
    "\n",
    "This notebook demonstrated how to:\n",
    "1. Retrieve migration flows data from the Census API using pytidycensus\n",
    "2. Process the data into origin-destination arrays\n",
    "3. Create an interactive visualization using lonboard's BrushingExtension\n",
    "4. Analyze migration patterns in Texas counties\n",
    "\n",
    "The BrushingExtension makes it easy to explore local migration patterns by hovering over different regions of the map.\n",
    "\n",
    "### Next Steps\n",
    "- Try different states or years\n",
    "- Adjust the `brushing_radius` to change the hover area\n",
    "- Modify the flow threshold (currently 50) to show more or fewer connections\n",
    "- Add demographic breakdowns using the `breakdown` parameter in `get_flows()`"
   ]
  }
 ],
 "metadata": {
  "kernelspec": {
   "display_name": "census",
   "language": "python",
   "name": "python3"
  },
  "language_info": {
   "codemirror_mode": {
    "name": "ipython",
    "version": 3
   },
   "file_extension": ".py",
   "mimetype": "text/x-python",
   "name": "python",
   "nbconvert_exporter": "python",
   "pygments_lexer": "ipython3",
   "version": "3.11.13"
  }
 },
 "nbformat": 4,
 "nbformat_minor": 5
}
