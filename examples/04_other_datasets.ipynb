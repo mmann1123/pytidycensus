{
 "cells": [
  {
   "cell_type": "markdown",
   "metadata": {},
   "source": [
    "# Other Census Bureau datasets\n",
    "\n",
    "[![Open in Colab](https://colab.research.google.com/assets/colab-badge.svg)](https://colab.research.google.com/github/mmann1123/pytidycensus/blob/main/examples/04_other_datasets.ipynb)\n",
    "\n",
    "Exploring Population Estimates and other Census datasets beyond ACS and Decennial Census."
   ]
  },
  {
   "cell_type": "code",
   "execution_count": null,
   "metadata": {},
   "outputs": [
    {
     "name": "stdout",
     "output_type": "stream",
     "text": [
      "Census API key has been set for this session.\n"
     ]
    }
   ],
   "source": [
    "import pytidycensus as tc\n",
    "import pandas as pd\n",
    "import matplotlib.pyplot as plt\n",
    "\n",
    "tc.set_census_api_key(\"YOUR API KEY GOES HERE\")\n",
    "\n",
    "\n",
    "## Not implemented in pytidycensus yet"
   ]
  },
  {
   "cell_type": "markdown",
   "metadata": {},
   "source": [
    "## Population Estimates\n",
    "\n",
    "The Population Estimates Program provides annual updates on population characteristics."
   ]
  },
  {
   "cell_type": "code",
   "execution_count": 5,
   "metadata": {},
   "outputs": [
    {
     "name": "stdout",
     "output_type": "stream",
     "text": [
      "Getting data from the 2022 Population Estimates Program\n"
     ]
    },
    {
     "ename": "Exception",
     "evalue": "Failed to retrieve population estimates: Failed to fetch data from Census API: 404 Client Error:  for url: https://api.census.gov/data/2022/pep/population?get=POP&key=983980b9fc504149e82117c949d7ed44653dc507&for=state%3A%2A",
     "output_type": "error",
     "traceback": [
      "\u001b[31m---------------------------------------------------------------------------\u001b[39m",
      "\u001b[31mHTTPError\u001b[39m                                 Traceback (most recent call last)",
      "\u001b[36mFile \u001b[39m\u001b[32m~/Documents/github/pytidycensus/pytidycensus/api.py:147\u001b[39m, in \u001b[36mCensusAPI.get\u001b[39m\u001b[34m(self, year, dataset, variables, geography, survey, show_call)\u001b[39m\n\u001b[32m    146\u001b[39m response = \u001b[38;5;28mself\u001b[39m.session.get(url, params=params, timeout=\u001b[32m30\u001b[39m)\n\u001b[32m--> \u001b[39m\u001b[32m147\u001b[39m \u001b[43mresponse\u001b[49m\u001b[43m.\u001b[49m\u001b[43mraise_for_status\u001b[49m\u001b[43m(\u001b[49m\u001b[43m)\u001b[49m\n\u001b[32m    149\u001b[39m \u001b[38;5;28;01mtry\u001b[39;00m:\n",
      "\u001b[36mFile \u001b[39m\u001b[32m~/miniconda3/envs/test2/lib/python3.11/site-packages/requests/models.py:1026\u001b[39m, in \u001b[36mResponse.raise_for_status\u001b[39m\u001b[34m(self)\u001b[39m\n\u001b[32m   1025\u001b[39m \u001b[38;5;28;01mif\u001b[39;00m http_error_msg:\n\u001b[32m-> \u001b[39m\u001b[32m1026\u001b[39m     \u001b[38;5;28;01mraise\u001b[39;00m HTTPError(http_error_msg, response=\u001b[38;5;28mself\u001b[39m)\n",
      "\u001b[31mHTTPError\u001b[39m: 404 Client Error:  for url: https://api.census.gov/data/2022/pep/population?get=POP&key=983980b9fc504149e82117c949d7ed44653dc507&for=state%3A%2A",
      "\nDuring handling of the above exception, another exception occurred:\n",
      "\u001b[31mRequestException\u001b[39m                          Traceback (most recent call last)",
      "\u001b[36mFile \u001b[39m\u001b[32m~/Documents/github/pytidycensus/pytidycensus/estimates.py:136\u001b[39m, in \u001b[36mget_estimates\u001b[39m\u001b[34m(geography, variables, breakdown, breakdown_labels, year, state, county, time_series, output, geometry, keep_geo_vars, api_key, show_call, **kwargs)\u001b[39m\n\u001b[32m    134\u001b[39m \u001b[38;5;28mprint\u001b[39m(\u001b[33mf\u001b[39m\u001b[33m\"\u001b[39m\u001b[33mGetting data from the \u001b[39m\u001b[38;5;132;01m{\u001b[39;00myear\u001b[38;5;132;01m}\u001b[39;00m\u001b[33m Population Estimates Program\u001b[39m\u001b[33m\"\u001b[39m)\n\u001b[32m--> \u001b[39m\u001b[32m136\u001b[39m data = \u001b[43mapi\u001b[49m\u001b[43m.\u001b[49m\u001b[43mget\u001b[49m\u001b[43m(\u001b[49m\n\u001b[32m    137\u001b[39m \u001b[43m    \u001b[49m\u001b[43myear\u001b[49m\u001b[43m=\u001b[49m\u001b[43myear\u001b[49m\u001b[43m,\u001b[49m\n\u001b[32m    138\u001b[39m \u001b[43m    \u001b[49m\u001b[43mdataset\u001b[49m\u001b[43m=\u001b[49m\u001b[43mdataset_path\u001b[49m\u001b[43m,\u001b[49m\n\u001b[32m    139\u001b[39m \u001b[43m    \u001b[49m\u001b[43mvariables\u001b[49m\u001b[43m=\u001b[49m\u001b[43mall_variables\u001b[49m\u001b[43m,\u001b[49m\n\u001b[32m    140\u001b[39m \u001b[43m    \u001b[49m\u001b[43mgeography\u001b[49m\u001b[43m=\u001b[49m\u001b[43mgeo_params\u001b[49m\u001b[43m,\u001b[49m\n\u001b[32m    141\u001b[39m \u001b[43m    \u001b[49m\u001b[43mshow_call\u001b[49m\u001b[43m=\u001b[49m\u001b[43mshow_call\u001b[49m\u001b[43m,\u001b[49m\n\u001b[32m    142\u001b[39m \u001b[43m\u001b[49m\u001b[43m)\u001b[49m\n\u001b[32m    144\u001b[39m \u001b[38;5;66;03m# Process data\u001b[39;00m\n",
      "\u001b[36mFile \u001b[39m\u001b[32m~/Documents/github/pytidycensus/pytidycensus/api.py:172\u001b[39m, in \u001b[36mCensusAPI.get\u001b[39m\u001b[34m(self, year, dataset, variables, geography, survey, show_call)\u001b[39m\n\u001b[32m    171\u001b[39m \u001b[38;5;28;01mexcept\u001b[39;00m requests.RequestException \u001b[38;5;28;01mas\u001b[39;00m e:\n\u001b[32m--> \u001b[39m\u001b[32m172\u001b[39m     \u001b[38;5;28;01mraise\u001b[39;00m requests.RequestException(\n\u001b[32m    173\u001b[39m         \u001b[33mf\u001b[39m\u001b[33m\"\u001b[39m\u001b[33mFailed to fetch data from Census API: \u001b[39m\u001b[38;5;132;01m{\u001b[39;00me\u001b[38;5;132;01m}\u001b[39;00m\u001b[33m\"\u001b[39m\n\u001b[32m    174\u001b[39m     )\n",
      "\u001b[31mRequestException\u001b[39m: Failed to fetch data from Census API: 404 Client Error:  for url: https://api.census.gov/data/2022/pep/population?get=POP&key=983980b9fc504149e82117c949d7ed44653dc507&for=state%3A%2A",
      "\nDuring handling of the above exception, another exception occurred:\n",
      "\u001b[31mException\u001b[39m                                 Traceback (most recent call last)",
      "\u001b[36mCell\u001b[39m\u001b[36m \u001b[39m\u001b[32mIn[5]\u001b[39m\u001b[32m, line 2\u001b[39m\n\u001b[32m      1\u001b[39m \u001b[38;5;66;03m# Get population estimates for US states\u001b[39;00m\n\u001b[32m----> \u001b[39m\u001b[32m2\u001b[39m us_pop_estimates = \u001b[43mtc\u001b[49m\u001b[43m.\u001b[49m\u001b[43mget_estimates\u001b[49m\u001b[43m(\u001b[49m\n\u001b[32m      3\u001b[39m \u001b[43m    \u001b[49m\u001b[43mgeography\u001b[49m\u001b[43m=\u001b[49m\u001b[33;43m\"\u001b[39;49m\u001b[33;43mstate\u001b[39;49m\u001b[33;43m\"\u001b[39;49m\u001b[43m,\u001b[49m\n\u001b[32m      4\u001b[39m \u001b[43m    \u001b[49m\u001b[43mvariables\u001b[49m\u001b[43m=\u001b[49m\u001b[33;43m\"\u001b[39;49m\u001b[33;43mPOP\u001b[39;49m\u001b[33;43m\"\u001b[39;49m\u001b[43m,\u001b[49m\n\u001b[32m      5\u001b[39m \u001b[43m    \u001b[49m\u001b[43myear\u001b[49m\u001b[43m=\u001b[49m\u001b[32;43m2022\u001b[39;49m\n\u001b[32m      6\u001b[39m \u001b[43m)\u001b[49m\n\u001b[32m      8\u001b[39m \u001b[38;5;28mprint\u001b[39m(\u001b[33mf\u001b[39m\u001b[33m\"\u001b[39m\u001b[33mShape: \u001b[39m\u001b[38;5;132;01m{\u001b[39;00mus_pop_estimates.shape\u001b[38;5;132;01m}\u001b[39;00m\u001b[33m\"\u001b[39m)\n\u001b[32m      9\u001b[39m us_pop_estimates.head()\n",
      "\u001b[36mFile \u001b[39m\u001b[32m~/Documents/github/pytidycensus/pytidycensus/estimates.py:173\u001b[39m, in \u001b[36mget_estimates\u001b[39m\u001b[34m(geography, variables, breakdown, breakdown_labels, year, state, county, time_series, output, geometry, keep_geo_vars, api_key, show_call, **kwargs)\u001b[39m\n\u001b[32m    170\u001b[39m     \u001b[38;5;28;01mreturn\u001b[39;00m df\n\u001b[32m    172\u001b[39m \u001b[38;5;28;01mexcept\u001b[39;00m \u001b[38;5;167;01mException\u001b[39;00m \u001b[38;5;28;01mas\u001b[39;00m e:\n\u001b[32m--> \u001b[39m\u001b[32m173\u001b[39m     \u001b[38;5;28;01mraise\u001b[39;00m \u001b[38;5;167;01mException\u001b[39;00m(\u001b[33mf\u001b[39m\u001b[33m\"\u001b[39m\u001b[33mFailed to retrieve population estimates: \u001b[39m\u001b[38;5;132;01m{\u001b[39;00m\u001b[38;5;28mstr\u001b[39m(e)\u001b[38;5;132;01m}\u001b[39;00m\u001b[33m\"\u001b[39m)\n",
      "\u001b[31mException\u001b[39m: Failed to retrieve population estimates: Failed to fetch data from Census API: 404 Client Error:  for url: https://api.census.gov/data/2022/pep/population?get=POP&key=983980b9fc504149e82117c949d7ed44653dc507&for=state%3A%2A"
     ]
    }
   ],
   "source": [
    "# Get population estimates for US states\n",
    "us_pop_estimates = tc.get_estimates(\n",
    "    geography=\"state\",\n",
    "    variables=\"POP\",\n",
    "    year=2022\n",
    ")\n",
    "\n",
    "print(f\"Shape: {us_pop_estimates.shape}\")\n",
    "us_pop_estimates.head()"
   ]
  },
  {
   "cell_type": "markdown",
   "metadata": {},
   "source": [
    "## Components of Population Change"
   ]
  },
  {
   "cell_type": "code",
   "execution_count": null,
   "metadata": {},
   "outputs": [],
   "source": [
    "# Get components of change data\n",
    "us_components = tc.get_estimates(\n",
    "    geography=\"state\",\n",
    "    variables=[\"BIRTHS\", \"DEATHS\", \"DOMESTICMIG\", \"INTERNATIONALMIG\"],\n",
    "    year=2022\n",
    ")\n",
    "\n",
    "print(\"Available components of change:\")\n",
    "print(us_components['variable'].unique())"
   ]
  },
  {
   "cell_type": "markdown",
   "metadata": {},
   "source": [
    "## Mapping Population Estimates\n",
    "\n",
    "Let's create a map of net migration rates:"
   ]
  },
  {
   "cell_type": "code",
   "execution_count": null,
   "metadata": {},
   "outputs": [],
   "source": [
    "# Get net migration for counties with geometry\n",
    "net_migration = tc.get_estimates(\n",
    "    geography=\"county\",\n",
    "    variables=\"RNETMIG\",  # Net migration rate\n",
    "    year=2022,\n",
    "    geometry=True\n",
    ")\n",
    "\n",
    "# Create migration categories\n",
    "net_migration['migration_category'] = pd.cut(\n",
    "    net_migration['value'],\n",
    "    bins=[-float('inf'), -10, -5, 5, 10, float('inf')],\n",
    "    labels=['High Out-migration', 'Moderate Out-migration', 'Stable', \n",
    "           'Moderate In-migration', 'High In-migration']\n",
    ")\n",
    "\n",
    "# Plot map\n",
    "fig, ax = plt.subplots(figsize=(15, 10))\n",
    "net_migration.plot(column='migration_category', legend=True, ax=ax)\n",
    "ax.set_title('Net Migration Rates by County (2022)')\n",
    "ax.set_axis_off()\n",
    "plt.show()"
   ]
  }
 ],
 "metadata": {
  "kernelspec": {
   "display_name": "test2",
   "language": "python",
   "name": "python3"
  },
  "language_info": {
   "codemirror_mode": {
    "name": "ipython",
    "version": 3
   },
   "file_extension": ".py",
   "mimetype": "text/x-python",
   "name": "python",
   "nbconvert_exporter": "python",
   "pygments_lexer": "ipython3",
   "version": "3.11.13"
  }
 },
 "nbformat": 4,
 "nbformat_minor": 4
}
