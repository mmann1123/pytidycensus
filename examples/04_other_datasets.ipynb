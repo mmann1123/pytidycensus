{
 "cells": [
  {
   "cell_type": "markdown",
   "metadata": {},
   "source": [
    "# Other Census Bureau datasets\n",
    "\n",
    "[![Open in Colab](https://colab.research.google.com/assets/colab-badge.svg)](https://colab.research.google.com/github/mmann1123/pytidycensus/blob/main/examples/04_other_datasets.ipynb)\n",
    "\n",
    "Exploring Population Estimates and other Census datasets beyond ACS and Decennial Census."
   ]
  },
  {
   "cell_type": "code",
   "execution_count": null,
   "metadata": {},
   "outputs": [],
   "source": [
    "import pytidycensus as tc\n",
    "import pandas as pd\n",
    "import matplotlib.pyplot as plt\n",
    "\n",
    "tc.set_census_api_key(\"YOUR API KEY GOES HERE\")"
   ]
  },
  {
   "cell_type": "markdown",
   "metadata": {},
   "source": [
    "## Population Estimates\n",
    "\n",
    "The Population Estimates Program provides annual updates on population characteristics."
   ]
  },
  {
   "cell_type": "code",
   "execution_count": null,
   "metadata": {},
   "outputs": [],
   "source": [
    "# Get population estimates for US states\n",
    "us_pop_estimates = tc.get_estimates(\n",
    "    geography=\"state\",\n",
    "    variables=\"POP\",\n",
    "    year=2022\n",
    ")\n",
    "\n",
    "print(f\"Shape: {us_pop_estimates.shape}\")\n",
    "us_pop_estimates.head()"
   ]
  },
  {
   "cell_type": "markdown",
   "metadata": {},
   "source": [
    "## Components of Population Change"
   ]
  },
  {
   "cell_type": "code",
   "execution_count": null,
   "metadata": {},
   "outputs": [],
   "source": [
    "# Get components of change data\n",
    "us_components = tc.get_estimates(\n",
    "    geography=\"state\",\n",
    "    variables=[\"BIRTHS\", \"DEATHS\", \"DOMESTICMIG\", \"INTERNATIONALMIG\"],\n",
    "    year=2022\n",
    ")\n",
    "\n",
    "print(\"Available components of change:\")\n",
    "print(us_components['variable'].unique())"
   ]
  },
  {
   "cell_type": "markdown",
   "metadata": {},
   "source": [
    "## Mapping Population Estimates\n",
    "\n",
    "Let's create a map of net migration rates:"
   ]
  },
  {
   "cell_type": "code",
   "execution_count": null,
   "metadata": {},
   "outputs": [],
   "source": [
    "# Get net migration for counties with geometry\n",
    "net_migration = tc.get_estimates(\n",
    "    geography=\"county\",\n",
    "    variables=\"RNETMIG\",  # Net migration rate\n",
    "    year=2022,\n",
    "    geometry=True\n",
    ")\n",
    "\n",
    "# Create migration categories\n",
    "net_migration['migration_category'] = pd.cut(\n",
    "    net_migration['value'],\n",
    "    bins=[-float('inf'), -10, -5, 5, 10, float('inf')],\n",
    "    labels=['High Out-migration', 'Moderate Out-migration', 'Stable', \n",
    "           'Moderate In-migration', 'High In-migration']\n",
    ")\n",
    "\n",
    "# Plot map\n",
    "fig, ax = plt.subplots(figsize=(15, 10))\n",
    "net_migration.plot(column='migration_category', legend=True, ax=ax)\n",
    "ax.set_title('Net Migration Rates by County (2022)')\n",
    "ax.set_axis_off()\n",
    "plt.show()"
   ]
  }
 ],
 "metadata": {
  "kernelspec": {
   "display_name": "Python 3",
   "language": "python",
   "name": "python3"
  },
  "language_info": {
   "name": "python",
   "version": "3.9.0"
  }
 },
 "nbformat": 4,
 "nbformat_minor": 4
}