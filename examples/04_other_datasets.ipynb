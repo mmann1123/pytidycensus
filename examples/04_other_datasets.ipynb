{
 "cells": [
  {
   "cell_type": "markdown",
   "metadata": {},
   "source": [
    "# Other Census Bureau datasets\n",
    "\n",
    "[![Open in Colab](https://colab.research.google.com/assets/colab-badge.svg)](https://colab.research.google.com/github/mmann1123/pytidycensus/blob/main/examples/04_other_datasets.ipynb)\n",
    "\n",
    "Exploring Population Estimates and other Census datasets beyond ACS and Decennial Census."
   ]
  },
  {
   "cell_type": "code",
   "execution_count": null,
   "metadata": {},
   "outputs": [
    {
     "name": "stdout",
     "output_type": "stream",
     "text": [
      "Census API key has been set for this session.\n"
     ]
    }
   ],
   "source": [
    "import pytidycensus as tc\n",
    "import pandas as pd\n",
    "import matplotlib.pyplot as plt\n",
    "\n",
    "tc.set_census_api_key(\"YOUR API KEY GOES HERE\")\n",
    "\n",
    "\n",
    "## Not implemented in pytidycensus yet"
   ]
  },
  {
   "cell_type": "markdown",
   "metadata": {},
   "source": [
    "## Population Estimates\n",
    "\n",
    "The Population Estimates Program provides annual updates on population characteristics."
   ]
  },
  {
   "cell_type": "code",
   "execution_count": 2,
   "metadata": {},
   "outputs": [
    {
     "name": "stdout",
     "output_type": "stream",
     "text": [
      "Getting data from the 2024 Population Estimates Program (vintage 2024)\n",
      "Shape: (52, 3)\n"
     ]
    },
    {
     "name": "stderr",
     "output_type": "stream",
     "text": [
      "/home/mmann1123/miniconda3/envs/test2/lib/python3.11/site-packages/pytidycensus/estimates.py:518: UserWarning: Using vintage 2024 data for year 2022. Consider setting vintage=2022 if available.\n",
      "  warnings.warn(\n"
     ]
    },
    {
     "data": {
      "application/vnd.microsoft.datawrangler.viewer.v0+json": {
       "columns": [
        {
         "name": "index",
         "rawType": "int64",
         "type": "integer"
        },
        {
         "name": "GEOID",
         "rawType": "object",
         "type": "string"
        },
        {
         "name": "NAME",
         "rawType": "object",
         "type": "string"
        },
        {
         "name": "POPESTIMATE2022",
         "rawType": "int64",
         "type": "integer"
        }
       ],
       "ref": "46ec3f45-2a56-4eb3-a0b1-0726f99e4b16",
       "rows": [
        [
         "14",
         "01",
         "Alabama",
         "5076181"
        ],
        [
         "15",
         "02",
         "Alaska",
         "734442"
        ],
        [
         "16",
         "04",
         "Arizona",
         "7377566"
        ],
        [
         "17",
         "05",
         "Arkansas",
         "3047704"
        ],
        [
         "18",
         "06",
         "California",
         "39142414"
        ]
       ],
       "shape": {
        "columns": 3,
        "rows": 5
       }
      },
      "text/html": [
       "<div>\n",
       "<style scoped>\n",
       "    .dataframe tbody tr th:only-of-type {\n",
       "        vertical-align: middle;\n",
       "    }\n",
       "\n",
       "    .dataframe tbody tr th {\n",
       "        vertical-align: top;\n",
       "    }\n",
       "\n",
       "    .dataframe thead th {\n",
       "        text-align: right;\n",
       "    }\n",
       "</style>\n",
       "<table border=\"1\" class=\"dataframe\">\n",
       "  <thead>\n",
       "    <tr style=\"text-align: right;\">\n",
       "      <th></th>\n",
       "      <th>GEOID</th>\n",
       "      <th>NAME</th>\n",
       "      <th>POPESTIMATE2022</th>\n",
       "    </tr>\n",
       "  </thead>\n",
       "  <tbody>\n",
       "    <tr>\n",
       "      <th>14</th>\n",
       "      <td>01</td>\n",
       "      <td>Alabama</td>\n",
       "      <td>5076181</td>\n",
       "    </tr>\n",
       "    <tr>\n",
       "      <th>15</th>\n",
       "      <td>02</td>\n",
       "      <td>Alaska</td>\n",
       "      <td>734442</td>\n",
       "    </tr>\n",
       "    <tr>\n",
       "      <th>16</th>\n",
       "      <td>04</td>\n",
       "      <td>Arizona</td>\n",
       "      <td>7377566</td>\n",
       "    </tr>\n",
       "    <tr>\n",
       "      <th>17</th>\n",
       "      <td>05</td>\n",
       "      <td>Arkansas</td>\n",
       "      <td>3047704</td>\n",
       "    </tr>\n",
       "    <tr>\n",
       "      <th>18</th>\n",
       "      <td>06</td>\n",
       "      <td>California</td>\n",
       "      <td>39142414</td>\n",
       "    </tr>\n",
       "  </tbody>\n",
       "</table>\n",
       "</div>"
      ],
      "text/plain": [
       "   GEOID        NAME  POPESTIMATE2022\n",
       "14    01     Alabama          5076181\n",
       "15    02      Alaska           734442\n",
       "16    04     Arizona          7377566\n",
       "17    05    Arkansas          3047704\n",
       "18    06  California         39142414"
      ]
     },
     "execution_count": 2,
     "metadata": {},
     "output_type": "execute_result"
    }
   ],
   "source": [
    "# Get population estimates for US states\n",
    "us_pop_estimates = tc.get_estimates(\n",
    "    geography=\"state\",\n",
    "    variables=\"POP\",\n",
    "    year=2022\n",
    ")\n",
    "\n",
    "print(f\"Shape: {us_pop_estimates.shape}\")\n",
    "us_pop_estimates.head()"
   ]
  },
  {
   "cell_type": "markdown",
   "metadata": {},
   "source": [
    "## Components of Population Change"
   ]
  },
  {
   "cell_type": "code",
   "execution_count": 4,
   "metadata": {},
   "outputs": [
    {
     "name": "stdout",
     "output_type": "stream",
     "text": [
      "Getting data from the 2024 Population Estimates Program (vintage 2024)\n",
      "Available components of change:\n",
      "['BIRTHS2022' 'DEATHS2022' 'DOMESTICMIG2022' 'INTERNATIONALMIG2022']\n"
     ]
    },
    {
     "name": "stderr",
     "output_type": "stream",
     "text": [
      "/home/mmann1123/miniconda3/envs/test2/lib/python3.11/site-packages/pytidycensus/estimates.py:518: UserWarning: Using vintage 2024 data for year 2022. Consider setting vintage=2022 if available.\n",
      "  warnings.warn(\n"
     ]
    },
    {
     "data": {
      "application/vnd.microsoft.datawrangler.viewer.v0+json": {
       "columns": [
        {
         "name": "index",
         "rawType": "int64",
         "type": "integer"
        },
        {
         "name": "GEOID",
         "rawType": "object",
         "type": "string"
        },
        {
         "name": "NAME",
         "rawType": "object",
         "type": "string"
        },
        {
         "name": "variable",
         "rawType": "object",
         "type": "string"
        },
        {
         "name": "estimate",
         "rawType": "int64",
         "type": "integer"
        }
       ],
       "ref": "4a578554-7676-4c54-94b3-eb6c1a991811",
       "rows": [
        [
         "0",
         "01",
         "Alabama",
         "BIRTHS2022",
         "58103"
        ],
        [
         "1",
         "02",
         "Alaska",
         "BIRTHS2022",
         "9359"
        ],
        [
         "2",
         "04",
         "Arizona",
         "BIRTHS2022",
         "79173"
        ],
        [
         "3",
         "05",
         "Arkansas",
         "BIRTHS2022",
         "36115"
        ],
        [
         "4",
         "06",
         "California",
         "BIRTHS2022",
         "424071"
        ],
        [
         "5",
         "08",
         "Colorado",
         "BIRTHS2022",
         "62659"
        ],
        [
         "6",
         "09",
         "Connecticut",
         "BIRTHS2022",
         "35637"
        ],
        [
         "7",
         "10",
         "Delaware",
         "BIRTHS2022",
         "10849"
        ],
        [
         "8",
         "11",
         "District of Columbia",
         "BIRTHS2022",
         "8502"
        ],
        [
         "9",
         "12",
         "Florida",
         "BIRTHS2022",
         "221941"
        ],
        [
         "10",
         "13",
         "Georgia",
         "BIRTHS2022",
         "125616"
        ],
        [
         "11",
         "15",
         "Hawaii",
         "BIRTHS2022",
         "15730"
        ],
        [
         "12",
         "16",
         "Idaho",
         "BIRTHS2022",
         "22384"
        ],
        [
         "13",
         "17",
         "Illinois",
         "BIRTHS2022",
         "129795"
        ],
        [
         "14",
         "18",
         "Indiana",
         "BIRTHS2022",
         "80484"
        ],
        [
         "15",
         "19",
         "Iowa",
         "BIRTHS2022",
         "36825"
        ],
        [
         "16",
         "20",
         "Kansas",
         "BIRTHS2022",
         "34399"
        ],
        [
         "17",
         "21",
         "Kentucky",
         "BIRTHS2022",
         "52300"
        ],
        [
         "18",
         "22",
         "Louisiana",
         "BIRTHS2022",
         "56482"
        ],
        [
         "19",
         "23",
         "Maine",
         "BIRTHS2022",
         "12059"
        ],
        [
         "20",
         "24",
         "Maryland",
         "BIRTHS2022",
         "69084"
        ],
        [
         "21",
         "25",
         "Massachusetts",
         "BIRTHS2022",
         "68959"
        ],
        [
         "22",
         "26",
         "Michigan",
         "BIRTHS2022",
         "104459"
        ],
        [
         "23",
         "27",
         "Minnesota",
         "BIRTHS2022",
         "64651"
        ],
        [
         "24",
         "28",
         "Mississippi",
         "BIRTHS2022",
         "34925"
        ],
        [
         "25",
         "29",
         "Missouri",
         "BIRTHS2022",
         "68942"
        ],
        [
         "26",
         "30",
         "Montana",
         "BIRTHS2022",
         "11182"
        ],
        [
         "27",
         "31",
         "Nebraska",
         "BIRTHS2022",
         "24248"
        ],
        [
         "28",
         "32",
         "Nevada",
         "BIRTHS2022",
         "33533"
        ],
        [
         "29",
         "33",
         "New Hampshire",
         "BIRTHS2022",
         "12283"
        ],
        [
         "30",
         "34",
         "New Jersey",
         "BIRTHS2022",
         "102676"
        ],
        [
         "31",
         "35",
         "New Mexico",
         "BIRTHS2022",
         "21441"
        ],
        [
         "32",
         "36",
         "New York",
         "BIRTHS2022",
         "209913"
        ],
        [
         "33",
         "37",
         "North Carolina",
         "BIRTHS2022",
         "121588"
        ],
        [
         "34",
         "38",
         "North Dakota",
         "BIRTHS2022",
         "9800"
        ],
        [
         "35",
         "39",
         "Ohio",
         "BIRTHS2022",
         "128860"
        ],
        [
         "36",
         "40",
         "Oklahoma",
         "BIRTHS2022",
         "48249"
        ],
        [
         "37",
         "41",
         "Oregon",
         "BIRTHS2022",
         "40450"
        ],
        [
         "38",
         "42",
         "Pennsylvania",
         "BIRTHS2022",
         "131688"
        ],
        [
         "39",
         "44",
         "Rhode Island",
         "BIRTHS2022",
         "10445"
        ],
        [
         "40",
         "45",
         "South Carolina",
         "BIRTHS2022",
         "57613"
        ],
        [
         "41",
         "46",
         "South Dakota",
         "BIRTHS2022",
         "11254"
        ],
        [
         "42",
         "47",
         "Tennessee",
         "BIRTHS2022",
         "82091"
        ],
        [
         "43",
         "48",
         "Texas",
         "BIRTHS2022",
         "384352"
        ],
        [
         "44",
         "49",
         "Utah",
         "BIRTHS2022",
         "46280"
        ],
        [
         "45",
         "50",
         "Vermont",
         "BIRTHS2022",
         "5401"
        ],
        [
         "46",
         "51",
         "Virginia",
         "BIRTHS2022",
         "95620"
        ],
        [
         "47",
         "53",
         "Washington",
         "BIRTHS2022",
         "83978"
        ],
        [
         "48",
         "54",
         "West Virginia",
         "BIRTHS2022",
         "17028"
        ],
        [
         "49",
         "55",
         "Wisconsin",
         "BIRTHS2022",
         "60782"
        ]
       ],
       "shape": {
        "columns": 4,
        "rows": 208
       }
      },
      "text/html": [
       "<div>\n",
       "<style scoped>\n",
       "    .dataframe tbody tr th:only-of-type {\n",
       "        vertical-align: middle;\n",
       "    }\n",
       "\n",
       "    .dataframe tbody tr th {\n",
       "        vertical-align: top;\n",
       "    }\n",
       "\n",
       "    .dataframe thead th {\n",
       "        text-align: right;\n",
       "    }\n",
       "</style>\n",
       "<table border=\"1\" class=\"dataframe\">\n",
       "  <thead>\n",
       "    <tr style=\"text-align: right;\">\n",
       "      <th></th>\n",
       "      <th>GEOID</th>\n",
       "      <th>NAME</th>\n",
       "      <th>variable</th>\n",
       "      <th>estimate</th>\n",
       "    </tr>\n",
       "  </thead>\n",
       "  <tbody>\n",
       "    <tr>\n",
       "      <th>0</th>\n",
       "      <td>01</td>\n",
       "      <td>Alabama</td>\n",
       "      <td>BIRTHS2022</td>\n",
       "      <td>58103</td>\n",
       "    </tr>\n",
       "    <tr>\n",
       "      <th>1</th>\n",
       "      <td>02</td>\n",
       "      <td>Alaska</td>\n",
       "      <td>BIRTHS2022</td>\n",
       "      <td>9359</td>\n",
       "    </tr>\n",
       "    <tr>\n",
       "      <th>2</th>\n",
       "      <td>04</td>\n",
       "      <td>Arizona</td>\n",
       "      <td>BIRTHS2022</td>\n",
       "      <td>79173</td>\n",
       "    </tr>\n",
       "    <tr>\n",
       "      <th>3</th>\n",
       "      <td>05</td>\n",
       "      <td>Arkansas</td>\n",
       "      <td>BIRTHS2022</td>\n",
       "      <td>36115</td>\n",
       "    </tr>\n",
       "    <tr>\n",
       "      <th>4</th>\n",
       "      <td>06</td>\n",
       "      <td>California</td>\n",
       "      <td>BIRTHS2022</td>\n",
       "      <td>424071</td>\n",
       "    </tr>\n",
       "    <tr>\n",
       "      <th>...</th>\n",
       "      <td>...</td>\n",
       "      <td>...</td>\n",
       "      <td>...</td>\n",
       "      <td>...</td>\n",
       "    </tr>\n",
       "    <tr>\n",
       "      <th>203</th>\n",
       "      <td>53</td>\n",
       "      <td>Washington</td>\n",
       "      <td>INTERNATIONALMIG2022</td>\n",
       "      <td>43544</td>\n",
       "    </tr>\n",
       "    <tr>\n",
       "      <th>204</th>\n",
       "      <td>54</td>\n",
       "      <td>West Virginia</td>\n",
       "      <td>INTERNATIONALMIG2022</td>\n",
       "      <td>1673</td>\n",
       "    </tr>\n",
       "    <tr>\n",
       "      <th>205</th>\n",
       "      <td>55</td>\n",
       "      <td>Wisconsin</td>\n",
       "      <td>INTERNATIONALMIG2022</td>\n",
       "      <td>19693</td>\n",
       "    </tr>\n",
       "    <tr>\n",
       "      <th>206</th>\n",
       "      <td>56</td>\n",
       "      <td>Wyoming</td>\n",
       "      <td>INTERNATIONALMIG2022</td>\n",
       "      <td>551</td>\n",
       "    </tr>\n",
       "    <tr>\n",
       "      <th>207</th>\n",
       "      <td>72</td>\n",
       "      <td>Puerto Rico</td>\n",
       "      <td>INTERNATIONALMIG2022</td>\n",
       "      <td>-28141</td>\n",
       "    </tr>\n",
       "  </tbody>\n",
       "</table>\n",
       "<p>208 rows × 4 columns</p>\n",
       "</div>"
      ],
      "text/plain": [
       "    GEOID           NAME              variable  estimate\n",
       "0      01        Alabama            BIRTHS2022     58103\n",
       "1      02         Alaska            BIRTHS2022      9359\n",
       "2      04        Arizona            BIRTHS2022     79173\n",
       "3      05       Arkansas            BIRTHS2022     36115\n",
       "4      06     California            BIRTHS2022    424071\n",
       "..    ...            ...                   ...       ...\n",
       "203    53     Washington  INTERNATIONALMIG2022     43544\n",
       "204    54  West Virginia  INTERNATIONALMIG2022      1673\n",
       "205    55      Wisconsin  INTERNATIONALMIG2022     19693\n",
       "206    56        Wyoming  INTERNATIONALMIG2022       551\n",
       "207    72    Puerto Rico  INTERNATIONALMIG2022    -28141\n",
       "\n",
       "[208 rows x 4 columns]"
      ]
     },
     "execution_count": 4,
     "metadata": {},
     "output_type": "execute_result"
    }
   ],
   "source": [
    "# Get components of change data\n",
    "us_components = tc.get_estimates(\n",
    "    geography=\"state\",\n",
    "    variables=[\"BIRTHS\", \"DEATHS\", \"DOMESTICMIG\", \"INTERNATIONALMIG\"],\n",
    "    year=2022\n",
    ")\n",
    "\n",
    "print(\"Available components of change:\")\n",
    "print(us_components['variable'].unique())\n",
    "us_components"
   ]
  },
  {
   "cell_type": "markdown",
   "metadata": {},
   "source": [
    "## Mapping Population Estimates\n",
    "\n",
    "Let's create a map of net migration rates:"
   ]
  },
  {
   "cell_type": "code",
   "execution_count": 7,
   "metadata": {},
   "outputs": [
    {
     "name": "stderr",
     "output_type": "stream",
     "text": [
      "/home/mmann1123/miniconda3/envs/test2/lib/python3.11/site-packages/pytidycensus/estimates.py:518: UserWarning: Using vintage 2024 data for year 2022. Consider setting vintage=2022 if available.\n",
      "  warnings.warn(\n"
     ]
    },
    {
     "name": "stdout",
     "output_type": "stream",
     "text": [
      "Getting data from the 2024 Population Estimates Program (vintage 2024)\n",
      "Loading county boundaries...\n"
     ]
    },
    {
     "data": {
      "text/html": [
       "<div>\n",
       "<style scoped>\n",
       "    .dataframe tbody tr th:only-of-type {\n",
       "        vertical-align: middle;\n",
       "    }\n",
       "\n",
       "    .dataframe tbody tr th {\n",
       "        vertical-align: top;\n",
       "    }\n",
       "\n",
       "    .dataframe thead th {\n",
       "        text-align: right;\n",
       "    }\n",
       "</style>\n",
       "<table border=\"1\" class=\"dataframe\">\n",
       "  <thead>\n",
       "    <tr style=\"text-align: right;\">\n",
       "      <th></th>\n",
       "      <th>GEOID</th>\n",
       "      <th>NAME_x</th>\n",
       "      <th>geometry</th>\n",
       "      <th>STATEFP</th>\n",
       "      <th>COUNTYFP</th>\n",
       "      <th>NAMELSAD</th>\n",
       "      <th>NAME_y</th>\n",
       "      <th>RNETMIG2022</th>\n",
       "    </tr>\n",
       "  </thead>\n",
       "  <tbody>\n",
       "    <tr>\n",
       "      <th>0</th>\n",
       "      <td>31039</td>\n",
       "      <td>Cuming</td>\n",
       "      <td>POLYGON ((-96.55516 41.91587, -96.55515 41.914...</td>\n",
       "      <td>31</td>\n",
       "      <td>039</td>\n",
       "      <td>Cuming County</td>\n",
       "      <td>Cuming County, Nebraska</td>\n",
       "      <td>-2.672159</td>\n",
       "    </tr>\n",
       "    <tr>\n",
       "      <th>1</th>\n",
       "      <td>53069</td>\n",
       "      <td>Wahkiakum</td>\n",
       "      <td>POLYGON ((-123.72755 46.2645, -123.72756 46.26...</td>\n",
       "      <td>53</td>\n",
       "      <td>069</td>\n",
       "      <td>Wahkiakum County</td>\n",
       "      <td>Wahkiakum County, Washington</td>\n",
       "      <td>28.888649</td>\n",
       "    </tr>\n",
       "    <tr>\n",
       "      <th>2</th>\n",
       "      <td>35011</td>\n",
       "      <td>De Baca</td>\n",
       "      <td>POLYGON ((-104.89337 34.08894, -104.89337 34.0...</td>\n",
       "      <td>35</td>\n",
       "      <td>011</td>\n",
       "      <td>De Baca County</td>\n",
       "      <td>De Baca County, New Mexico</td>\n",
       "      <td>21.308079</td>\n",
       "    </tr>\n",
       "    <tr>\n",
       "      <th>3</th>\n",
       "      <td>31109</td>\n",
       "      <td>Lancaster</td>\n",
       "      <td>POLYGON ((-96.68493 40.5233, -96.69219 40.5231...</td>\n",
       "      <td>31</td>\n",
       "      <td>109</td>\n",
       "      <td>Lancaster County</td>\n",
       "      <td>Lancaster County, Nebraska</td>\n",
       "      <td>3.104867</td>\n",
       "    </tr>\n",
       "    <tr>\n",
       "      <th>4</th>\n",
       "      <td>31129</td>\n",
       "      <td>Nuckolls</td>\n",
       "      <td>POLYGON ((-98.2737 40.1184, -98.27374 40.1224,...</td>\n",
       "      <td>31</td>\n",
       "      <td>129</td>\n",
       "      <td>Nuckolls County</td>\n",
       "      <td>Nuckolls County, Nebraska</td>\n",
       "      <td>4.909783</td>\n",
       "    </tr>\n",
       "  </tbody>\n",
       "</table>\n",
       "</div>"
      ],
      "text/plain": [
       "   GEOID     NAME_x                                           geometry  \\\n",
       "0  31039     Cuming  POLYGON ((-96.55516 41.91587, -96.55515 41.914...   \n",
       "1  53069  Wahkiakum  POLYGON ((-123.72755 46.2645, -123.72756 46.26...   \n",
       "2  35011    De Baca  POLYGON ((-104.89337 34.08894, -104.89337 34.0...   \n",
       "3  31109  Lancaster  POLYGON ((-96.68493 40.5233, -96.69219 40.5231...   \n",
       "4  31129   Nuckolls  POLYGON ((-98.2737 40.1184, -98.27374 40.1224,...   \n",
       "\n",
       "  STATEFP COUNTYFP          NAMELSAD                        NAME_y  \\\n",
       "0      31      039     Cuming County       Cuming County, Nebraska   \n",
       "1      53      069  Wahkiakum County  Wahkiakum County, Washington   \n",
       "2      35      011    De Baca County    De Baca County, New Mexico   \n",
       "3      31      109  Lancaster County    Lancaster County, Nebraska   \n",
       "4      31      129   Nuckolls County     Nuckolls County, Nebraska   \n",
       "\n",
       "   RNETMIG2022  \n",
       "0    -2.672159  \n",
       "1    28.888649  \n",
       "2    21.308079  \n",
       "3     3.104867  \n",
       "4     4.909783  "
      ]
     },
     "execution_count": 7,
     "metadata": {},
     "output_type": "execute_result"
    }
   ],
   "source": [
    "# Get net migration for counties with geometry\n",
    "net_migration = tc.get_estimates(\n",
    "    geography=\"county\",\n",
    "    variables=\"RNETMIG\",  # Net migration rate\n",
    "    year=2022,\n",
    "    geometry=True\n",
    ")\n",
    "net_migration.head()"
   ]
  },
  {
   "cell_type": "code",
   "execution_count": 14,
   "metadata": {},
   "outputs": [
    {
     "data": {
      "image/png": "[encoded data removed]",
      "text/plain": [
       "<Figure size 1500x2000 with 1 Axes>"
      ]
     },
     "metadata": {},
     "output_type": "display_data"
    }
   ],
   "source": [
    "# Create migration categories\n",
    "net_migration[\"migration_category\"] = pd.cut(\n",
    "    net_migration[\"RNETMIG2022\"],\n",
    "    bins=[-float(\"inf\"), -10, -5, 5, 10, float(\"inf\")],\n",
    "    labels=[\n",
    "        \"High Out-migration\",\n",
    "        \"Moderate Out-migration\",\n",
    "        \"Stable\",\n",
    "        \"Moderate In-migration\",\n",
    "        \"High In-migration\",\n",
    "    ],\n",
    ")\n",
    "\n",
    "# Plot map\n",
    "fig, ax = plt.subplots(figsize=(15, 20))\n",
    "net_migration.plot(column=\"migration_category\", legend=True, ax=ax)\n",
    "ax.set_title(\"Net Migration Rates by County (2022)\")\n",
    "ax.set_axis_off()\n",
    "plt.show()"
   ]
  }
 ],
 "metadata": {
  "kernelspec": {
   "display_name": "test2",
   "language": "python",
   "name": "python3"
  },
  "language_info": {
   "codemirror_mode": {
    "name": "ipython",
    "version": 3
   },
   "file_extension": ".py",
   "mimetype": "text/x-python",
   "name": "python",
   "nbconvert_exporter": "python",
   "pygments_lexer": "ipython3",
   "version": "3.11.13"
  }
 },
 "nbformat": 4,
 "nbformat_minor": 4
}
