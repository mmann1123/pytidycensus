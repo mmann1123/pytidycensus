{
 "cells": [
  {
   "cell_type": "markdown",
   "metadata": {},
   "source": [
    "# Migration Flows with pytidycensus\n",
    "\n",
    "This notebook demonstrates how to use the `get_flows()` function in pytidycensus to retrieve migration flow data from the Census Migration Flows API.\n",
    "\n",
    "The Migration Flows API provides data on population movement between geographic areas based on American Community Survey (ACS) 5-year estimates."
   ]
  },
  {
   "cell_type": "code",
   "execution_count": 1,
   "metadata": {},
   "outputs": [],
   "source": [
    "import pytidycensus as tc\n",
    "import pandas as pd\n",
    "import matplotlib.pyplot as plt\n",
    "import numpy as np\n",
    "\n",
    "# Set your Census API key\n",
    "# tc.set_census_api_key(\"your_key_here\")"
   ]
  },
  {
   "cell_type": "markdown",
   "metadata": {},
   "source": [
    "## Basic County-to-County Migration Flows\n",
    "\n",
    "Let's start with basic county-to-county migration flows for Texas:"
   ]
  },
  {
   "cell_type": "code",
   "execution_count": 2,
   "metadata": {},
   "outputs": [
    {
     "name": "stdout",
     "output_type": "stream",
     "text": [
      "Shape: (36641, 10)\n",
      "Columns: ['GEOID1', 'GEOID2', 'FULL1_NAME', 'FULL2_NAME', 'MOVEDIN', 'MOVEDIN_M', 'MOVEDOUT', 'MOVEDOUT_M', 'MOVEDNET', 'MOVEDNET_M']\n"
     ]
    },
    {
     "data": {
      "application/vnd.microsoft.datawrangler.viewer.v0+json": {
       "columns": [
        {
         "name": "index",
         "rawType": "int64",
         "type": "integer"
        },
        {
         "name": "GEOID1",
         "rawType": "object",
         "type": "string"
        },
        {
         "name": "GEOID2",
         "rawType": "object",
         "type": "unknown"
        },
        {
         "name": "FULL1_NAME",
         "rawType": "object",
         "type": "string"
        },
        {
         "name": "FULL2_NAME",
         "rawType": "object",
         "type": "string"
        },
        {
         "name": "MOVEDIN",
         "rawType": "int64",
         "type": "integer"
        },
        {
         "name": "MOVEDIN_M",
         "rawType": "float64",
         "type": "float"
        },
        {
         "name": "MOVEDOUT",
         "rawType": "float64",
         "type": "float"
        },
        {
         "name": "MOVEDOUT_M",
         "rawType": "float64",
         "type": "float"
        },
        {
         "name": "MOVEDNET",
         "rawType": "float64",
         "type": "float"
        },
        {
         "name": "MOVEDNET_M",
         "rawType": "float64",
         "type": "float"
        }
       ],
       "ref": "edc26f80-0ca2-4b2b-a896-89d3252dbf9c",
       "rows": [
        [
         "0",
         "48001",
         null,
         "Anderson County, Texas",
         "Africa",
         "38",
         "52.0",
         null,
         null,
         null,
         null
        ],
        [
         "1",
         "48001",
         null,
         "Anderson County, Texas",
         "Asia",
         "4",
         "6.0",
         null,
         null,
         null,
         null
        ],
        [
         "2",
         "48001",
         null,
         "Anderson County, Texas",
         "Central America",
         "2",
         "3.0",
         null,
         null,
         null,
         null
        ],
        [
         "3",
         "48001",
         "01089",
         "Anderson County, Texas",
         "Madison County, Alabama",
         "13",
         "20.0",
         "0.0",
         "28.0",
         "13.0",
         "20.0"
        ],
        [
         "4",
         "48001",
         "02016",
         "Anderson County, Texas",
         "Aleutians West Census Area, Alaska",
         "0",
         "31.0",
         "7.0",
         "9.0",
         "-7.0",
         "9.0"
        ]
       ],
       "shape": {
        "columns": 10,
        "rows": 5
       }
      },
      "text/html": [
       "<div>\n",
       "<style scoped>\n",
       "    .dataframe tbody tr th:only-of-type {\n",
       "        vertical-align: middle;\n",
       "    }\n",
       "\n",
       "    .dataframe tbody tr th {\n",
       "        vertical-align: top;\n",
       "    }\n",
       "\n",
       "    .dataframe thead th {\n",
       "        text-align: right;\n",
       "    }\n",
       "</style>\n",
       "<table border=\"1\" class=\"dataframe\">\n",
       "  <thead>\n",
       "    <tr style=\"text-align: right;\">\n",
       "      <th></th>\n",
       "      <th>GEOID1</th>\n",
       "      <th>GEOID2</th>\n",
       "      <th>FULL1_NAME</th>\n",
       "      <th>FULL2_NAME</th>\n",
       "      <th>MOVEDIN</th>\n",
       "      <th>MOVEDIN_M</th>\n",
       "      <th>MOVEDOUT</th>\n",
       "      <th>MOVEDOUT_M</th>\n",
       "      <th>MOVEDNET</th>\n",
       "      <th>MOVEDNET_M</th>\n",
       "    </tr>\n",
       "  </thead>\n",
       "  <tbody>\n",
       "    <tr>\n",
       "      <th>0</th>\n",
       "      <td>48001</td>\n",
       "      <td>None</td>\n",
       "      <td>Anderson County, Texas</td>\n",
       "      <td>Africa</td>\n",
       "      <td>38</td>\n",
       "      <td>52.0</td>\n",
       "      <td>NaN</td>\n",
       "      <td>NaN</td>\n",
       "      <td>NaN</td>\n",
       "      <td>NaN</td>\n",
       "    </tr>\n",
       "    <tr>\n",
       "      <th>1</th>\n",
       "      <td>48001</td>\n",
       "      <td>None</td>\n",
       "      <td>Anderson County, Texas</td>\n",
       "      <td>Asia</td>\n",
       "      <td>4</td>\n",
       "      <td>6.0</td>\n",
       "      <td>NaN</td>\n",
       "      <td>NaN</td>\n",
       "      <td>NaN</td>\n",
       "      <td>NaN</td>\n",
       "    </tr>\n",
       "    <tr>\n",
       "      <th>2</th>\n",
       "      <td>48001</td>\n",
       "      <td>None</td>\n",
       "      <td>Anderson County, Texas</td>\n",
       "      <td>Central America</td>\n",
       "      <td>2</td>\n",
       "      <td>3.0</td>\n",
       "      <td>NaN</td>\n",
       "      <td>NaN</td>\n",
       "      <td>NaN</td>\n",
       "      <td>NaN</td>\n",
       "    </tr>\n",
       "    <tr>\n",
       "      <th>3</th>\n",
       "      <td>48001</td>\n",
       "      <td>01089</td>\n",
       "      <td>Anderson County, Texas</td>\n",
       "      <td>Madison County, Alabama</td>\n",
       "      <td>13</td>\n",
       "      <td>20.0</td>\n",
       "      <td>0.0</td>\n",
       "      <td>28.0</td>\n",
       "      <td>13.0</td>\n",
       "      <td>20.0</td>\n",
       "    </tr>\n",
       "    <tr>\n",
       "      <th>4</th>\n",
       "      <td>48001</td>\n",
       "      <td>02016</td>\n",
       "      <td>Anderson County, Texas</td>\n",
       "      <td>Aleutians West Census Area, Alaska</td>\n",
       "      <td>0</td>\n",
       "      <td>31.0</td>\n",
       "      <td>7.0</td>\n",
       "      <td>9.0</td>\n",
       "      <td>-7.0</td>\n",
       "      <td>9.0</td>\n",
       "    </tr>\n",
       "  </tbody>\n",
       "</table>\n",
       "</div>"
      ],
      "text/plain": [
       "  GEOID1 GEOID2              FULL1_NAME                          FULL2_NAME  \\\n",
       "0  48001   None  Anderson County, Texas                              Africa   \n",
       "1  48001   None  Anderson County, Texas                                Asia   \n",
       "2  48001   None  Anderson County, Texas                     Central America   \n",
       "3  48001  01089  Anderson County, Texas             Madison County, Alabama   \n",
       "4  48001  02016  Anderson County, Texas  Aleutians West Census Area, Alaska   \n",
       "\n",
       "   MOVEDIN  MOVEDIN_M  MOVEDOUT  MOVEDOUT_M  MOVEDNET  MOVEDNET_M  \n",
       "0       38       52.0       NaN         NaN       NaN         NaN  \n",
       "1        4        6.0       NaN         NaN       NaN         NaN  \n",
       "2        2        3.0       NaN         NaN       NaN         NaN  \n",
       "3       13       20.0       0.0        28.0      13.0        20.0  \n",
       "4        0       31.0       7.0         9.0      -7.0         9.0  "
      ]
     },
     "execution_count": 2,
     "metadata": {},
     "output_type": "execute_result"
    }
   ],
   "source": [
    "# Get county-to-county migration flows for Texas\n",
    "tx_flows = tc.get_flows(\n",
    "    geography=\"county\",\n",
    "    state=\"TX\",\n",
    "    year=2018,\n",
    "    output=\"wide\"\n",
    ")\n",
    "\n",
    "print(f\"Shape: {tx_flows.shape}\")\n",
    "print(f\"Columns: {list(tx_flows.columns)}\")\n",
    "tx_flows.head()"
   ]
  },
  {
   "cell_type": "markdown",
   "metadata": {},
   "source": [
    "## Understanding the Data Structure\n",
    "\n",
    "Each row represents a flow between two counties:\n",
    "- `GEOID1` and `FULL1_NAME`: Origin county\n",
    "- `GEOID2` and `FULL2_NAME`: Destination county  \n",
    "- `MOVEDIN`: People who moved from county 1 to county 2\n",
    "- `MOVEDOUT`: People who moved from county 2 to county 1\n",
    "- `MOVEDNET`: Net migration (positive = more moved to county 2)\n",
    "- Variables ending in `_M`: Margin of error"
   ]
  },
  {
   "cell_type": "code",
   "execution_count": 3,
   "metadata": {},
   "outputs": [
    {
     "name": "stdout",
     "output_type": "stream",
     "text": [
      "Top 10 largest migration flows:\n"
     ]
    },
    {
     "data": {
      "application/vnd.microsoft.datawrangler.viewer.v0+json": {
       "columns": [
        {
         "name": "index",
         "rawType": "int64",
         "type": "integer"
        },
        {
         "name": "FULL1_NAME",
         "rawType": "object",
         "type": "string"
        },
        {
         "name": "FULL2_NAME",
         "rawType": "object",
         "type": "string"
        },
        {
         "name": "MOVEDIN",
         "rawType": "int64",
         "type": "integer"
        },
        {
         "name": "MOVEDIN_M",
         "rawType": "float64",
         "type": "float"
        }
       ],
       "ref": "efe4e246-cc62-4f38-9891-776aa4314643",
       "rows": [
        [
         "12973",
         "Fort Bend County, Texas",
         "Harris County, Texas",
         "20139",
         "1842.0"
        ],
        [
         "30609",
         "Tarrant County, Texas",
         "Dallas County, Texas",
         "19149",
         "1603.0"
        ],
        [
         "10162",
         "Denton County, Texas",
         "Dallas County, Texas",
         "18807",
         "2114.0"
        ],
        [
         "15530",
         "Harris County, Texas",
         "Asia",
         "18170",
         "1557.0"
        ],
        [
         "6588",
         "Collin County, Texas",
         "Dallas County, Texas",
         "17264",
         "1567.0"
        ]
       ],
       "shape": {
        "columns": 4,
        "rows": 5
       }
      },
      "text/html": [
       "<div>\n",
       "<style scoped>\n",
       "    .dataframe tbody tr th:only-of-type {\n",
       "        vertical-align: middle;\n",
       "    }\n",
       "\n",
       "    .dataframe tbody tr th {\n",
       "        vertical-align: top;\n",
       "    }\n",
       "\n",
       "    .dataframe thead th {\n",
       "        text-align: right;\n",
       "    }\n",
       "</style>\n",
       "<table border=\"1\" class=\"dataframe\">\n",
       "  <thead>\n",
       "    <tr style=\"text-align: right;\">\n",
       "      <th></th>\n",
       "      <th>FULL1_NAME</th>\n",
       "      <th>FULL2_NAME</th>\n",
       "      <th>MOVEDIN</th>\n",
       "      <th>MOVEDIN_M</th>\n",
       "    </tr>\n",
       "  </thead>\n",
       "  <tbody>\n",
       "    <tr>\n",
       "      <th>12973</th>\n",
       "      <td>Fort Bend County, Texas</td>\n",
       "      <td>Harris County, Texas</td>\n",
       "      <td>20139</td>\n",
       "      <td>1842.0</td>\n",
       "    </tr>\n",
       "    <tr>\n",
       "      <th>30609</th>\n",
       "      <td>Tarrant County, Texas</td>\n",
       "      <td>Dallas County, Texas</td>\n",
       "      <td>19149</td>\n",
       "      <td>1603.0</td>\n",
       "    </tr>\n",
       "    <tr>\n",
       "      <th>10162</th>\n",
       "      <td>Denton County, Texas</td>\n",
       "      <td>Dallas County, Texas</td>\n",
       "      <td>18807</td>\n",
       "      <td>2114.0</td>\n",
       "    </tr>\n",
       "    <tr>\n",
       "      <th>15530</th>\n",
       "      <td>Harris County, Texas</td>\n",
       "      <td>Asia</td>\n",
       "      <td>18170</td>\n",
       "      <td>1557.0</td>\n",
       "    </tr>\n",
       "    <tr>\n",
       "      <th>6588</th>\n",
       "      <td>Collin County, Texas</td>\n",
       "      <td>Dallas County, Texas</td>\n",
       "      <td>17264</td>\n",
       "      <td>1567.0</td>\n",
       "    </tr>\n",
       "  </tbody>\n",
       "</table>\n",
       "</div>"
      ],
      "text/plain": [
       "                    FULL1_NAME            FULL2_NAME  MOVEDIN  MOVEDIN_M\n",
       "12973  Fort Bend County, Texas  Harris County, Texas    20139     1842.0\n",
       "30609    Tarrant County, Texas  Dallas County, Texas    19149     1603.0\n",
       "10162     Denton County, Texas  Dallas County, Texas    18807     2114.0\n",
       "15530     Harris County, Texas                  Asia    18170     1557.0\n",
       "6588      Collin County, Texas  Dallas County, Texas    17264     1567.0"
      ]
     },
     "execution_count": 3,
     "metadata": {},
     "output_type": "execute_result"
    }
   ],
   "source": [
    "# Look at the largest migration flows\n",
    "largest_flows = tx_flows.nlargest(10, 'MOVEDIN')\n",
    "print(\"Top 10 largest migration flows:\")\n",
    "largest_flows[['FULL1_NAME', 'FULL2_NAME', 'MOVEDIN', 'MOVEDIN_M']].head()"
   ]
  },
  {
   "cell_type": "markdown",
   "metadata": {},
   "source": [
    "## Tidy Format for Analysis\n",
    "\n",
    "The tidy format is better for analysis and visualization:"
   ]
  },
  {
   "cell_type": "code",
   "execution_count": 4,
   "metadata": {},
   "outputs": [
    {
     "name": "stdout",
     "output_type": "stream",
     "text": [
      "Tidy format shape: (109923, 7)\n"
     ]
    },
    {
     "data": {
      "application/vnd.microsoft.datawrangler.viewer.v0+json": {
       "columns": [
        {
         "name": "index",
         "rawType": "int64",
         "type": "integer"
        },
        {
         "name": "GEOID1",
         "rawType": "object",
         "type": "string"
        },
        {
         "name": "GEOID2",
         "rawType": "object",
         "type": "unknown"
        },
        {
         "name": "FULL1_NAME",
         "rawType": "object",
         "type": "string"
        },
        {
         "name": "FULL2_NAME",
         "rawType": "object",
         "type": "string"
        },
        {
         "name": "variable",
         "rawType": "object",
         "type": "string"
        },
        {
         "name": "estimate",
         "rawType": "float64",
         "type": "float"
        },
        {
         "name": "moe",
         "rawType": "float64",
         "type": "float"
        }
       ],
       "ref": "b8d9a86e-2a1f-428e-8ece-45be6f059ce5",
       "rows": [
        [
         "0",
         "48001",
         null,
         "Anderson County, Texas",
         "Africa",
         "MOVEDIN",
         "38.0",
         "52.0"
        ],
        [
         "1",
         "48001",
         null,
         "Anderson County, Texas",
         "Africa",
         "MOVEDOUT",
         null,
         null
        ],
        [
         "2",
         "48001",
         null,
         "Anderson County, Texas",
         "Africa",
         "MOVEDNET",
         null,
         null
        ],
        [
         "3",
         "48001",
         null,
         "Anderson County, Texas",
         "Asia",
         "MOVEDIN",
         "4.0",
         "6.0"
        ],
        [
         "4",
         "48001",
         null,
         "Anderson County, Texas",
         "Asia",
         "MOVEDOUT",
         null,
         null
        ]
       ],
       "shape": {
        "columns": 7,
        "rows": 5
       }
      },
      "text/html": [
       "<div>\n",
       "<style scoped>\n",
       "    .dataframe tbody tr th:only-of-type {\n",
       "        vertical-align: middle;\n",
       "    }\n",
       "\n",
       "    .dataframe tbody tr th {\n",
       "        vertical-align: top;\n",
       "    }\n",
       "\n",
       "    .dataframe thead th {\n",
       "        text-align: right;\n",
       "    }\n",
       "</style>\n",
       "<table border=\"1\" class=\"dataframe\">\n",
       "  <thead>\n",
       "    <tr style=\"text-align: right;\">\n",
       "      <th></th>\n",
       "      <th>GEOID1</th>\n",
       "      <th>GEOID2</th>\n",
       "      <th>FULL1_NAME</th>\n",
       "      <th>FULL2_NAME</th>\n",
       "      <th>variable</th>\n",
       "      <th>estimate</th>\n",
       "      <th>moe</th>\n",
       "    </tr>\n",
       "  </thead>\n",
       "  <tbody>\n",
       "    <tr>\n",
       "      <th>0</th>\n",
       "      <td>48001</td>\n",
       "      <td>None</td>\n",
       "      <td>Anderson County, Texas</td>\n",
       "      <td>Africa</td>\n",
       "      <td>MOVEDIN</td>\n",
       "      <td>38.0</td>\n",
       "      <td>52.0</td>\n",
       "    </tr>\n",
       "    <tr>\n",
       "      <th>1</th>\n",
       "      <td>48001</td>\n",
       "      <td>None</td>\n",
       "      <td>Anderson County, Texas</td>\n",
       "      <td>Africa</td>\n",
       "      <td>MOVEDOUT</td>\n",
       "      <td>NaN</td>\n",
       "      <td>NaN</td>\n",
       "    </tr>\n",
       "    <tr>\n",
       "      <th>2</th>\n",
       "      <td>48001</td>\n",
       "      <td>None</td>\n",
       "      <td>Anderson County, Texas</td>\n",
       "      <td>Africa</td>\n",
       "      <td>MOVEDNET</td>\n",
       "      <td>NaN</td>\n",
       "      <td>NaN</td>\n",
       "    </tr>\n",
       "    <tr>\n",
       "      <th>3</th>\n",
       "      <td>48001</td>\n",
       "      <td>None</td>\n",
       "      <td>Anderson County, Texas</td>\n",
       "      <td>Asia</td>\n",
       "      <td>MOVEDIN</td>\n",
       "      <td>4.0</td>\n",
       "      <td>6.0</td>\n",
       "    </tr>\n",
       "    <tr>\n",
       "      <th>4</th>\n",
       "      <td>48001</td>\n",
       "      <td>None</td>\n",
       "      <td>Anderson County, Texas</td>\n",
       "      <td>Asia</td>\n",
       "      <td>MOVEDOUT</td>\n",
       "      <td>NaN</td>\n",
       "      <td>NaN</td>\n",
       "    </tr>\n",
       "  </tbody>\n",
       "</table>\n",
       "</div>"
      ],
      "text/plain": [
       "  GEOID1 GEOID2              FULL1_NAME FULL2_NAME  variable  estimate   moe\n",
       "0  48001   None  Anderson County, Texas     Africa   MOVEDIN      38.0  52.0\n",
       "1  48001   None  Anderson County, Texas     Africa  MOVEDOUT       NaN   NaN\n",
       "2  48001   None  Anderson County, Texas     Africa  MOVEDNET       NaN   NaN\n",
       "3  48001   None  Anderson County, Texas       Asia   MOVEDIN       4.0   6.0\n",
       "4  48001   None  Anderson County, Texas       Asia  MOVEDOUT       NaN   NaN"
      ]
     },
     "execution_count": 4,
     "metadata": {},
     "output_type": "execute_result"
    }
   ],
   "source": [
    "# Get the same data in tidy format\n",
    "tx_flows_tidy = tc.get_flows(\n",
    "    geography=\"county\",\n",
    "    state=\"TX\", \n",
    "    year=2018,\n",
    "    output=\"tidy\"\n",
    ")\n",
    "\n",
    "print(f\"Tidy format shape: {tx_flows_tidy.shape}\")\n",
    "tx_flows_tidy.head()"
   ]
  },
  {
   "cell_type": "code",
   "execution_count": 5,
   "metadata": {},
   "outputs": [
    {
     "name": "stdout",
     "output_type": "stream",
     "text": [
      "Migration flow summary:\n"
     ]
    },
    {
     "data": {
      "application/vnd.microsoft.datawrangler.viewer.v0+json": {
       "columns": [
        {
         "name": "variable",
         "rawType": "object",
         "type": "string"
        },
        {
         "name": "sum",
         "rawType": "float64",
         "type": "float"
        },
        {
         "name": "mean",
         "rawType": "float64",
         "type": "float"
        },
        {
         "name": "std",
         "rawType": "float64",
         "type": "float"
        }
       ],
       "ref": "71ebbd9b-58c2-4597-9c4e-2ebe87cc1773",
       "rows": [
        [
         "MOVEDIN",
         "1920233.0",
         "52.40667558199831",
         "384.59302488551225"
        ],
        [
         "MOVEDNET",
         "130846.0",
         "3.637743612555256",
         "147.39858026661932"
        ],
        [
         "MOVEDOUT",
         "1575040.0",
         "43.7888181489616",
         "347.1398618448757"
        ]
       ],
       "shape": {
        "columns": 3,
        "rows": 3
       }
      },
      "text/html": [
       "<div>\n",
       "<style scoped>\n",
       "    .dataframe tbody tr th:only-of-type {\n",
       "        vertical-align: middle;\n",
       "    }\n",
       "\n",
       "    .dataframe tbody tr th {\n",
       "        vertical-align: top;\n",
       "    }\n",
       "\n",
       "    .dataframe thead th {\n",
       "        text-align: right;\n",
       "    }\n",
       "</style>\n",
       "<table border=\"1\" class=\"dataframe\">\n",
       "  <thead>\n",
       "    <tr style=\"text-align: right;\">\n",
       "      <th></th>\n",
       "      <th>sum</th>\n",
       "      <th>mean</th>\n",
       "      <th>std</th>\n",
       "    </tr>\n",
       "    <tr>\n",
       "      <th>variable</th>\n",
       "      <th></th>\n",
       "      <th></th>\n",
       "      <th></th>\n",
       "    </tr>\n",
       "  </thead>\n",
       "  <tbody>\n",
       "    <tr>\n",
       "      <th>MOVEDIN</th>\n",
       "      <td>1920233.0</td>\n",
       "      <td>52.406676</td>\n",
       "      <td>384.593025</td>\n",
       "    </tr>\n",
       "    <tr>\n",
       "      <th>MOVEDNET</th>\n",
       "      <td>130846.0</td>\n",
       "      <td>3.637744</td>\n",
       "      <td>147.398580</td>\n",
       "    </tr>\n",
       "    <tr>\n",
       "      <th>MOVEDOUT</th>\n",
       "      <td>1575040.0</td>\n",
       "      <td>43.788818</td>\n",
       "      <td>347.139862</td>\n",
       "    </tr>\n",
       "  </tbody>\n",
       "</table>\n",
       "</div>"
      ],
      "text/plain": [
       "                sum       mean         std\n",
       "variable                                  \n",
       "MOVEDIN   1920233.0  52.406676  384.593025\n",
       "MOVEDNET   130846.0   3.637744  147.398580\n",
       "MOVEDOUT  1575040.0  43.788818  347.139862"
      ]
     },
     "execution_count": 5,
     "metadata": {},
     "output_type": "execute_result"
    }
   ],
   "source": [
    "# Analyze migration patterns\n",
    "migration_summary = tx_flows_tidy.groupby('variable')['estimate'].agg(['sum', 'mean', 'std'])\n",
    "print(\"Migration flow summary:\")\n",
    "migration_summary"
   ]
  },
  {
   "cell_type": "markdown",
   "metadata": {},
   "source": [
    "## Migration Flows with Demographic Breakdowns\n",
    "\n",
    "**Note**: Breakdown characteristics are only available for years 2006-2015."
   ]
  },
  {
   "cell_type": "code",
   "execution_count": 6,
   "metadata": {},
   "outputs": [
    {
     "name": "stdout",
     "output_type": "stream",
     "text": [
      "With breakdowns shape: (63072, 11)\n",
      "Breakdown columns: ['AGE_label', 'SEX_label']\n"
     ]
    },
    {
     "data": {
      "application/vnd.microsoft.datawrangler.viewer.v0+json": {
       "columns": [
        {
         "name": "index",
         "rawType": "int64",
         "type": "integer"
        },
        {
         "name": "GEOID1",
         "rawType": "object",
         "type": "string"
        },
        {
         "name": "GEOID2",
         "rawType": "object",
         "type": "unknown"
        },
        {
         "name": "FULL1_NAME",
         "rawType": "object",
         "type": "string"
        },
        {
         "name": "FULL2_NAME",
         "rawType": "object",
         "type": "string"
        },
        {
         "name": "AGE",
         "rawType": "object",
         "type": "string"
        },
        {
         "name": "SEX",
         "rawType": "object",
         "type": "string"
        },
        {
         "name": "AGE_label",
         "rawType": "object",
         "type": "string"
        },
        {
         "name": "SEX_label",
         "rawType": "object",
         "type": "string"
        },
        {
         "name": "variable",
         "rawType": "object",
         "type": "string"
        },
        {
         "name": "estimate",
         "rawType": "float64",
         "type": "float"
        },
        {
         "name": "moe",
         "rawType": "float64",
         "type": "float"
        }
       ],
       "ref": "8596d33d-4201-45fc-9bed-291a5d277105",
       "rows": [
        [
         "0",
         "44001",
         null,
         "Bristol County, Rhode Island",
         "Asia",
         "00",
         "00",
         "All ages",
         "All sexes",
         "MOVEDIN",
         "58.0",
         "49.0"
        ],
        [
         "1",
         "44001",
         null,
         "Bristol County, Rhode Island",
         "Asia",
         "00",
         "00",
         "All ages",
         "All sexes",
         "MOVEDOUT",
         null,
         null
        ],
        [
         "2",
         "44001",
         null,
         "Bristol County, Rhode Island",
         "Asia",
         "00",
         "00",
         "All ages",
         "All sexes",
         "MOVEDNET",
         null,
         null
        ],
        [
         "3",
         "44001",
         null,
         "Bristol County, Rhode Island",
         "Europe",
         "00",
         "00",
         "All ages",
         "All sexes",
         "MOVEDIN",
         "197.0",
         "170.0"
        ],
        [
         "4",
         "44001",
         null,
         "Bristol County, Rhode Island",
         "Europe",
         "00",
         "00",
         "All ages",
         "All sexes",
         "MOVEDOUT",
         null,
         null
        ]
       ],
       "shape": {
        "columns": 11,
        "rows": 5
       }
      },
      "text/html": [
       "<div>\n",
       "<style scoped>\n",
       "    .dataframe tbody tr th:only-of-type {\n",
       "        vertical-align: middle;\n",
       "    }\n",
       "\n",
       "    .dataframe tbody tr th {\n",
       "        vertical-align: top;\n",
       "    }\n",
       "\n",
       "    .dataframe thead th {\n",
       "        text-align: right;\n",
       "    }\n",
       "</style>\n",
       "<table border=\"1\" class=\"dataframe\">\n",
       "  <thead>\n",
       "    <tr style=\"text-align: right;\">\n",
       "      <th></th>\n",
       "      <th>GEOID1</th>\n",
       "      <th>GEOID2</th>\n",
       "      <th>FULL1_NAME</th>\n",
       "      <th>FULL2_NAME</th>\n",
       "      <th>AGE</th>\n",
       "      <th>SEX</th>\n",
       "      <th>AGE_label</th>\n",
       "      <th>SEX_label</th>\n",
       "      <th>variable</th>\n",
       "      <th>estimate</th>\n",
       "      <th>moe</th>\n",
       "    </tr>\n",
       "  </thead>\n",
       "  <tbody>\n",
       "    <tr>\n",
       "      <th>0</th>\n",
       "      <td>44001</td>\n",
       "      <td>None</td>\n",
       "      <td>Bristol County, Rhode Island</td>\n",
       "      <td>Asia</td>\n",
       "      <td>00</td>\n",
       "      <td>00</td>\n",
       "      <td>All ages</td>\n",
       "      <td>All sexes</td>\n",
       "      <td>MOVEDIN</td>\n",
       "      <td>58.0</td>\n",
       "      <td>49.0</td>\n",
       "    </tr>\n",
       "    <tr>\n",
       "      <th>1</th>\n",
       "      <td>44001</td>\n",
       "      <td>None</td>\n",
       "      <td>Bristol County, Rhode Island</td>\n",
       "      <td>Asia</td>\n",
       "      <td>00</td>\n",
       "      <td>00</td>\n",
       "      <td>All ages</td>\n",
       "      <td>All sexes</td>\n",
       "      <td>MOVEDOUT</td>\n",
       "      <td>NaN</td>\n",
       "      <td>NaN</td>\n",
       "    </tr>\n",
       "    <tr>\n",
       "      <th>2</th>\n",
       "      <td>44001</td>\n",
       "      <td>None</td>\n",
       "      <td>Bristol County, Rhode Island</td>\n",
       "      <td>Asia</td>\n",
       "      <td>00</td>\n",
       "      <td>00</td>\n",
       "      <td>All ages</td>\n",
       "      <td>All sexes</td>\n",
       "      <td>MOVEDNET</td>\n",
       "      <td>NaN</td>\n",
       "      <td>NaN</td>\n",
       "    </tr>\n",
       "    <tr>\n",
       "      <th>3</th>\n",
       "      <td>44001</td>\n",
       "      <td>None</td>\n",
       "      <td>Bristol County, Rhode Island</td>\n",
       "      <td>Europe</td>\n",
       "      <td>00</td>\n",
       "      <td>00</td>\n",
       "      <td>All ages</td>\n",
       "      <td>All sexes</td>\n",
       "      <td>MOVEDIN</td>\n",
       "      <td>197.0</td>\n",
       "      <td>170.0</td>\n",
       "    </tr>\n",
       "    <tr>\n",
       "      <th>4</th>\n",
       "      <td>44001</td>\n",
       "      <td>None</td>\n",
       "      <td>Bristol County, Rhode Island</td>\n",
       "      <td>Europe</td>\n",
       "      <td>00</td>\n",
       "      <td>00</td>\n",
       "      <td>All ages</td>\n",
       "      <td>All sexes</td>\n",
       "      <td>MOVEDOUT</td>\n",
       "      <td>NaN</td>\n",
       "      <td>NaN</td>\n",
       "    </tr>\n",
       "  </tbody>\n",
       "</table>\n",
       "</div>"
      ],
      "text/plain": [
       "  GEOID1 GEOID2                    FULL1_NAME FULL2_NAME AGE SEX AGE_label  \\\n",
       "0  44001   None  Bristol County, Rhode Island       Asia  00  00  All ages   \n",
       "1  44001   None  Bristol County, Rhode Island       Asia  00  00  All ages   \n",
       "2  44001   None  Bristol County, Rhode Island       Asia  00  00  All ages   \n",
       "3  44001   None  Bristol County, Rhode Island     Europe  00  00  All ages   \n",
       "4  44001   None  Bristol County, Rhode Island     Europe  00  00  All ages   \n",
       "\n",
       "   SEX_label  variable  estimate    moe  \n",
       "0  All sexes   MOVEDIN      58.0   49.0  \n",
       "1  All sexes  MOVEDOUT       NaN    NaN  \n",
       "2  All sexes  MOVEDNET       NaN    NaN  \n",
       "3  All sexes   MOVEDIN     197.0  170.0  \n",
       "4  All sexes  MOVEDOUT       NaN    NaN  "
      ]
     },
     "execution_count": 6,
     "metadata": {},
     "output_type": "execute_result"
    }
   ],
   "source": [
    "# Get flows with age and sex breakdowns (2015 data)\n",
    "ri_flows_breakdown = tc.get_flows(\n",
    "    geography=\"county\",\n",
    "    breakdown=[\"AGE\", \"SEX\"],\n",
    "    breakdown_labels=True,\n",
    "    state=\"RI\",\n",
    "    year=2015,  # Breakdown only available before 2016\n",
    "    output=\"tidy\"\n",
    ")\n",
    "\n",
    "print(f\"With breakdowns shape: {ri_flows_breakdown.shape}\")\n",
    "print(f\"Breakdown columns: {[col for col in ri_flows_breakdown.columns if 'label' in col]}\")\n",
    "ri_flows_breakdown.head()"
   ]
  },
  {
   "cell_type": "code",
   "execution_count": 7,
   "metadata": {},
   "outputs": [
    {
     "data": {
      "image/png": "[encoded data removed]",
      "text/plain": [
       "<Figure size 1200x600 with 1 Axes>"
      ]
     },
     "metadata": {},
     "output_type": "display_data"
    }
   ],
   "source": [
    "# Analyze migration by age group\n",
    "if 'AGE_label' in ri_flows_breakdown.columns:\n",
    "    age_migration = ri_flows_breakdown[ri_flows_breakdown['variable'] == 'MOVEDIN'].groupby('AGE_label')['estimate'].sum().sort_values(ascending=False)\n",
    "\n",
    "    plt.figure(figsize=(12, 6))\n",
    "    age_migration.plot(kind='bar')\n",
    "    plt.title('Migration into Rhode Island Counties by Age Group (2015)')\n",
    "    plt.xlabel('Age Group')\n",
    "    plt.ylabel('Total People Moved In')\n",
    "    plt.xticks(rotation=45)\n",
    "    plt.tight_layout()\n",
    "    plt.show()"
   ]
  },
  {
   "cell_type": "markdown",
   "metadata": {},
   "source": [
    "## Metropolitan Statistical Area Flows\n",
    "\n",
    "Migration flows are also available at the MSA level (2013+):"
   ]
  },
  {
   "cell_type": "code",
   "execution_count": 8,
   "metadata": {},
   "outputs": [
    {
     "name": "stdout",
     "output_type": "stream",
     "text": [
      "MSA flows shape: (70428, 10)\n"
     ]
    },
    {
     "data": {
      "application/vnd.microsoft.datawrangler.viewer.v0+json": {
       "columns": [
        {
         "name": "index",
         "rawType": "int64",
         "type": "integer"
        },
        {
         "name": "GEOID1",
         "rawType": "object",
         "type": "string"
        },
        {
         "name": "GEOID2",
         "rawType": "object",
         "type": "unknown"
        },
        {
         "name": "FULL1_NAME",
         "rawType": "object",
         "type": "string"
        },
        {
         "name": "FULL2_NAME",
         "rawType": "object",
         "type": "string"
        },
        {
         "name": "MOVEDIN",
         "rawType": "int64",
         "type": "integer"
        },
        {
         "name": "MOVEDIN_M",
         "rawType": "float64",
         "type": "float"
        },
        {
         "name": "MOVEDOUT",
         "rawType": "float64",
         "type": "float"
        },
        {
         "name": "MOVEDOUT_M",
         "rawType": "float64",
         "type": "float"
        },
        {
         "name": "MOVEDNET",
         "rawType": "float64",
         "type": "float"
        },
        {
         "name": "MOVEDNET_M",
         "rawType": "float64",
         "type": "float"
        }
       ],
       "ref": "3dc070b1-4449-4f81-9705-397d9c9da8b8",
       "rows": [
        [
         "0",
         "10180",
         null,
         "Abilene, TX Metro Area",
         "Outside Metro Area within U.S. or Puerto Rico",
         "3883",
         "508.0",
         "2785.0",
         "410.0",
         "1098.0",
         "684.0"
        ],
        [
         "1",
         "10180",
         null,
         "Abilene, TX Metro Area",
         "Africa",
         "134",
         "152.0",
         null,
         null,
         null,
         null
        ],
        [
         "2",
         "10180",
         null,
         "Abilene, TX Metro Area",
         "Asia",
         "504",
         "207.0",
         null,
         null,
         null,
         null
        ],
        [
         "3",
         "10180",
         null,
         "Abilene, TX Metro Area",
         "Central America",
         "56",
         "42.0",
         null,
         null,
         null,
         null
        ],
        [
         "4",
         "10180",
         null,
         "Abilene, TX Metro Area",
         "Europe",
         "264",
         "176.0",
         null,
         null,
         null,
         null
        ]
       ],
       "shape": {
        "columns": 10,
        "rows": 5
       }
      },
      "text/html": [
       "<div>\n",
       "<style scoped>\n",
       "    .dataframe tbody tr th:only-of-type {\n",
       "        vertical-align: middle;\n",
       "    }\n",
       "\n",
       "    .dataframe tbody tr th {\n",
       "        vertical-align: top;\n",
       "    }\n",
       "\n",
       "    .dataframe thead th {\n",
       "        text-align: right;\n",
       "    }\n",
       "</style>\n",
       "<table border=\"1\" class=\"dataframe\">\n",
       "  <thead>\n",
       "    <tr style=\"text-align: right;\">\n",
       "      <th></th>\n",
       "      <th>GEOID1</th>\n",
       "      <th>GEOID2</th>\n",
       "      <th>FULL1_NAME</th>\n",
       "      <th>FULL2_NAME</th>\n",
       "      <th>MOVEDIN</th>\n",
       "      <th>MOVEDIN_M</th>\n",
       "      <th>MOVEDOUT</th>\n",
       "      <th>MOVEDOUT_M</th>\n",
       "      <th>MOVEDNET</th>\n",
       "      <th>MOVEDNET_M</th>\n",
       "    </tr>\n",
       "  </thead>\n",
       "  <tbody>\n",
       "    <tr>\n",
       "      <th>0</th>\n",
       "      <td>10180</td>\n",
       "      <td>None</td>\n",
       "      <td>Abilene, TX Metro Area</td>\n",
       "      <td>Outside Metro Area within U.S. or Puerto Rico</td>\n",
       "      <td>3883</td>\n",
       "      <td>508.0</td>\n",
       "      <td>2785.0</td>\n",
       "      <td>410.0</td>\n",
       "      <td>1098.0</td>\n",
       "      <td>684.0</td>\n",
       "    </tr>\n",
       "    <tr>\n",
       "      <th>1</th>\n",
       "      <td>10180</td>\n",
       "      <td>None</td>\n",
       "      <td>Abilene, TX Metro Area</td>\n",
       "      <td>Africa</td>\n",
       "      <td>134</td>\n",
       "      <td>152.0</td>\n",
       "      <td>NaN</td>\n",
       "      <td>NaN</td>\n",
       "      <td>NaN</td>\n",
       "      <td>NaN</td>\n",
       "    </tr>\n",
       "    <tr>\n",
       "      <th>2</th>\n",
       "      <td>10180</td>\n",
       "      <td>None</td>\n",
       "      <td>Abilene, TX Metro Area</td>\n",
       "      <td>Asia</td>\n",
       "      <td>504</td>\n",
       "      <td>207.0</td>\n",
       "      <td>NaN</td>\n",
       "      <td>NaN</td>\n",
       "      <td>NaN</td>\n",
       "      <td>NaN</td>\n",
       "    </tr>\n",
       "    <tr>\n",
       "      <th>3</th>\n",
       "      <td>10180</td>\n",
       "      <td>None</td>\n",
       "      <td>Abilene, TX Metro Area</td>\n",
       "      <td>Central America</td>\n",
       "      <td>56</td>\n",
       "      <td>42.0</td>\n",
       "      <td>NaN</td>\n",
       "      <td>NaN</td>\n",
       "      <td>NaN</td>\n",
       "      <td>NaN</td>\n",
       "    </tr>\n",
       "    <tr>\n",
       "      <th>4</th>\n",
       "      <td>10180</td>\n",
       "      <td>None</td>\n",
       "      <td>Abilene, TX Metro Area</td>\n",
       "      <td>Europe</td>\n",
       "      <td>264</td>\n",
       "      <td>176.0</td>\n",
       "      <td>NaN</td>\n",
       "      <td>NaN</td>\n",
       "      <td>NaN</td>\n",
       "      <td>NaN</td>\n",
       "    </tr>\n",
       "  </tbody>\n",
       "</table>\n",
       "</div>"
      ],
      "text/plain": [
       "  GEOID1 GEOID2              FULL1_NAME  \\\n",
       "0  10180   None  Abilene, TX Metro Area   \n",
       "1  10180   None  Abilene, TX Metro Area   \n",
       "2  10180   None  Abilene, TX Metro Area   \n",
       "3  10180   None  Abilene, TX Metro Area   \n",
       "4  10180   None  Abilene, TX Metro Area   \n",
       "\n",
       "                                      FULL2_NAME  MOVEDIN  MOVEDIN_M  \\\n",
       "0  Outside Metro Area within U.S. or Puerto Rico     3883      508.0   \n",
       "1                                         Africa      134      152.0   \n",
       "2                                           Asia      504      207.0   \n",
       "3                                Central America       56       42.0   \n",
       "4                                         Europe      264      176.0   \n",
       "\n",
       "   MOVEDOUT  MOVEDOUT_M  MOVEDNET  MOVEDNET_M  \n",
       "0    2785.0       410.0    1098.0       684.0  \n",
       "1       NaN         NaN       NaN         NaN  \n",
       "2       NaN         NaN       NaN         NaN  \n",
       "3       NaN         NaN       NaN         NaN  \n",
       "4       NaN         NaN       NaN         NaN  "
      ]
     },
     "execution_count": 8,
     "metadata": {},
     "output_type": "execute_result"
    }
   ],
   "source": [
    "# Get MSA-level migration flows\n",
    "msa_flows = tc.get_flows(\n",
    "    geography=\"metropolitan statistical area\",\n",
    "    year=2018,\n",
    "    output=\"wide\"\n",
    ")\n",
    "\n",
    "print(f\"MSA flows shape: {msa_flows.shape}\")\n",
    "msa_flows.head()"
   ]
  },
  {
   "cell_type": "code",
   "execution_count": 9,
   "metadata": {},
   "outputs": [
    {
     "name": "stdout",
     "output_type": "stream",
     "text": [
      "Largest MSA-to-MSA migration flows:\n",
      "Riverside-San Bernardino-Ontario, CA Metro Area → Los Angeles-Long Beach-Anaheim, CA Metro Area: 85,361 people\n",
      "New York-Newark-Jersey City, NY-NJ-PA Metro Area → Asia: 65,239 people\n",
      "Los Angeles-Long Beach-Anaheim, CA Metro Area → Asia: 57,528 people\n",
      "Los Angeles-Long Beach-Anaheim, CA Metro Area → Riverside-San Bernardino-Ontario, CA Metro Area: 42,989 people\n",
      "Dallas-Fort Worth-Arlington, TX Metro Area → Outside Metro Area within U.S. or Puerto Rico: 34,853 people\n",
      "Philadelphia-Camden-Wilmington, PA-NJ-DE-MD Metro Area → New York-Newark-Jersey City, NY-NJ-PA Metro Area: 31,621 people\n",
      "Washington-Arlington-Alexandria, DC-VA-MD-WV Metro Area → Asia: 31,025 people\n",
      "Miami-Fort Lauderdale-West Palm Beach, FL Metro Area → Caribbean: 30,633 people\n",
      "New York-Newark-Jersey City, NY-NJ-PA Metro Area → Europe: 29,904 people\n",
      "San Francisco-Oakland-Hayward, CA Metro Area → Asia: 29,747 people\n"
     ]
    }
   ],
   "source": [
    "# Find the largest MSA flows\n",
    "largest_msa_flows = msa_flows.nlargest(10, 'MOVEDIN')\n",
    "print(\"Largest MSA-to-MSA migration flows:\")\n",
    "for _, row in largest_msa_flows.iterrows():\n",
    "    print(f\"{row['FULL1_NAME']} → {row['FULL2_NAME']}: {row['MOVEDIN']:,} people\")"
   ]
  },
  {
   "cell_type": "markdown",
   "metadata": {},
   "source": [
    "## Margin of Error and Confidence Levels\n",
    "\n",
    "You can adjust the confidence level for margin of error calculations:"
   ]
  },
  {
   "cell_type": "code",
   "execution_count": 10,
   "metadata": {},
   "outputs": [
    {
     "name": "stdout",
     "output_type": "stream",
     "text": [
      "Margin of error comparison for first flow:\n",
      "90% confidence: 33.0\n",
      "95% confidence: 39.3\n",
      "99% confidence: 51.4\n"
     ]
    }
   ],
   "source": [
    "# Compare different confidence levels\n",
    "flows_90 = tc.get_flows(geography=\"county\", state=\"NY\", year=2018, moe_level=90, output=\"wide\")\n",
    "flows_95 = tc.get_flows(geography=\"county\", state=\"NY\", year=2018, moe_level=95, output=\"wide\")\n",
    "flows_99 = tc.get_flows(geography=\"county\", state=\"NY\", year=2018, moe_level=99, output=\"wide\")\n",
    "\n",
    "print(\"Margin of error comparison for first flow:\")\n",
    "print(f\"90% confidence: {flows_90['MOVEDIN_M'].iloc[0]:.1f}\")\n",
    "print(f\"95% confidence: {flows_95['MOVEDIN_M'].iloc[0]:.1f}\") \n",
    "print(f\"99% confidence: {flows_99['MOVEDIN_M'].iloc[0]:.1f}\")"
   ]
  },
  {
   "cell_type": "markdown",
   "metadata": {},
   "source": [
    "## Geometry Integration for Mapping\n",
    "\n",
    "Add geographic centroids for mapping migration flows:"
   ]
  },
  {
   "cell_type": "code",
   "execution_count": 15,
   "metadata": {},
   "outputs": [
    {
     "name": "stdout",
     "output_type": "stream",
     "text": [
      "Downloading tl_2022_us_county.zip...\n",
      "Extracting tl_2022_us_county.zip...\n"
     ]
    },
    {
     "name": "stderr",
     "output_type": "stream",
     "text": [
      "/home/mmann1123/Documents/github/pytidycensus/pytidycensus/flows.py:538: UserWarning: Could not download county geography: File is not a zip file. Using placeholder centroids for all 6258 GEOIDs.\n",
      "  warnings.warn(\n"
     ]
    },
    {
     "data": {
      "text/html": [
       "<div>\n",
       "<style scoped>\n",
       "    .dataframe tbody tr th:only-of-type {\n",
       "        vertical-align: middle;\n",
       "    }\n",
       "\n",
       "    .dataframe tbody tr th {\n",
       "        vertical-align: top;\n",
       "    }\n",
       "\n",
       "    .dataframe thead th {\n",
       "        text-align: right;\n",
       "    }\n",
       "</style>\n",
       "<table border=\"1\" class=\"dataframe\">\n",
       "  <thead>\n",
       "    <tr style=\"text-align: right;\">\n",
       "      <th></th>\n",
       "      <th>GEOID1</th>\n",
       "      <th>GEOID2</th>\n",
       "      <th>FULL1_NAME</th>\n",
       "      <th>FULL2_NAME</th>\n",
       "      <th>MOVEDIN</th>\n",
       "      <th>MOVEDIN_M</th>\n",
       "      <th>MOVEDOUT</th>\n",
       "      <th>MOVEDOUT_M</th>\n",
       "      <th>MOVEDNET</th>\n",
       "      <th>MOVEDNET_M</th>\n",
       "      <th>centroid1</th>\n",
       "      <th>centroid2</th>\n",
       "    </tr>\n",
       "  </thead>\n",
       "  <tbody>\n",
       "    <tr>\n",
       "      <th>31800</th>\n",
       "      <td>12133</td>\n",
       "      <td>51810</td>\n",
       "      <td>Washington County, Florida</td>\n",
       "      <td>Virginia Beach city, Virginia</td>\n",
       "      <td>14</td>\n",
       "      <td>23.0</td>\n",
       "      <td>0.0</td>\n",
       "      <td>28.0</td>\n",
       "      <td>14.0</td>\n",
       "      <td>23.0</td>\n",
       "      <td>POINT (-95 39)</td>\n",
       "      <td>POINT (-95 39)</td>\n",
       "    </tr>\n",
       "    <tr>\n",
       "      <th>31801</th>\n",
       "      <td>12133</td>\n",
       "      <td>55061</td>\n",
       "      <td>Washington County, Florida</td>\n",
       "      <td>Kewaunee County, Wisconsin</td>\n",
       "      <td>0</td>\n",
       "      <td>25.0</td>\n",
       "      <td>4.0</td>\n",
       "      <td>5.0</td>\n",
       "      <td>-4.0</td>\n",
       "      <td>5.0</td>\n",
       "      <td>POINT (-95 39)</td>\n",
       "      <td>POINT (-95 39)</td>\n",
       "    </tr>\n",
       "    <tr>\n",
       "      <th>31802</th>\n",
       "      <td>12133</td>\n",
       "      <td>56021</td>\n",
       "      <td>Washington County, Florida</td>\n",
       "      <td>Laramie County, Wyoming</td>\n",
       "      <td>0</td>\n",
       "      <td>25.0</td>\n",
       "      <td>8.0</td>\n",
       "      <td>13.0</td>\n",
       "      <td>-8.0</td>\n",
       "      <td>13.0</td>\n",
       "      <td>POINT (-95 39)</td>\n",
       "      <td>POINT (-95 39)</td>\n",
       "    </tr>\n",
       "    <tr>\n",
       "      <th>31803</th>\n",
       "      <td>12133</td>\n",
       "      <td>3400557510</td>\n",
       "      <td>Washington County, Florida</td>\n",
       "      <td>Pemberton township, Burlington County, New Jersey</td>\n",
       "      <td>0</td>\n",
       "      <td>25.0</td>\n",
       "      <td>4.0</td>\n",
       "      <td>6.0</td>\n",
       "      <td>-4.0</td>\n",
       "      <td>6.0</td>\n",
       "      <td>POINT (-95 39)</td>\n",
       "      <td>POINT (-95 39)</td>\n",
       "    </tr>\n",
       "    <tr>\n",
       "      <th>31804</th>\n",
       "      <td>12133</td>\n",
       "      <td>5506162625</td>\n",
       "      <td>Washington County, Florida</td>\n",
       "      <td>Pierce town, Kewaunee County, Wisconsin</td>\n",
       "      <td>0</td>\n",
       "      <td>25.0</td>\n",
       "      <td>4.0</td>\n",
       "      <td>5.0</td>\n",
       "      <td>-4.0</td>\n",
       "      <td>5.0</td>\n",
       "      <td>POINT (-95 39)</td>\n",
       "      <td>POINT (-95 39)</td>\n",
       "    </tr>\n",
       "  </tbody>\n",
       "</table>\n",
       "</div>"
      ],
      "text/plain": [
       "      GEOID1      GEOID2                  FULL1_NAME  \\\n",
       "31800  12133       51810  Washington County, Florida   \n",
       "31801  12133       55061  Washington County, Florida   \n",
       "31802  12133       56021  Washington County, Florida   \n",
       "31803  12133  3400557510  Washington County, Florida   \n",
       "31804  12133  5506162625  Washington County, Florida   \n",
       "\n",
       "                                              FULL2_NAME  MOVEDIN  MOVEDIN_M  \\\n",
       "31800                      Virginia Beach city, Virginia       14       23.0   \n",
       "31801                         Kewaunee County, Wisconsin        0       25.0   \n",
       "31802                            Laramie County, Wyoming        0       25.0   \n",
       "31803  Pemberton township, Burlington County, New Jersey        0       25.0   \n",
       "31804            Pierce town, Kewaunee County, Wisconsin        0       25.0   \n",
       "\n",
       "       MOVEDOUT  MOVEDOUT_M  MOVEDNET  MOVEDNET_M       centroid1  \\\n",
       "31800       0.0        28.0      14.0        23.0  POINT (-95 39)   \n",
       "31801       4.0         5.0      -4.0         5.0  POINT (-95 39)   \n",
       "31802       8.0        13.0      -8.0        13.0  POINT (-95 39)   \n",
       "31803       4.0         6.0      -4.0         6.0  POINT (-95 39)   \n",
       "31804       4.0         5.0      -4.0         5.0  POINT (-95 39)   \n",
       "\n",
       "            centroid2  \n",
       "31800  POINT (-95 39)  \n",
       "31801  POINT (-95 39)  \n",
       "31802  POINT (-95 39)  \n",
       "31803  POINT (-95 39)  \n",
       "31804  POINT (-95 39)  "
      ]
     },
     "execution_count": 15,
     "metadata": {},
     "output_type": "execute_result"
    }
   ],
   "source": [
    "# Get flows with geometry\n",
    "flows_geo = tc.get_flows(\n",
    "    geography=\"county\",\n",
    "    state=\"FL\",\n",
    "    year=2018,\n",
    "    geometry=True,\n",
    "    output=\"wide\"\n",
    ")\n",
    "flows_geo.tail()\n"
   ]
  },
  {
   "cell_type": "code",
   "execution_count": 12,
   "metadata": {},
   "outputs": [
    {
     "name": "stdout",
     "output_type": "stream",
     "text": [
      "Geometry-enabled flows shape: (31805, 12)\n",
      "Geometry columns: ['centroid1', 'centroid2']\n",
      "Is GeoDataFrame: <class 'geopandas.geodataframe.GeoDataFrame'>\n",
      "CRS: EPSG:4269\n"
     ]
    }
   ],
   "source": [
    "\n",
    "print(f\"Geometry-enabled flows shape: {flows_geo.shape}\")\n",
    "print(f\"Geometry columns: {[col for col in flows_geo.columns if 'centroid' in col]}\")\n",
    "print(f\"Is GeoDataFrame: {type(flows_geo)}\")\n",
    "\n",
    "if hasattr(flows_geo, 'geometry'):\n",
    "    print(f\"CRS: {flows_geo.crs}\")\n",
    "    flows_geo.head()"
   ]
  },
  {
   "cell_type": "markdown",
   "metadata": {},
   "source": [
    "## Error Handling and Best Practices\n",
    "\n",
    "Here are some common errors and how to handle them:"
   ]
  },
  {
   "cell_type": "code",
   "execution_count": 13,
   "metadata": {},
   "outputs": [
    {
     "name": "stdout",
     "output_type": "stream",
     "text": [
      "Geography error: Geography must be one of: county, county subdivision, metropolitan statistical area\n",
      "Year error: Migration flows are available beginning in 2010\n",
      "Breakdown error: Breakdown characteristics are only available for surveys before 2016\n",
      "MSA year error: MSA-level data is only available beginning with 2013 (2009-2013 5-year ACS)\n"
     ]
    }
   ],
   "source": [
    "# Error: Invalid geography\n",
    "try:\n",
    "    tc.get_flows(geography=\"invalid\", year=2018)\n",
    "except ValueError as e:\n",
    "    print(f\"Geography error: {e}\")\n",
    "\n",
    "# Error: Year too early\n",
    "try:\n",
    "    tc.get_flows(geography=\"county\", year=2009)\n",
    "except ValueError as e:\n",
    "    print(f\"Year error: {e}\")\n",
    "\n",
    "# Error: Breakdown variables after 2015\n",
    "try:\n",
    "    tc.get_flows(geography=\"county\", breakdown=[\"AGE\"], year=2016)\n",
    "except ValueError as e:\n",
    "    print(f\"Breakdown error: {e}\")\n",
    "\n",
    "# Error: MSA data before 2013\n",
    "try:\n",
    "    tc.get_flows(geography=\"metropolitan statistical area\", year=2012)\n",
    "except ValueError as e:\n",
    "    print(f\"MSA year error: {e}\")"
   ]
  },
  {
   "cell_type": "markdown",
   "metadata": {},
   "source": [
    "## Summary\n",
    "\n",
    "The `get_flows()` function provides comprehensive access to Census migration flow data with features including:\n",
    "\n",
    "- **Multiple geographic levels**: county, county subdivision, MSA\n",
    "- **Flexible output formats**: wide (API format) or tidy (analysis-ready)\n",
    "- **Demographic breakdowns**: age, sex, race, income, etc. (2006-2015 only)\n",
    "- **Confidence levels**: 90%, 95%, or 99% for margin of error\n",
    "- **Geometry integration**: centroids for mapping flows\n",
    "- **Robust validation**: comprehensive error checking and helpful messages\n",
    "\n",
    "For more information, see the [pytidycensus documentation](https://mmann1123.github.io/pytidycensus/)."
   ]
  }
 ],
 "metadata": {
  "kernelspec": {
   "display_name": "census",
   "language": "python",
   "name": "python3"
  },
  "language_info": {
   "codemirror_mode": {
    "name": "ipython",
    "version": 3
   },
   "file_extension": ".py",
   "mimetype": "text/x-python",
   "name": "python",
   "nbconvert_exporter": "python",
   "pygments_lexer": "ipython3",
   "version": "3.11.13"
  }
 },
 "nbformat": 4,
 "nbformat_minor": 4
}
