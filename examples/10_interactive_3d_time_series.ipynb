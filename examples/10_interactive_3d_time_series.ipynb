{
 "cells": [
  {
   "cell_type": "markdown",
   "metadata": {},
   "source": [
    "# Interactive 3D Time Series Visualization\n",
    "\n",
    "This notebook demonstrates a visually stunning interactive visualization of median household income changes in Washington DC from 2012 to 2022 using:\n",
    "\n",
    "- **pytidycensus**: Time series data with automatic boundary alignment\n",
    "- **lonboard**: High-performance WebGL-based mapping\n",
    "- **ipywidgets**: Interactive time slider\n",
    "\n",
    "The visualization uses:\n",
    "- Color coding for income levels\n",
    "- 3D elevation proportional to income\n",
    "- Interactive time slider to see changes over time\n",
    "- Smooth transitions between years"
   ]
  },
  {
   "cell_type": "markdown",
   "metadata": {},
   "source": [
    "## Installation\n",
    "\n",
    "```bash\n",
    "pip install pytidycensus[time] lonboard ipywidgets\n",
    "```"
   ]
  },
  {
   "cell_type": "code",
   "execution_count": 26,
   "metadata": {},
   "outputs": [
    {
     "name": "stdout",
     "output_type": "stream",
     "text": [
      "Libraries imported successfully!\n"
     ]
    }
   ],
   "source": [
    "# Import required libraries\n",
    "import pytidycensus as tc\n",
    "import pandas as pd\n",
    "import geopandas as gpd\n",
    "import numpy as np\n",
    "from lonboard import Map, SolidPolygonLayer\n",
    "from lonboard.colormap import apply_continuous_cmap\n",
    "from palettable.colorbrewer.sequential import YlOrRd_9\n",
    "import ipywidgets as widgets\n",
    "from IPython.display import display\n",
    "import warnings\n",
    "warnings.filterwarnings('ignore')\n",
    "\n",
    "print(\"Libraries imported successfully!\")"
   ]
  },
  {
   "cell_type": "code",
   "execution_count": 27,
   "metadata": {},
   "outputs": [
    {
     "name": "stdout",
     "output_type": "stream",
     "text": [
      "Remember to set your Census API key above!\n"
     ]
    }
   ],
   "source": [
    "# Set your Census API key\n",
    "# Get a free key at: https://api.census.gov/data/key_signup.html\n",
    "\n",
    "# tc.set_census_api_key(\"YOUR_API_KEY_HERE\")\n",
    "\n",
    "print(\"Remember to set your Census API key above!\")"
   ]
  },
  {
   "cell_type": "markdown",
   "metadata": {},
   "source": [
    "## Step 1: Download Time Series Data\n",
    "\n",
    "We'll use the new `get_time_series()` function to automatically handle boundary changes across years."
   ]
  },
  {
   "cell_type": "code",
   "execution_count": 39,
   "metadata": {},
   "outputs": [
    {
     "name": "stdout",
     "output_type": "stream",
     "text": [
      "Downloading median household income data for DC tracts...\n",
      "Years: [2015, 2016, 2017, 2018, 2019, 2020, 2021]\n",
      "This will take a few minutes...\n",
      "\n",
      "Collecting data for 2015...\n",
      "Getting data from the 2011-2015 5-year ACS\n",
      "Collecting data for 2016...\n",
      "Getting data from the 2012-2016 5-year ACS\n",
      "Collecting data for 2017...\n",
      "Getting data from the 2013-2017 5-year ACS\n",
      "Collecting data for 2018...\n",
      "Getting data from the 2014-2018 5-year ACS\n",
      "Collecting data for 2019...\n",
      "Getting data from the 2015-2019 5-year ACS\n",
      "Collecting data for 2020...\n",
      "Getting data from the 2016-2020 5-year ACS\n",
      "Collecting data for 2021...\n",
      "Getting data from the 2017-2021 5-year ACS\n",
      "Performing area interpolation for 2015 to 2021 boundaries...\n",
      "Performing area interpolation for 2016 to 2021 boundaries...\n",
      "Performing area interpolation for 2017 to 2021 boundaries...\n",
      "Performing area interpolation for 2018 to 2021 boundaries...\n",
      "Performing area interpolation for 2019 to 2021 boundaries...\n",
      "Performing area interpolation for 2020 to 2021 boundaries...\n",
      "DEBUG: Processing 7 years of data\n",
      "  Year 2021: shape=(206, 8), columns=['GEOID', 'geometry', 'median_income', 'state', 'county', 'tract', 'NAME', 'B19013_001_moe']\n",
      "  Year 2015: shape=(179, 8), columns=['GEOID', 'geometry', 'median_income', 'state', 'county', 'tract', 'NAME', 'B19013_001_moe']\n",
      "  Year 2016: shape=(179, 8), columns=['GEOID', 'geometry', 'median_income', 'state', 'county', 'tract', 'NAME', 'B19013_001_moe']\n",
      "  Year 2017: shape=(179, 8), columns=['GEOID', 'geometry', 'median_income', 'state', 'county', 'tract', 'NAME', 'B19013_001_moe']\n",
      "  Year 2018: shape=(179, 8), columns=['GEOID', 'geometry', 'median_income', 'state', 'county', 'tract', 'NAME', 'B19013_001_moe']\n",
      "  Year 2019: shape=(179, 8), columns=['GEOID', 'geometry', 'median_income', 'state', 'county', 'tract', 'NAME', 'B19013_001_moe']\n",
      "  Year 2020: shape=(206, 8), columns=['GEOID', 'geometry', 'median_income', 'state', 'county', 'tract', 'NAME', 'B19013_001_moe']\n",
      "Downloaded data for 231 census tracts\n",
      "Data shape: (231, 13)\n",
      "\n",
      "Column structure (showing first few):\n",
      "[('', 'GEOID'), (2021, 'median_income'), (2015, 'median_income'), (2016, 'median_income'), (2017, 'median_income'), (2018, 'median_income'), (2019, 'median_income'), (2020, 'median_income'), ('', 'NAME'), ('', 'state')]\n"
     ]
    }
   ],
   "source": [
    "from pytidycensus.time_series import get_time_series\n",
    "\n",
    "# Define years for time series (ACS 5-year data)\n",
    "# Using 2015-2022 for reliable geometry downloads\n",
    "years = [2015, 2016, 2017, 2018, 2019, 2020, 2021]\n",
    "\n",
    "print(f\"Downloading median household income data for DC tracts...\")\n",
    "print(f\"Years: {years}\")\n",
    "print(f\"This will take a few minutes...\\n\")\n",
    "\n",
    "# Download time series data with automatic boundary alignment\n",
    "dc_income = tc.get_time_series(\n",
    "    geography=\"tract\",\n",
    "    variables={\"median_income\": \"B19013_001E\"},\n",
    "    years=years,\n",
    "    dataset=\"acs5\",\n",
    "    state=\"DC\",\n",
    "    base_year=2021,  # Align all data to 2021 boundaries\n",
    "    intensive_variables=[\"median_income\"],  # Median is an intensive variable\n",
    "    geometry=True,\n",
    "    output=\"wide\"\n",
    ")\n",
    "\n",
    "print(f\"Downloaded data for {len(dc_income)} census tracts\")\n",
    "print(f\"Data shape: {dc_income.shape}\")\n",
    "print(f\"\\nColumn structure (showing first few):\")\n",
    "print(dc_income.columns[:10].tolist())"
   ]
  },
  {
   "cell_type": "markdown",
   "metadata": {},
   "source": [
    "## Step 2: Prepare Data for Visualization\n",
    "\n",
    "Transform the data to be compatible with Lonboard and prepare elevation scaling."
   ]
  },
  {
   "cell_type": "code",
   "execution_count": 40,
   "metadata": {},
   "outputs": [
    {
     "name": "stdout",
     "output_type": "stream",
     "text": [
      "Income data prepared for visualization\n",
      "\n",
      "Summary statistics by year:\n",
      "  2015: $71,354 (median), $75,466 (mean)\n",
      "  2016: $75,289 (median), $78,360 (mean)\n",
      "  2017: $79,440 (median), $82,936 (mean)\n",
      "  2018: $84,375 (median), $87,428 (mean)\n",
      "  2019: $94,004 (median), $92,417 (mean)\n",
      "  2020: $98,654 (median), $100,792 (mean)\n",
      "  2021: $102,414 (median), $105,142 (mean)\n"
     ]
    }
   ],
   "source": [
    "# Reproject to WGS84 (required by Lonboard)\n",
    "dc_income = dc_income.to_crs(\"EPSG:4326\")\n",
    "\n",
    "# Extract income data for each year into separate columns\n",
    "income_data = {}\n",
    "for year in years:\n",
    "    col_name = f\"income_{year}\"\n",
    "    dc_income[col_name] = dc_income[(year, 'median_income')]\n",
    "    income_data[year] = col_name\n",
    "    \n",
    "print(\"Income data prepared for visualization\")\n",
    "print(f\"\\nSummary statistics by year:\")\n",
    "for year in years:\n",
    "    col = income_data[year]\n",
    "    print(f\"  {year}: ${dc_income[col].median():,.0f} (median), ${dc_income[col].mean():,.0f} (mean)\")"
   ]
  },
  {
   "cell_type": "code",
   "execution_count": 44,
   "metadata": {},
   "outputs": [
    {
     "name": "stdout",
     "output_type": "stream",
     "text": [
      "\n",
      "Income range for color scaling:\n",
      "  Min (5th percentile): $25,764\n",
      "  Max (95th percentile): $176,906\n",
      "\n",
      "Elevation scaling: 0 to 2000 meters based on income\n",
      "\n",
      "✓ Loaded water bodies from local file: examples/data/Waterbodies.geojson\n",
      "  Water bodies count: 1299\n",
      "  Calculating water overlap for each tract...\n"
     ]
    },
    {
     "ename": "KeyError",
     "evalue": "'GEOID'",
     "output_type": "error",
     "traceback": [
      "\u001b[31m---------------------------------------------------------------------------\u001b[39m",
      "\u001b[31mKeyError\u001b[39m                                  Traceback (most recent call last)",
      "\u001b[36mCell\u001b[39m\u001b[36m \u001b[39m\u001b[32mIn[44]\u001b[39m\u001b[32m, line 89\u001b[39m\n\u001b[32m     87\u001b[39m \u001b[38;5;28mprint\u001b[39m(\u001b[33m\"\u001b[39m\u001b[33m  Calculating water overlap for each tract...\u001b[39m\u001b[33m\"\u001b[39m)\n\u001b[32m     88\u001b[39m dc_income = dc_income.overlay(water_bodies, how=\u001b[33m'\u001b[39m\u001b[33mdifference\u001b[39m\u001b[33m'\u001b[39m, keep_geom_type=\u001b[38;5;28;01mTrue\u001b[39;00m)\n\u001b[32m---> \u001b[39m\u001b[32m89\u001b[39m \u001b[43mdc_income\u001b[49m\u001b[43m.\u001b[49m\u001b[43mdissolve\u001b[49m\u001b[43m(\u001b[49m\u001b[43mby\u001b[49m\u001b[43m=\u001b[49m\u001b[33;43m'\u001b[39;49m\u001b[33;43mGEOID\u001b[39;49m\u001b[33;43m'\u001b[39;49m\u001b[43m,\u001b[49m\u001b[43m \u001b[49m\u001b[43minplace\u001b[49m\u001b[43m=\u001b[49m\u001b[38;5;28;43;01mTrue\u001b[39;49;00m\u001b[43m)\u001b[49m\n\u001b[32m     90\u001b[39m dc_income.reset_index(inplace=\u001b[38;5;28;01mTrue\u001b[39;00m)\n\u001b[32m     91\u001b[39m \u001b[38;5;66;03m# remove small tract slivers created by overlay\u001b[39;00m\n",
      "\u001b[36mFile \u001b[39m\u001b[32m~/miniconda3/envs/census/lib/python3.12/site-packages/geopandas/geodataframe.py:2261\u001b[39m, in \u001b[36mGeoDataFrame.dissolve\u001b[39m\u001b[34m(self, by, aggfunc, as_index, level, sort, observed, dropna, method, grid_size, **kwargs)\u001b[39m\n\u001b[32m   2259\u001b[39m \u001b[38;5;66;03m# Process non-spatial component\u001b[39;00m\n\u001b[32m   2260\u001b[39m data = \u001b[38;5;28mself\u001b[39m.drop(labels=\u001b[38;5;28mself\u001b[39m.geometry.name, axis=\u001b[32m1\u001b[39m)\n\u001b[32m-> \u001b[39m\u001b[32m2261\u001b[39m aggregated_data = \u001b[43mdata\u001b[49m\u001b[43m.\u001b[49m\u001b[43mgroupby\u001b[49m\u001b[43m(\u001b[49m\u001b[43m*\u001b[49m\u001b[43m*\u001b[49m\u001b[43mgroupby_kwargs\u001b[49m\u001b[43m)\u001b[49m.agg(aggfunc, **kwargs)\n\u001b[32m   2263\u001b[39m aggregated_data.columns = aggregated_data.columns.to_flat_index()\n\u001b[32m   2265\u001b[39m \u001b[38;5;66;03m# Process spatial component\u001b[39;00m\n",
      "\u001b[36mFile \u001b[39m\u001b[32m~/miniconda3/envs/census/lib/python3.12/site-packages/pandas/core/frame.py:9210\u001b[39m, in \u001b[36mDataFrame.groupby\u001b[39m\u001b[34m(self, by, axis, level, as_index, sort, group_keys, observed, dropna)\u001b[39m\n\u001b[32m   9207\u001b[39m \u001b[38;5;28;01mif\u001b[39;00m level \u001b[38;5;129;01mis\u001b[39;00m \u001b[38;5;28;01mNone\u001b[39;00m \u001b[38;5;129;01mand\u001b[39;00m by \u001b[38;5;129;01mis\u001b[39;00m \u001b[38;5;28;01mNone\u001b[39;00m:\n\u001b[32m   9208\u001b[39m     \u001b[38;5;28;01mraise\u001b[39;00m \u001b[38;5;167;01mTypeError\u001b[39;00m(\u001b[33m\"\u001b[39m\u001b[33mYou have to supply one of \u001b[39m\u001b[33m'\u001b[39m\u001b[33mby\u001b[39m\u001b[33m'\u001b[39m\u001b[33m and \u001b[39m\u001b[33m'\u001b[39m\u001b[33mlevel\u001b[39m\u001b[33m'\u001b[39m\u001b[33m\"\u001b[39m)\n\u001b[32m-> \u001b[39m\u001b[32m9210\u001b[39m \u001b[38;5;28;01mreturn\u001b[39;00m \u001b[43mDataFrameGroupBy\u001b[49m\u001b[43m(\u001b[49m\n\u001b[32m   9211\u001b[39m \u001b[43m    \u001b[49m\u001b[43mobj\u001b[49m\u001b[43m=\u001b[49m\u001b[38;5;28;43mself\u001b[39;49m\u001b[43m,\u001b[49m\n\u001b[32m   9212\u001b[39m \u001b[43m    \u001b[49m\u001b[43mkeys\u001b[49m\u001b[43m=\u001b[49m\u001b[43mby\u001b[49m\u001b[43m,\u001b[49m\n\u001b[32m   9213\u001b[39m \u001b[43m    \u001b[49m\u001b[43maxis\u001b[49m\u001b[43m=\u001b[49m\u001b[43maxis\u001b[49m\u001b[43m,\u001b[49m\n\u001b[32m   9214\u001b[39m \u001b[43m    \u001b[49m\u001b[43mlevel\u001b[49m\u001b[43m=\u001b[49m\u001b[43mlevel\u001b[49m\u001b[43m,\u001b[49m\n\u001b[32m   9215\u001b[39m \u001b[43m    \u001b[49m\u001b[43mas_index\u001b[49m\u001b[43m=\u001b[49m\u001b[43mas_index\u001b[49m\u001b[43m,\u001b[49m\n\u001b[32m   9216\u001b[39m \u001b[43m    \u001b[49m\u001b[43msort\u001b[49m\u001b[43m=\u001b[49m\u001b[43msort\u001b[49m\u001b[43m,\u001b[49m\n\u001b[32m   9217\u001b[39m \u001b[43m    \u001b[49m\u001b[43mgroup_keys\u001b[49m\u001b[43m=\u001b[49m\u001b[43mgroup_keys\u001b[49m\u001b[43m,\u001b[49m\n\u001b[32m   9218\u001b[39m \u001b[43m    \u001b[49m\u001b[43mobserved\u001b[49m\u001b[43m=\u001b[49m\u001b[43mobserved\u001b[49m\u001b[43m,\u001b[49m\n\u001b[32m   9219\u001b[39m \u001b[43m    \u001b[49m\u001b[43mdropna\u001b[49m\u001b[43m=\u001b[49m\u001b[43mdropna\u001b[49m\u001b[43m,\u001b[49m\n\u001b[32m   9220\u001b[39m \u001b[43m\u001b[49m\u001b[43m)\u001b[49m\n",
      "\u001b[36mFile \u001b[39m\u001b[32m~/miniconda3/envs/census/lib/python3.12/site-packages/pandas/core/groupby/groupby.py:1331\u001b[39m, in \u001b[36mGroupBy.__init__\u001b[39m\u001b[34m(self, obj, keys, axis, level, grouper, exclusions, selection, as_index, sort, group_keys, observed, dropna)\u001b[39m\n\u001b[32m   1328\u001b[39m \u001b[38;5;28mself\u001b[39m.dropna = dropna\n\u001b[32m   1330\u001b[39m \u001b[38;5;28;01mif\u001b[39;00m grouper \u001b[38;5;129;01mis\u001b[39;00m \u001b[38;5;28;01mNone\u001b[39;00m:\n\u001b[32m-> \u001b[39m\u001b[32m1331\u001b[39m     grouper, exclusions, obj = \u001b[43mget_grouper\u001b[49m\u001b[43m(\u001b[49m\n\u001b[32m   1332\u001b[39m \u001b[43m        \u001b[49m\u001b[43mobj\u001b[49m\u001b[43m,\u001b[49m\n\u001b[32m   1333\u001b[39m \u001b[43m        \u001b[49m\u001b[43mkeys\u001b[49m\u001b[43m,\u001b[49m\n\u001b[32m   1334\u001b[39m \u001b[43m        \u001b[49m\u001b[43maxis\u001b[49m\u001b[43m=\u001b[49m\u001b[43maxis\u001b[49m\u001b[43m,\u001b[49m\n\u001b[32m   1335\u001b[39m \u001b[43m        \u001b[49m\u001b[43mlevel\u001b[49m\u001b[43m=\u001b[49m\u001b[43mlevel\u001b[49m\u001b[43m,\u001b[49m\n\u001b[32m   1336\u001b[39m \u001b[43m        \u001b[49m\u001b[43msort\u001b[49m\u001b[43m=\u001b[49m\u001b[43msort\u001b[49m\u001b[43m,\u001b[49m\n\u001b[32m   1337\u001b[39m \u001b[43m        \u001b[49m\u001b[43mobserved\u001b[49m\u001b[43m=\u001b[49m\u001b[38;5;28;43;01mFalse\u001b[39;49;00m\u001b[43m \u001b[49m\u001b[38;5;28;43;01mif\u001b[39;49;00m\u001b[43m \u001b[49m\u001b[43mobserved\u001b[49m\u001b[43m \u001b[49m\u001b[38;5;129;43;01mis\u001b[39;49;00m\u001b[43m \u001b[49m\u001b[43mlib\u001b[49m\u001b[43m.\u001b[49m\u001b[43mno_default\u001b[49m\u001b[43m \u001b[49m\u001b[38;5;28;43;01melse\u001b[39;49;00m\u001b[43m \u001b[49m\u001b[43mobserved\u001b[49m\u001b[43m,\u001b[49m\n\u001b[32m   1338\u001b[39m \u001b[43m        \u001b[49m\u001b[43mdropna\u001b[49m\u001b[43m=\u001b[49m\u001b[38;5;28;43mself\u001b[39;49m\u001b[43m.\u001b[49m\u001b[43mdropna\u001b[49m\u001b[43m,\u001b[49m\n\u001b[32m   1339\u001b[39m \u001b[43m    \u001b[49m\u001b[43m)\u001b[49m\n\u001b[32m   1341\u001b[39m \u001b[38;5;28;01mif\u001b[39;00m observed \u001b[38;5;129;01mis\u001b[39;00m lib.no_default:\n\u001b[32m   1342\u001b[39m     \u001b[38;5;28;01mif\u001b[39;00m \u001b[38;5;28many\u001b[39m(ping._passed_categorical \u001b[38;5;28;01mfor\u001b[39;00m ping \u001b[38;5;129;01min\u001b[39;00m grouper.groupings):\n",
      "\u001b[36mFile \u001b[39m\u001b[32m~/miniconda3/envs/census/lib/python3.12/site-packages/pandas/core/groupby/grouper.py:1043\u001b[39m, in \u001b[36mget_grouper\u001b[39m\u001b[34m(obj, key, axis, level, sort, observed, validate, dropna)\u001b[39m\n\u001b[32m   1041\u001b[39m         in_axis, level, gpr = \u001b[38;5;28;01mFalse\u001b[39;00m, gpr, \u001b[38;5;28;01mNone\u001b[39;00m\n\u001b[32m   1042\u001b[39m     \u001b[38;5;28;01melse\u001b[39;00m:\n\u001b[32m-> \u001b[39m\u001b[32m1043\u001b[39m         \u001b[38;5;28;01mraise\u001b[39;00m \u001b[38;5;167;01mKeyError\u001b[39;00m(gpr)\n\u001b[32m   1044\u001b[39m \u001b[38;5;28;01melif\u001b[39;00m \u001b[38;5;28misinstance\u001b[39m(gpr, Grouper) \u001b[38;5;129;01mand\u001b[39;00m gpr.key \u001b[38;5;129;01mis\u001b[39;00m \u001b[38;5;129;01mnot\u001b[39;00m \u001b[38;5;28;01mNone\u001b[39;00m:\n\u001b[32m   1045\u001b[39m     \u001b[38;5;66;03m# Add key to exclusions\u001b[39;00m\n\u001b[32m   1046\u001b[39m     exclusions.add(gpr.key)\n",
      "\u001b[31mKeyError\u001b[39m: 'GEOID'"
     ]
    }
   ],
   "source": [
    "# Calculate global min/max for consistent color scaling across years\n",
    "all_income_values = []\n",
    "for year in years:\n",
    "    col = income_data[year]\n",
    "    all_income_values.extend(dc_income[col].dropna().tolist())\n",
    "\n",
    "min_income = np.percentile(all_income_values, 5)  # Use 5th percentile to avoid outliers\n",
    "max_income = np.percentile(all_income_values, 95)  # Use 95th percentile\n",
    "\n",
    "print(f\"\\nIncome range for color scaling:\")\n",
    "print(f\"  Min (5th percentile): ${min_income:,.0f}\")\n",
    "print(f\"  Max (95th percentile): ${max_income:,.0f}\")\n",
    "\n",
    "# Define elevation scaling function\n",
    "def calculate_elevation(income_values, min_val, max_val, max_height=4000):\n",
    "    \"\"\"\n",
    "    Calculate elevation based on income values.\n",
    "    Higher income = taller polygons.\n",
    "    \n",
    "    Parameters:\n",
    "    -----------\n",
    "    income_values : array-like\n",
    "        Income values to scale\n",
    "    min_val : float\n",
    "        Minimum income for scaling\n",
    "    max_val : float\n",
    "        Maximum income for scaling\n",
    "    max_height : float\n",
    "        Maximum elevation in meters\n",
    "    \"\"\"\n",
    "    # Normalize to 0-1 range\n",
    "    normalized = (income_values - min_val) / (max_val - min_val)\n",
    "    # Clip to ensure values are in [0, 1]\n",
    "    normalized = np.clip(normalized, 0, 1)\n",
    "    # Apply power transformation for better visual distinction\n",
    "    normalized = np.power(normalized, 0.7)\n",
    "    # Scale to maximum height\n",
    "    return normalized * max_height\n",
    "\n",
    "print(f\"\\nElevation scaling: 0 to 2000 meters based on income\")\n",
    "\n",
    "# Load water bodies to exclude from visualization\n",
    "import os\n",
    "water_bodies = None\n",
    "\n",
    "# Try to load from local file first\n",
    "water_file = None\n",
    "for filename in ['waterbodies.geojson', 'Waterbodies.geojson']:\n",
    "    potential_path = os.path.join('examples', 'data', filename)\n",
    "    if os.path.exists(potential_path):\n",
    "        water_file = potential_path\n",
    "        break\n",
    "\n",
    "if water_file:\n",
    "    try:\n",
    "        water_bodies = gpd.read_file(water_file)\n",
    "        print(f\"\\n✓ Loaded water bodies from local file: {water_file}\")\n",
    "    except Exception as e:\n",
    "        print(f\"\\n⚠ Error loading local water file: {e}\")\n",
    "        water_bodies = None\n",
    "\n",
    "# If local file not found or failed, try downloading from DC GIS\n",
    "if water_bodies is None:\n",
    "    print(\"\\n  Attempting to download water bodies from DC GIS...\")\n",
    "    dc_water_url = 'https://maps2.dcgis.dc.gov/dcgis/rest/services/DCGIS_DATA/Environment_Water_WebMercator/MapServer/24/query?outFields=*&where=1%3D1&f=geojson'\n",
    "    \n",
    "    try:\n",
    "        water_bodies = gpd.read_file(dc_water_url)\n",
    "        print(f\"✓ Successfully downloaded water bodies from DC GIS\")\n",
    "        \n",
    "        # Optionally save for future use\n",
    "        os.makedirs('examples/data', exist_ok=True)\n",
    "        save_path = 'examples/data/Waterbodies.geojson'\n",
    "        water_bodies.to_file(save_path, driver='GeoJSON')\n",
    "        print(f\"  Saved to {save_path} for future use\")\n",
    "    except Exception as e:\n",
    "        print(f\"⚠ Could not download water bodies: {e}\")\n",
    "        water_bodies = None\n",
    "\n",
    "# Process water bodies if available\n",
    "if water_bodies is not None:\n",
    "    # Ensure same CRS\n",
    "    water_bodies = water_bodies.to_crs(dc_income.crs)\n",
    "    print(f\"  Water bodies count: {len(water_bodies)}\")\n",
    "    \n",
    "\n",
    "    print(\"  Calculating water overlap for each tract...\")\n",
    "    dc_income = dc_income.overlay(water_bodies, how='difference', keep_geom_type=True)\n",
    "    dc_income.dissolve(by='GEOID', inplace=True)\n",
    "    dc_income.reset_index(inplace=True)\n",
    "    # remove small tract slivers created by overlay\n",
    "    dc_income['area'] = dc_income.geometry.area\n",
    "    area_threshold = dc_income['area'].median() * 0.35\n",
    "    dc_income = dc_income[dc_income['area'] > area_threshold]\n",
    "    dc_income = dc_income.drop(columns=['area'])    \n",
    " "
   ]
  },
  {
   "cell_type": "markdown",
   "metadata": {},
   "source": [
    "## Step 3: Create Interactive 3D Visualization\n",
    "\n",
    "Build the Lonboard map with a time slider to explore income changes over time."
   ]
  },
  {
   "cell_type": "code",
   "execution_count": null,
   "metadata": {},
   "outputs": [
    {
     "name": "stdout",
     "output_type": "stream",
     "text": [
      "Interactive map created!\n",
      "\n",
      "Visualization features:\n",
      "  - Color: Yellow (low income) to Red (high income)\n",
      "  - Height: Proportional to median household income\n",
      "  - Color and height are synchronized to income values\n",
      "  - Use slider below to explore different years\n",
      "  - Click and drag to rotate the view\n",
      "  - Scroll to zoom in/out\n"
     ]
    }
   ],
   "source": [
    "def create_layer_for_year(year):\n",
    "    \"\"\"\n",
    "    Create a SolidPolygonLayer for a specific year.\n",
    "    Colors are mapped to the same values as elevation (income).\n",
    "    \"\"\"\n",
    "    col = income_data[year]\n",
    "    \n",
    "    # Get income values\n",
    "    income_values = dc_income[col].fillna(min_income).values\n",
    "    \n",
    "    # Calculate elevations based on income\n",
    "    elevations = calculate_elevation(income_values, min_income, max_income)\n",
    "    \n",
    "    # IMPORTANT: Map colors to the SAME income values used for elevation\n",
    "    # Normalize income to 0-1 range for color mapping\n",
    "    income_normalized = (income_values - min_income) / (max_income - min_income)\n",
    "    income_normalized = np.clip(income_normalized, 0, 1)\n",
    "    \n",
    "    # Apply colormap using the normalized income values\n",
    "    # This ensures color directly corresponds to income/elevation\n",
    "    colors = apply_continuous_cmap(\n",
    "        income_normalized,  # Use normalized values, not raw income\n",
    "        YlOrRd_9,\n",
    "        alpha=0.8\n",
    "    )\n",
    "    \n",
    "    # Create a simple GeoDataFrame with just geometry\n",
    "    # Extract geometry column (it's not in the multi-index)\n",
    "    gdf_clean = gpd.GeoDataFrame(geometry=dc_income.geometry, crs=dc_income.crs)\n",
    "    \n",
    "    # Create layer with explicit parameters\n",
    "    layer = SolidPolygonLayer.from_geopandas(\n",
    "        gdf_clean,\n",
    "        get_elevation=elevations,\n",
    "        get_fill_color=colors,\n",
    "        extruded=True,\n",
    "        wireframe=True,\n",
    "        pickable=True,\n",
    "        auto_downcast=False  # Disable auto downcasting to avoid pandas/arrow issues\n",
    "    )\n",
    "    \n",
    "    return layer\n",
    "\n",
    "# Create initial layer for first year\n",
    "initial_layer = create_layer_for_year(years[0])\n",
    "\n",
    "# Create map centered on DC\n",
    "m = Map(\n",
    "    layers=[initial_layer],\n",
    "    view_state={\n",
    "        'latitude': 38.9072,\n",
    "        'longitude': -77.0369,\n",
    "        'zoom': 11,\n",
    "        'pitch': 45,\n",
    "        'bearing': 0\n",
    "    },\n",
    "    height=700\n",
    ")\n",
    "\n",
    "print(\"Interactive map created!\")\n",
    "print(\"\\nVisualization features:\")\n",
    "print(\"  - Color: Yellow (low income) to Red (high income)\")\n",
    "print(\"  - Height: Proportional to median household income\")\n",
    "print(\"  - Color and height are synchronized to income values\")\n",
    "print(\"  - Use slider below to explore different years\")\n",
    "print(\"  - Click and drag to rotate the view\")\n",
    "print(\"  - Scroll to zoom in/out\")"
   ]
  },
  {
   "cell_type": "code",
   "execution_count": null,
   "metadata": {},
   "outputs": [
    {
     "data": {
      "application/vnd.jupyter.widget-view+json": {
       "model_id": "f11b170b71584d6d9b8915c3812fc640",
       "version_major": 2,
       "version_minor": 0
      },
      "text/plain": [
       "VBox(children=(HTML(value='<b>Median Household Income - Washington DC Census Tracts</b><br><i>Data from ACS 5-…"
      ]
     },
     "metadata": {},
     "output_type": "display_data"
    },
    {
     "data": {
      "application/vnd.jupyter.widget-view+json": {
       "model_id": "0efbaf5540344f9aa5bc53a183e9be32",
       "version_major": 2,
       "version_minor": 1
      },
      "text/plain": [
       "Map(custom_attribution='', height='700px', layers=(SolidPolygonLayer(extruded=True, get_elevation=arro3.core.C…"
      ]
     },
     "metadata": {},
     "output_type": "display_data"
    }
   ],
   "source": [
    "# Create year slider\n",
    "year_slider = widgets.IntSlider(\n",
    "    value=years[0],\n",
    "    min=years[0],\n",
    "    max=years[-1],\n",
    "    step=3,  # 3-year increments\n",
    "    description='Year:',\n",
    "    style={'description_width': '60px'},\n",
    "    layout=widgets.Layout(width='600px')\n",
    ")\n",
    "\n",
    "# Create info label\n",
    "info_label = widgets.HTML(\n",
    "    value=f\"<b>Median Household Income - Washington DC Census Tracts</b><br>\"\n",
    "          f\"<i>Data from ACS 5-year estimates, aligned to 2022 boundaries</i><br>\"\n",
    "          f\"Year: {years[0]}\"\n",
    ")\n",
    "\n",
    "# Create statistics display\n",
    "stats_label = widgets.HTML()\n",
    "\n",
    "def update_stats(year):\n",
    "    col = income_data[year]\n",
    "    median_val = dc_income[col].median()\n",
    "    mean_val = dc_income[col].mean()\n",
    "    min_val = dc_income[col].min()\n",
    "    max_val = dc_income[col].max()\n",
    "    \n",
    "    stats_label.value = f\"\"\"\n",
    "    <div style='background-color: #f0f0f0; padding: 10px; border-radius: 5px; margin-top: 10px;'>\n",
    "        <b>Statistics for {year}:</b><br>\n",
    "        Median: ${median_val:,.0f}<br>\n",
    "        Mean: ${mean_val:,.0f}<br>\n",
    "        Range: ${min_val:,.0f} - ${max_val:,.0f}\n",
    "    </div>\n",
    "    \"\"\"\n",
    "\n",
    "# Update function for slider\n",
    "def update_map(change):\n",
    "    year = change['new']\n",
    "    \n",
    "    # Update layer\n",
    "    new_layer = create_layer_for_year(year)\n",
    "    m.layers = [new_layer]\n",
    "    \n",
    "    # Update info\n",
    "    info_label.value = f\"<b>Median Household Income - Washington DC Census Tracts</b><br>\" \\\n",
    "                      f\"<i>Data from ACS 5-year estimates, aligned to 2022 boundaries</i><br>\" \\\n",
    "                      f\"Year: {year}\"\n",
    "    \n",
    "    # Update statistics\n",
    "    update_stats(year)\n",
    "\n",
    "# Initialize stats\n",
    "update_stats(years[0])\n",
    "\n",
    "# Connect slider to update function\n",
    "year_slider.observe(update_map, names='value')\n",
    "\n",
    "# Create layout\n",
    "controls = widgets.VBox([\n",
    "    info_label,\n",
    "    year_slider,\n",
    "    stats_label\n",
    "])\n",
    "\n",
    "# Display everything\n",
    "display(controls)\n",
    "display(m)"
   ]
  },
  {
   "cell_type": "code",
   "execution_count": null,
   "metadata": {},
   "outputs": [],
   "source": []
  }
 ],
 "metadata": {
  "kernelspec": {
   "display_name": "Python 3",
   "language": "python",
   "name": "python3"
  },
  "language_info": {
   "codemirror_mode": {
    "name": "ipython",
    "version": 3
   },
   "file_extension": ".py",
   "mimetype": "text/x-python",
   "name": "python",
   "nbconvert_exporter": "python",
   "pygments_lexer": "ipython3",
   "version": "3.11.0"
  }
 },
 "nbformat": 4,
 "nbformat_minor": 4
}
