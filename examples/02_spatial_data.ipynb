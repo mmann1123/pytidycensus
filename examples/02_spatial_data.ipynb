{
 "cells": [
  {
   "cell_type": "markdown",
   "metadata": {},
   "source": [
    "# Spatial data in pytidycensus\n",
    "\n",
    "[![Open in Colab](https://colab.research.google.com/assets/colab-badge.svg)](https://colab.research.google.com/github/mmann1123/pytidycensus/blob/main/examples/02_spatial_data.ipynb)\n",
    "\n",
    "This notebook demonstrates how to work with spatial data in **pytidycensus**, including creating maps and performing spatial analysis with GeoPandas.\n",
    "\n",
    "## Setup\n",
    "\n",
    "First, let's install and import the necessary packages:"
   ]
  },
  {
   "cell_type": "code",
   "execution_count": 1,
   "metadata": {},
   "outputs": [
    {
     "ename": "ModuleNotFoundError",
     "evalue": "No module named 'build'",
     "output_type": "error",
     "traceback": [
      "\u001b[31m---------------------------------------------------------------------------\u001b[39m",
      "\u001b[31mModuleNotFoundError\u001b[39m                       Traceback (most recent call last)",
      "\u001b[36mCell\u001b[39m\u001b[36m \u001b[39m\u001b[32mIn[1]\u001b[39m\u001b[32m, line 4\u001b[39m\n\u001b[32m      1\u001b[39m \u001b[38;5;66;03m# Uncomment to install if running in Colab\u001b[39;00m\n\u001b[32m      2\u001b[39m \u001b[38;5;66;03m# !pip install pytidycensus geopandas matplotlib contextily\u001b[39;00m\n\u001b[32m----> \u001b[39m\u001b[32m4\u001b[39m \u001b[38;5;28;01mimport\u001b[39;00m\u001b[38;5;250m \u001b[39m\u001b[34;01mpytidycensus\u001b[39;00m\u001b[38;5;250m \u001b[39m\u001b[38;5;28;01mas\u001b[39;00m\u001b[38;5;250m \u001b[39m\u001b[34;01mtc\u001b[39;00m\n\u001b[32m      5\u001b[39m \u001b[38;5;28;01mimport\u001b[39;00m\u001b[38;5;250m \u001b[39m\u001b[34;01mpandas\u001b[39;00m\u001b[38;5;250m \u001b[39m\u001b[38;5;28;01mas\u001b[39;00m\u001b[38;5;250m \u001b[39m\u001b[34;01mpd\u001b[39;00m\n\u001b[32m      6\u001b[39m \u001b[38;5;28;01mimport\u001b[39;00m\u001b[38;5;250m \u001b[39m\u001b[34;01mgeopandas\u001b[39;00m\u001b[38;5;250m \u001b[39m\u001b[38;5;28;01mas\u001b[39;00m\u001b[38;5;250m \u001b[39m\u001b[34;01mgpd\u001b[39;00m\n",
      "\u001b[36mFile \u001b[39m\u001b[32m~/Documents/github/pytidycensus/pytidycensus/__init__.py:13\u001b[39m\n\u001b[32m     10\u001b[39m __version__ = \u001b[33m\"\u001b[39m\u001b[33m0.1.0\u001b[39m\u001b[33m\"\u001b[39m\n\u001b[32m     11\u001b[39m __author__ = \u001b[33m\"\u001b[39m\u001b[33mpytidycensus contributors\u001b[39m\u001b[33m\"\u001b[39m\n\u001b[32m---> \u001b[39m\u001b[32m13\u001b[39m \u001b[38;5;28;01mfrom\u001b[39;00m\u001b[38;5;250m \u001b[39m\u001b[34;01m.\u001b[39;00m\u001b[34;01macs\u001b[39;00m\u001b[38;5;250m \u001b[39m\u001b[38;5;28;01mimport\u001b[39;00m get_acs\n\u001b[32m     14\u001b[39m \u001b[38;5;28;01mfrom\u001b[39;00m\u001b[38;5;250m \u001b[39m\u001b[34;01m.\u001b[39;00m\u001b[34;01mapi\u001b[39;00m\u001b[38;5;250m \u001b[39m\u001b[38;5;28;01mimport\u001b[39;00m CensusAPI, set_census_api_key\n\u001b[32m     15\u001b[39m \u001b[38;5;28;01mfrom\u001b[39;00m\u001b[38;5;250m \u001b[39m\u001b[34;01m.\u001b[39;00m\u001b[34;01mdecennial\u001b[39;00m\u001b[38;5;250m \u001b[39m\u001b[38;5;28;01mimport\u001b[39;00m get_decennial\n",
      "\u001b[36mFile \u001b[39m\u001b[32m~/Documents/github/pytidycensus/pytidycensus/acs.py:12\u001b[39m\n\u001b[32m      9\u001b[39m \u001b[38;5;28;01mimport\u001b[39;00m\u001b[38;5;250m \u001b[39m\u001b[34;01mpandas\u001b[39;00m\u001b[38;5;250m \u001b[39m\u001b[38;5;28;01mas\u001b[39;00m\u001b[38;5;250m \u001b[39m\u001b[34;01mpd\u001b[39;00m\n\u001b[32m     11\u001b[39m \u001b[38;5;28;01mfrom\u001b[39;00m\u001b[38;5;250m \u001b[39m\u001b[34;01m.\u001b[39;00m\u001b[34;01mapi\u001b[39;00m\u001b[38;5;250m \u001b[39m\u001b[38;5;28;01mimport\u001b[39;00m CensusAPI\n\u001b[32m---> \u001b[39m\u001b[32m12\u001b[39m \u001b[38;5;28;01mfrom\u001b[39;00m\u001b[38;5;250m \u001b[39m\u001b[34;01m.\u001b[39;00m\u001b[34;01mgeography\u001b[39;00m\u001b[38;5;250m \u001b[39m\u001b[38;5;28;01mimport\u001b[39;00m get_geography\n\u001b[32m     13\u001b[39m \u001b[38;5;28;01mfrom\u001b[39;00m\u001b[38;5;250m \u001b[39m\u001b[34;01m.\u001b[39;00m\u001b[34;01mutils\u001b[39;00m\u001b[38;5;250m \u001b[39m\u001b[38;5;28;01mimport\u001b[39;00m (\n\u001b[32m     14\u001b[39m     add_margin_of_error,\n\u001b[32m     15\u001b[39m     build_geography_params,\n\u001b[32m   (...)\u001b[39m\u001b[32m     19\u001b[39m     validate_year,\n\u001b[32m     20\u001b[39m )\n\u001b[32m     23\u001b[39m \u001b[38;5;28;01mdef\u001b[39;00m\u001b[38;5;250m \u001b[39m\u001b[34mget_acs\u001b[39m(\n\u001b[32m     24\u001b[39m     geography: \u001b[38;5;28mstr\u001b[39m,\n\u001b[32m     25\u001b[39m     variables: Optional[Union[\u001b[38;5;28mstr\u001b[39m, List[\u001b[38;5;28mstr\u001b[39m], Dict[\u001b[38;5;28mstr\u001b[39m, \u001b[38;5;28mstr\u001b[39m]]] = \u001b[38;5;28;01mNone\u001b[39;00m,\n\u001b[32m   (...)\u001b[39m\u001b[32m     41\u001b[39m     **kwargs,\n\u001b[32m     42\u001b[39m ) -> Union[pd.DataFrame, gpd.GeoDataFrame]:\n",
      "\u001b[36mFile \u001b[39m\u001b[32m~/Documents/github/pytidycensus/pytidycensus/geography.py:16\u001b[39m\n\u001b[32m     13\u001b[39m \u001b[38;5;28;01mimport\u001b[39;00m\u001b[38;5;250m \u001b[39m\u001b[34;01mpandas\u001b[39;00m\u001b[38;5;250m \u001b[39m\u001b[38;5;28;01mas\u001b[39;00m\u001b[38;5;250m \u001b[39m\u001b[34;01mpd\u001b[39;00m\n\u001b[32m     14\u001b[39m \u001b[38;5;28;01mimport\u001b[39;00m\u001b[38;5;250m \u001b[39m\u001b[34;01mrequests\u001b[39;00m\n\u001b[32m---> \u001b[39m\u001b[32m16\u001b[39m \u001b[38;5;28;01mfrom\u001b[39;00m\u001b[38;5;250m \u001b[39m\u001b[34;01m.\u001b[39;00m\u001b[34;01mutils\u001b[39;00m\u001b[38;5;250m \u001b[39m\u001b[38;5;28;01mimport\u001b[39;00m validate_county, validate_state\n\u001b[32m     19\u001b[39m \u001b[38;5;28;01mclass\u001b[39;00m\u001b[38;5;250m \u001b[39m\u001b[34;01mTigerDownloader\u001b[39;00m:\n\u001b[32m     20\u001b[39m \u001b[38;5;250m    \u001b[39m\u001b[33;03m\"\"\"Downloads and processes TIGER/Line shapefiles from the US Census Bureau.\"\"\"\u001b[39;00m\n",
      "\u001b[36mFile \u001b[39m\u001b[32m~/Documents/github/pytidycensus/pytidycensus/utils.py:11\u001b[39m\n\u001b[32m      8\u001b[39m \u001b[38;5;28;01mimport\u001b[39;00m\u001b[38;5;250m \u001b[39m\u001b[34;01mus\u001b[39;00m\n\u001b[32m      9\u001b[39m \u001b[38;5;28;01mimport\u001b[39;00m\u001b[38;5;250m \u001b[39m\u001b[34;01mimportlib\u001b[39;00m\u001b[34;01m.\u001b[39;00m\u001b[34;01mresources\u001b[39;00m\n\u001b[32m---> \u001b[39m\u001b[32m11\u001b[39m \u001b[38;5;28;01mfrom\u001b[39;00m\u001b[38;5;250m \u001b[39m\u001b[34;01mbuild\u001b[39;00m\u001b[34;01m.\u001b[39;00m\u001b[34;01mlib\u001b[39;00m\u001b[34;01m.\u001b[39;00m\u001b[34;01mpytidycensus\u001b[39;00m\u001b[34;01m.\u001b[39;00m\u001b[34;01mutils\u001b[39;00m\u001b[38;5;250m \u001b[39m\u001b[38;5;28;01mimport\u001b[39;00m _normalize_county_name\n\u001b[32m     14\u001b[39m \u001b[38;5;28;01mdef\u001b[39;00m\u001b[38;5;250m \u001b[39m\u001b[34mvalidate_state\u001b[39m(state: Union[\u001b[38;5;28mstr\u001b[39m, \u001b[38;5;28mint\u001b[39m, List[Union[\u001b[38;5;28mstr\u001b[39m, \u001b[38;5;28mint\u001b[39m]]]) -> List[\u001b[38;5;28mstr\u001b[39m]:\n\u001b[32m     15\u001b[39m \u001b[38;5;250m    \u001b[39m\u001b[33;03m\"\"\"\u001b[39;00m\n\u001b[32m     16\u001b[39m \u001b[33;03m    Validate and convert state identifiers to FIPS codes.\u001b[39;00m\n\u001b[32m     17\u001b[39m \n\u001b[32m   (...)\u001b[39m\u001b[32m     31\u001b[39m \u001b[33;03m        If state identifier is invalid\u001b[39;00m\n\u001b[32m     32\u001b[39m \u001b[33;03m    \"\"\"\u001b[39;00m\n",
      "\u001b[31mModuleNotFoundError\u001b[39m: No module named 'build'"
     ]
    }
   ],
   "source": [
    "# Uncomment to install if running in Colab\n",
    "# !pip install pytidycensus geopandas matplotlib contextily\n",
    "\n",
    "import pytidycensus as tc\n",
    "import pandas as pd\n",
    "import geopandas as gpd\n",
    "import matplotlib.pyplot as plt\n",
    "import numpy as np\n",
    "from matplotlib.colors import LinearSegmentedColormap\n",
    "import warnings\n",
    "warnings.filterwarnings('ignore')\n",
    "\n",
    "# Set up matplotlib\n",
    "plt.style.use('default')\n",
    "%matplotlib inline"
   ]
  },
  {
   "cell_type": "markdown",
   "metadata": {},
   "source": [
    "## Census API Key Setup\n",
    "\n",
    "Set your Census API key (get one at https://api.census.gov/data/key_signup.html):"
   ]
  },
  {
   "cell_type": "code",
   "execution_count": null,
   "metadata": {},
   "outputs": [
    {
     "name": "stdout",
     "output_type": "stream",
     "text": [
      "Census API key has been set for this session.\n"
     ]
    }
   ],
   "source": [
    "# Replace with your actual API key\n",
    "tc.set_census_api_key(\"983980b9fc504149e82117c949d7ed44653dc507\")"
   ]
  },
  {
   "cell_type": "markdown",
   "metadata": {},
   "source": [
    "## Getting Spatial Data\n",
    "\n",
    "When you set `geometry=True` in pytidycensus functions, the package automatically downloads the corresponding TIGER/Line shapefiles and merges them with your data.\n",
    "\n",
    "### Example: Median Household Income in Orange County, CA\n",
    "\n",
    "Let's get median household income for Census tracts in Orange County, California:"
   ]
  },
  {
   "cell_type": "code",
   "execution_count": 2,
   "metadata": {},
   "outputs": [
    {
     "ename": "NameError",
     "evalue": "name 'tc' is not defined",
     "output_type": "error",
     "traceback": [
      "\u001b[31m---------------------------------------------------------------------------\u001b[39m",
      "\u001b[31mNameError\u001b[39m                                 Traceback (most recent call last)",
      "\u001b[36mCell\u001b[39m\u001b[36m \u001b[39m\u001b[32mIn[2]\u001b[39m\u001b[32m, line 2\u001b[39m\n\u001b[32m      1\u001b[39m \u001b[38;5;66;03m# Get ACS data with geometry for Orange County, CA\u001b[39;00m\n\u001b[32m----> \u001b[39m\u001b[32m2\u001b[39m orange = \u001b[43mtc\u001b[49m.get_acs(\n\u001b[32m      3\u001b[39m     state=\u001b[33m\"\u001b[39m\u001b[33mCA\u001b[39m\u001b[33m\"\u001b[39m,\n\u001b[32m      4\u001b[39m     county=\u001b[33m\"\u001b[39m\u001b[33mOrange\u001b[39m\u001b[33m\"\u001b[39m,\n\u001b[32m      5\u001b[39m     geography=\u001b[33m\"\u001b[39m\u001b[33mtract\u001b[39m\u001b[33m\"\u001b[39m,\n\u001b[32m      6\u001b[39m     variables=\u001b[33m\"\u001b[39m\u001b[33mB19013_001\u001b[39m\u001b[33m\"\u001b[39m,  \u001b[38;5;66;03m# Median household income\u001b[39;00m\n\u001b[32m      7\u001b[39m     geometry=\u001b[38;5;28;01mTrue\u001b[39;00m,\n\u001b[32m      8\u001b[39m     year=\u001b[32m2022\u001b[39m\n\u001b[32m      9\u001b[39m )\n\u001b[32m     11\u001b[39m \u001b[38;5;28mprint\u001b[39m(\u001b[33mf\u001b[39m\u001b[33m\"\u001b[39m\u001b[33mData type: \u001b[39m\u001b[38;5;132;01m{\u001b[39;00m\u001b[38;5;28mtype\u001b[39m(orange)\u001b[38;5;132;01m}\u001b[39;00m\u001b[33m\"\u001b[39m)\n\u001b[32m     12\u001b[39m \u001b[38;5;28mprint\u001b[39m(\u001b[33mf\u001b[39m\u001b[33m\"\u001b[39m\u001b[33mShape: \u001b[39m\u001b[38;5;132;01m{\u001b[39;00morange.shape\u001b[38;5;132;01m}\u001b[39;00m\u001b[33m\"\u001b[39m)\n",
      "\u001b[31mNameError\u001b[39m: name 'tc' is not defined"
     ]
    }
   ],
   "source": [
    "# Get ACS data with geometry for Orange County, CA\n",
    "orange = tc.get_acs(\n",
    "    state=\"CA\",\n",
    "    county=\"Orange\",\n",
    "    geography=\"tract\",\n",
    "    variables=\"B19013_001\",  # Median household income\n",
    "    geometry=True,\n",
    "    year=2022\n",
    ")\n",
    "\n",
    "print(f\"Data type: {type(orange)}\")\n",
    "print(f\"Shape: {orange.shape}\")\n",
    "print(f\"CRS: {orange.crs}\")\n",
    "orange.head()"
   ]
  },
  {
   "cell_type": "markdown",
   "metadata": {},
   "source": [
    "The returned object is a **GeoDataFrame** with a `geometry` column containing the spatial boundaries. The default coordinate system is NAD83 (EPSG:4269).\n",
    "\n",
    "## Basic Choropleth Mapping\n",
    "\n",
    "Let's create a basic choropleth map:"
   ]
  },
  {
   "cell_type": "code",
   "execution_count": null,
   "metadata": {},
   "outputs": [
    {
     "ename": "ModuleNotFoundError",
     "evalue": "No module named 'mapclassify'",
     "output_type": "error",
     "traceback": [
      "\u001b[31m---------------------------------------------------------------------------\u001b[39m",
      "\u001b[31mModuleNotFoundError\u001b[39m                       Traceback (most recent call last)",
      "\u001b[36mCell\u001b[39m\u001b[36m \u001b[39m\u001b[32mIn[8]\u001b[39m\u001b[32m, line 2\u001b[39m\n\u001b[32m      1\u001b[39m \u001b[38;5;66;03m# Create a basic choropleth map with natural breaks (Jenks) legend\u001b[39;00m\n\u001b[32m----> \u001b[39m\u001b[32m2\u001b[39m \u001b[38;5;28;01mimport\u001b[39;00m\u001b[38;5;250m \u001b[39m\u001b[34;01mmapclassify\u001b[39;00m\n\u001b[32m      4\u001b[39m \u001b[38;5;66;03m# Compute natural breaks (Jenks) for 5 classes\u001b[39;00m\n\u001b[32m      5\u001b[39m jenks = mapclassify.NaturalBreaks(orange[\u001b[33m\"\u001b[39m\u001b[33mB19013_001E\u001b[39m\u001b[33m\"\u001b[39m], k=\u001b[32m5\u001b[39m)\n",
      "\u001b[31mModuleNotFoundError\u001b[39m: No module named 'mapclassify'"
     ]
    }
   ],
   "source": [
    "# Create a basic choropleth map with natural breaks (Jenks) legend\n",
    "import mapclassify\n",
    "\n",
    "# Compute natural breaks (Jenks) for 5 classes\n",
    "jenks = mapclassify.NaturalBreaks(orange[\"B19013_001E\"], k=5)\n",
    "\n",
    "fig, ax = plt.subplots(figsize=(12, 10))\n",
    "\n",
    "orange.plot(\n",
    "    column=\"B19013_001E\",\n",
    "    cmap=\"viridis\",\n",
    "    linewidth=0.1,\n",
    "    edgecolor=\"white\",\n",
    "    legend=True,\n",
    "    ax=ax,\n",
    "    scheme=\"NaturalBreaks\",\n",
    "    classification_kwds={\"k\": 5},\n",
    ")\n",
    "\n",
    "ax.set_title('Median Household Income by Census Tract\\nOrange County, CA (2018-2022 ACS)', \n",
    "             fontsize=14, fontweight='bold')\n",
    "ax.set_axis_off()\n",
    "\n",
    "# Add colorbar label\n",
    "cbar = ax.get_figure().get_axes()[1]\n",
    "cbar.set_ylabel('Median Household Income ($)', rotation=270, labelpad=20)\n",
    "\n",
    "plt.tight_layout()\n",
    "plt.show()"
   ]
  },
  {
   "cell_type": "markdown",
   "metadata": {},
   "source": [
    "## Coordinate Reference Systems\n",
    "\n",
    "For better visualization and analysis, it's often useful to project the data to an appropriate coordinate system:"
   ]
  },
  {
   "cell_type": "code",
   "execution_count": null,
   "metadata": {},
   "outputs": [
    {
     "ename": "NameError",
     "evalue": "name 'orange' is not defined",
     "output_type": "error",
     "traceback": [
      "\u001b[31m---------------------------------------------------------------------------\u001b[39m",
      "\u001b[31mNameError\u001b[39m                                 Traceback (most recent call last)",
      "\u001b[36mCell\u001b[39m\u001b[36m \u001b[39m\u001b[32mIn[8]\u001b[39m\u001b[32m, line 2\u001b[39m\n\u001b[32m      1\u001b[39m \u001b[38;5;66;03m# Project to California Albers (EPSG:3310) for better area representation\u001b[39;00m\n\u001b[32m----> \u001b[39m\u001b[32m2\u001b[39m orange_projected = \u001b[43morange\u001b[49m.to_crs(\u001b[33m'\u001b[39m\u001b[33mEPSG:3310\u001b[39m\u001b[33m'\u001b[39m)\n\u001b[32m      4\u001b[39m fig, ax = plt.subplots(figsize=(\u001b[32m12\u001b[39m, \u001b[32m10\u001b[39m))\n\u001b[32m      6\u001b[39m orange_projected.plot(\n\u001b[32m      7\u001b[39m     column=\u001b[33m'\u001b[39m\u001b[33mvalue\u001b[39m\u001b[33m'\u001b[39m,\n\u001b[32m      8\u001b[39m     cmap=\u001b[33m'\u001b[39m\u001b[33mmagma\u001b[39m\u001b[33m'\u001b[39m,\n\u001b[32m   (...)\u001b[39m\u001b[32m     12\u001b[39m     ax=ax\n\u001b[32m     13\u001b[39m )\n",
      "\u001b[31mNameError\u001b[39m: name 'orange' is not defined"
     ]
    }
   ],
   "source": [
    "# Project to California Albers (EPSG:3310) for better area representation\n",
    "orange_projected = orange.to_crs('EPSG:3310')\n",
    "\n",
    "fig, ax = plt.subplots(figsize=(12, 10))\n",
    "\n",
    "orange_projected.plot(\n",
    "    column='value',\n",
    "    cmap='magma',\n",
    "    linewidth=0.1,\n",
    "    edgecolor='white',\n",
    "    legend=True,\n",
    "    ax=ax\n",
    ")\n",
    "\n",
    "ax.set_title('Median Household Income (Projected)\\nOrange County, CA', \n",
    "             fontsize=14, fontweight='bold')\n",
    "ax.set_axis_off()\n",
    "\n",
    "plt.tight_layout()\n",
    "plt.show()"
   ]
  },
  {
   "cell_type": "markdown",
   "metadata": {},
   "source": [
    "## Faceted Mapping\n",
    "\n",
    "One powerful feature is creating small multiples to compare different variables. Let's look at racial demographics in Harris County, Texas.\n",
    "\n",
    "### Race/Ethnicity Data with Summary Variable"
   ]
  },
  {
   "cell_type": "code",
   "execution_count": null,
   "metadata": {},
   "outputs": [
    {
     "name": "stdout",
     "output_type": "stream",
     "text": [
      "Getting data from the 2020 decennial Census\n",
      "Using the PL 94-171 Redistricting Data Summary File\n"
     ]
    },
    {
     "ename": "ValueError",
     "evalue": "County name lookup not yet implemented: Harris",
     "output_type": "error",
     "traceback": [
      "\u001b[31m---------------------------------------------------------------------------\u001b[39m",
      "\u001b[31mValueError\u001b[39m                                Traceback (most recent call last)",
      "\u001b[36mCell\u001b[39m\u001b[36m \u001b[39m\u001b[32mIn[9]\u001b[39m\u001b[32m, line 10\u001b[39m\n\u001b[32m      2\u001b[39m race_vars = {\n\u001b[32m      3\u001b[39m     \u001b[33m\"\u001b[39m\u001b[33mWhite\u001b[39m\u001b[33m\"\u001b[39m: \u001b[33m\"\u001b[39m\u001b[33mP2_005N\u001b[39m\u001b[33m\"\u001b[39m,\n\u001b[32m      4\u001b[39m     \u001b[33m\"\u001b[39m\u001b[33mBlack\u001b[39m\u001b[33m\"\u001b[39m: \u001b[33m\"\u001b[39m\u001b[33mP2_006N\u001b[39m\u001b[33m\"\u001b[39m, \n\u001b[32m      5\u001b[39m     \u001b[33m\"\u001b[39m\u001b[33mAsian\u001b[39m\u001b[33m\"\u001b[39m: \u001b[33m\"\u001b[39m\u001b[33mP2_008N\u001b[39m\u001b[33m\"\u001b[39m,\n\u001b[32m      6\u001b[39m     \u001b[33m\"\u001b[39m\u001b[33mHispanic\u001b[39m\u001b[33m\"\u001b[39m: \u001b[33m\"\u001b[39m\u001b[33mP2_002N\u001b[39m\u001b[33m\"\u001b[39m\n\u001b[32m      7\u001b[39m }\n\u001b[32m      9\u001b[39m \u001b[38;5;66;03m# Get data for Harris County, TX with total population as summary variable\u001b[39;00m\n\u001b[32m---> \u001b[39m\u001b[32m10\u001b[39m harris = \u001b[43mtc\u001b[49m\u001b[43m.\u001b[49m\u001b[43mget_decennial\u001b[49m\u001b[43m(\u001b[49m\n\u001b[32m     11\u001b[39m \u001b[43m    \u001b[49m\u001b[43mgeography\u001b[49m\u001b[43m=\u001b[49m\u001b[33;43m\"\u001b[39;49m\u001b[33;43mtract\u001b[39;49m\u001b[33;43m\"\u001b[39;49m\u001b[43m,\u001b[49m\n\u001b[32m     12\u001b[39m \u001b[43m    \u001b[49m\u001b[43mvariables\u001b[49m\u001b[43m=\u001b[49m\u001b[43mrace_vars\u001b[49m\u001b[43m,\u001b[49m\n\u001b[32m     13\u001b[39m \u001b[43m    \u001b[49m\u001b[43mstate\u001b[49m\u001b[43m=\u001b[49m\u001b[33;43m\"\u001b[39;49m\u001b[33;43mTX\u001b[39;49m\u001b[33;43m\"\u001b[39;49m\u001b[43m,\u001b[49m\n\u001b[32m     14\u001b[39m \u001b[43m    \u001b[49m\u001b[43mcounty\u001b[49m\u001b[43m=\u001b[49m\u001b[33;43m\"\u001b[39;49m\u001b[33;43mHarris\u001b[39;49m\u001b[33;43m\"\u001b[39;49m\u001b[43m,\u001b[49m\n\u001b[32m     15\u001b[39m \u001b[43m    \u001b[49m\u001b[43mgeometry\u001b[49m\u001b[43m=\u001b[49m\u001b[38;5;28;43;01mTrue\u001b[39;49;00m\u001b[43m,\u001b[49m\n\u001b[32m     16\u001b[39m \u001b[43m    \u001b[49m\u001b[43msummary_var\u001b[49m\u001b[43m=\u001b[49m\u001b[33;43m\"\u001b[39;49m\u001b[33;43mP2_001N\u001b[39;49m\u001b[33;43m\"\u001b[39;49m\u001b[43m,\u001b[49m\u001b[43m  \u001b[49m\u001b[38;5;66;43;03m# Total population\u001b[39;49;00m\n\u001b[32m     17\u001b[39m \u001b[43m    \u001b[49m\u001b[43myear\u001b[49m\u001b[43m=\u001b[49m\u001b[32;43m2020\u001b[39;49m\u001b[43m,\u001b[49m\n\u001b[32m     18\u001b[39m \u001b[43m    \u001b[49m\u001b[43msumfile\u001b[49m\u001b[43m=\u001b[49m\u001b[33;43m\"\u001b[39;49m\u001b[33;43mpl\u001b[39;49m\u001b[33;43m\"\u001b[39;49m\n\u001b[32m     19\u001b[39m \u001b[43m)\u001b[49m\n\u001b[32m     21\u001b[39m \u001b[38;5;28mprint\u001b[39m(\u001b[33mf\u001b[39m\u001b[33m\"\u001b[39m\u001b[33mShape: \u001b[39m\u001b[38;5;132;01m{\u001b[39;00mharris.shape\u001b[38;5;132;01m}\u001b[39;00m\u001b[33m\"\u001b[39m)\n\u001b[32m     22\u001b[39m harris.head()\n",
      "\u001b[36mFile \u001b[39m\u001b[32m~/miniconda3/envs/test2/lib/python3.11/site-packages/pytidycensus/decennial.py:233\u001b[39m, in \u001b[36mget_decennial\u001b[39m\u001b[34m(geography, variables, table, cache_table, year, sumfile, state, county, output, geometry, keep_geo_vars, shift_geo, summary_var, pop_group, pop_group_label, api_key, show_call, **kwargs)\u001b[39m\n\u001b[32m    230\u001b[39m api = CensusAPI(api_key)\n\u001b[32m    232\u001b[39m \u001b[38;5;66;03m# Build geography parameters\u001b[39;00m\n\u001b[32m--> \u001b[39m\u001b[32m233\u001b[39m geo_params = \u001b[43mbuild_geography_params\u001b[49m\u001b[43m(\u001b[49m\u001b[43mgeography\u001b[49m\u001b[43m,\u001b[49m\u001b[43m \u001b[49m\u001b[43mstate\u001b[49m\u001b[43m,\u001b[49m\u001b[43m \u001b[49m\u001b[43mcounty\u001b[49m\u001b[43m,\u001b[49m\u001b[43m \u001b[49m\u001b[43m*\u001b[49m\u001b[43m*\u001b[49m\u001b[43mkwargs\u001b[49m\u001b[43m)\u001b[49m\n\u001b[32m    235\u001b[39m \u001b[38;5;66;03m# Handle summary variable\u001b[39;00m\n\u001b[32m    236\u001b[39m all_variables = variables.copy()\n",
      "\u001b[36mFile \u001b[39m\u001b[32m~/miniconda3/envs/test2/lib/python3.11/site-packages/pytidycensus/utils.py:248\u001b[39m, in \u001b[36mbuild_geography_params\u001b[39m\u001b[34m(geography, state, county, **kwargs)\u001b[39m\n\u001b[32m    246\u001b[39m         params[\u001b[33m\"\u001b[39m\u001b[33min\u001b[39m\u001b[33m\"\u001b[39m] = \u001b[33mf\u001b[39m\u001b[33m\"\u001b[39m\u001b[33mstate:\u001b[39m\u001b[38;5;132;01m{\u001b[39;00m\u001b[33m'\u001b[39m\u001b[33m,\u001b[39m\u001b[33m'\u001b[39m.join(state_fips)\u001b[38;5;132;01m}\u001b[39;00m\u001b[33m\"\u001b[39m\n\u001b[32m    247\u001b[39m         \u001b[38;5;28;01mif\u001b[39;00m county:\n\u001b[32m--> \u001b[39m\u001b[32m248\u001b[39m             county_fips = \u001b[43mvalidate_county\u001b[49m\u001b[43m(\u001b[49m\u001b[43mcounty\u001b[49m\u001b[43m,\u001b[49m\u001b[43m \u001b[49m\u001b[43mstate_fips\u001b[49m\u001b[43m[\u001b[49m\u001b[32;43m0\u001b[39;49m\u001b[43m]\u001b[49m\u001b[43m)\u001b[49m\n\u001b[32m    249\u001b[39m             params[\u001b[33m\"\u001b[39m\u001b[33min\u001b[39m\u001b[33m\"\u001b[39m] += \u001b[33mf\u001b[39m\u001b[33m\"\u001b[39m\u001b[33m county:\u001b[39m\u001b[38;5;132;01m{\u001b[39;00m\u001b[33m'\u001b[39m\u001b[33m,\u001b[39m\u001b[33m'\u001b[39m.join(county_fips)\u001b[38;5;132;01m}\u001b[39;00m\u001b[33m\"\u001b[39m\n\u001b[32m    250\u001b[39m \u001b[38;5;28;01melif\u001b[39;00m geography == \u001b[33m\"\u001b[39m\u001b[33mblock group\u001b[39m\u001b[33m\"\u001b[39m:\n",
      "\u001b[36mFile \u001b[39m\u001b[32m~/miniconda3/envs/test2/lib/python3.11/site-packages/pytidycensus/utils.py:100\u001b[39m, in \u001b[36mvalidate_county\u001b[39m\u001b[34m(county, state_fips)\u001b[39m\n\u001b[32m     96\u001b[39m         fips_codes.append(c.zfill(\u001b[32m3\u001b[39m))\n\u001b[32m     97\u001b[39m     \u001b[38;5;28;01melse\u001b[39;00m:\n\u001b[32m     98\u001b[39m         \u001b[38;5;66;03m# For county name lookup, we'd need additional data\u001b[39;00m\n\u001b[32m     99\u001b[39m         \u001b[38;5;66;03m# For now, just validate format\u001b[39;00m\n\u001b[32m--> \u001b[39m\u001b[32m100\u001b[39m         \u001b[38;5;28;01mraise\u001b[39;00m \u001b[38;5;167;01mValueError\u001b[39;00m(\u001b[33mf\u001b[39m\u001b[33m\"\u001b[39m\u001b[33mCounty name lookup not yet implemented: \u001b[39m\u001b[38;5;132;01m{\u001b[39;00mc\u001b[38;5;132;01m}\u001b[39;00m\u001b[33m\"\u001b[39m)\n\u001b[32m    102\u001b[39m \u001b[38;5;28;01mreturn\u001b[39;00m fips_codes\n",
      "\u001b[31mValueError\u001b[39m: County name lookup not yet implemented: Harris"
     ]
    }
   ],
   "source": [
    "# Define race/ethnicity variables for 2020 Census\n",
    "race_vars = {\n",
    "    \"White\": \"P2_005N\",\n",
    "    \"Black\": \"P2_006N\", \n",
    "    \"Asian\": \"P2_008N\",\n",
    "    \"Hispanic\": \"P2_002N\"\n",
    "}\n",
    "\n",
    "# Get data for Harris County, TX with total population as summary variable\n",
    "harris = tc.get_decennial(\n",
    "    geography=\"tract\",\n",
    "    variables=race_vars,\n",
    "    state=\"TX\",\n",
    "    county=\"Harris\",\n",
    "    geometry=True,\n",
    "    summary_var=\"P2_001N\",  # Total population\n",
    "    year=2020,\n",
    "    sumfile=\"pl\"\n",
    ")\n",
    "\n",
    "print(f\"Shape: {harris.shape}\")\n",
    "harris.head()"
   ]
  },
  {
   "cell_type": "markdown",
   "metadata": {},
   "source": [
    "Notice that we have multiple rows per tract (one for each race/ethnicity variable) and a `summary_value` column with the total population.\n",
    "\n",
    "### Calculate Percentages and Create Faceted Map"
   ]
  },
  {
   "cell_type": "code",
   "execution_count": null,
   "metadata": {},
   "outputs": [],
   "source": [
    "# Calculate percentage of total population\n",
    "harris['percent'] = 100 * (harris['value'] / harris['summary_value'])\n",
    "\n",
    "# Create faceted map\n",
    "fig, axes = plt.subplots(2, 2, figsize=(15, 12))\n",
    "axes = axes.ravel()\n",
    "\n",
    "# Get unique variables for iteration\n",
    "variables = harris['variable'].unique()\n",
    "\n",
    "for i, var in enumerate(variables):\n",
    "    # Filter data for this variable\n",
    "    subset = harris[harris['variable'] == var]\n",
    "    \n",
    "    # Create map\n",
    "    subset.plot(\n",
    "        column='percent',\n",
    "        cmap='viridis',\n",
    "        linewidth=0,\n",
    "        legend=True,\n",
    "        ax=axes[i],\n",
    "        vmin=0,\n",
    "        vmax=80  # Set consistent scale\n",
    "    )\n",
    "    \n",
    "    axes[i].set_title(f'{var}', fontsize=12, fontweight='bold')\n",
    "    axes[i].set_axis_off()\n",
    "\n",
    "plt.suptitle('Racial and Ethnic Geography of Harris County, TX\\n2020 Census (% of Total Population)', \n",
    "             fontsize=16, fontweight='bold')\n",
    "plt.tight_layout()\n",
    "plt.show()"
   ]
  },
  {
   "cell_type": "markdown",
   "metadata": {},
   "source": [
    "## Interactive Analysis\n",
    "\n",
    "Let's explore the data interactively by looking at summary statistics:"
   ]
  },
  {
   "cell_type": "code",
   "execution_count": null,
   "metadata": {},
   "outputs": [],
   "source": [
    "# Summary statistics by race/ethnicity\n",
    "summary_stats = harris.groupby('variable')['percent'].describe()\n",
    "print(\"Percentage Distribution by Race/Ethnicity:\")\n",
    "print(summary_stats.round(2))"
   ]
  },
  {
   "cell_type": "code",
   "execution_count": null,
   "metadata": {},
   "outputs": [],
   "source": [
    "# Create box plots to show distribution\n",
    "fig, ax = plt.subplots(figsize=(10, 6))\n",
    "\n",
    "harris.boxplot(column='percent', by='variable', ax=ax)\n",
    "ax.set_title('Distribution of Race/Ethnicity Percentages by Census Tract\\nHarris County, TX')\n",
    "ax.set_xlabel('Race/Ethnicity Group')\n",
    "ax.set_ylabel('Percentage of Total Population')\n",
    "plt.xticks(rotation=45)\n",
    "plt.suptitle('')  # Remove automatic title\n",
    "plt.tight_layout()\n",
    "plt.show()"
   ]
  },
  {
   "cell_type": "markdown",
   "metadata": {},
   "source": [
    "## Working with Different Geographic Levels\n",
    "\n",
    "### State-Level Data\n",
    "\n",
    "Let's create a map of median household income for all US states:"
   ]
  },
  {
   "cell_type": "code",
   "execution_count": null,
   "metadata": {},
   "outputs": [],
   "source": [
    "# Get median household income for all states\n",
    "states_income = tc.get_acs(\n",
    "    geography=\"state\",\n",
    "    variables=\"B19013_001\",\n",
    "    year=2022,\n",
    "    geometry=True\n",
    ")\n",
    "\n",
    "# Remove territories for cleaner continental US map\n",
    "states_continental = states_income[\n",
    "    ~states_income['NAME'].isin([\n",
    "        'Puerto Rico', 'United States Virgin Islands', \n",
    "        'Guam', 'American Samoa', 'Commonwealth of the Northern Mariana Islands'\n",
    "    ])\n",
    "]\n",
    "\n",
    "print(f\"Number of states/DC: {len(states_continental)}\")"
   ]
  },
  {
   "cell_type": "code",
   "execution_count": null,
   "metadata": {},
   "outputs": [],
   "source": [
    "# Project to Albers Equal Area for US mapping\n",
    "states_albers = states_continental.to_crs('EPSG:5070')\n",
    "\n",
    "fig, ax = plt.subplots(figsize=(15, 10))\n",
    "\n",
    "states_albers.plot(\n",
    "    column='value',\n",
    "    cmap='RdYlBu_r',\n",
    "    linewidth=0.5,\n",
    "    edgecolor='white',\n",
    "    legend=True,\n",
    "    ax=ax\n",
    ")\n",
    "\n",
    "ax.set_title('Median Household Income by State\\n2018-2022 American Community Survey', \n",
    "             fontsize=16, fontweight='bold')\n",
    "ax.set_axis_off()\n",
    "\n",
    "# Add colorbar label\n",
    "cbar = ax.get_figure().get_axes()[1]\n",
    "cbar.set_ylabel('Median Household Income ($)', rotation=270, labelpad=20)\n",
    "\n",
    "plt.tight_layout()\n",
    "plt.show()"
   ]
  },
  {
   "cell_type": "markdown",
   "metadata": {},
   "source": [
    "### County-Level Analysis\n",
    "\n",
    "Let's look at population density across counties in a specific state:"
   ]
  },
  {
   "cell_type": "code",
   "execution_count": null,
   "metadata": {},
   "outputs": [],
   "source": [
    "# Get population and calculate density for California counties\n",
    "ca_counties = tc.get_acs(\n",
    "    geography=\"county\",\n",
    "    variables=\"B01003_001\",  # Total population\n",
    "    state=\"CA\",\n",
    "    year=2022,\n",
    "    geometry=True\n",
    ")\n",
    "\n",
    "# Calculate area in square kilometers and population density\n",
    "ca_counties_proj = ca_counties.to_crs('EPSG:3310')  # California Albers\n",
    "ca_counties_proj['area_km2'] = ca_counties_proj.geometry.area / 1e6\n",
    "ca_counties_proj['density'] = ca_counties_proj['value'] / ca_counties_proj['area_km2']\n",
    "\n",
    "print(\"Top 10 most dense counties:\")\n",
    "print(ca_counties_proj.nlargest(10, 'density')[['NAME', 'density']].round(1))"
   ]
  },
  {
   "cell_type": "code",
   "execution_count": null,
   "metadata": {},
   "outputs": [],
   "source": [
    "# Map population density with log scale\n",
    "fig, ax = plt.subplots(figsize=(12, 15))\n",
    "\n",
    "# Use log scale for better visualization of density\n",
    "ca_counties_proj['log_density'] = np.log10(ca_counties_proj['density'] + 1)\n",
    "\n",
    "ca_counties_proj.plot(\n",
    "    column='log_density',\n",
    "    cmap='OrRd',\n",
    "    linewidth=0.2,\n",
    "    edgecolor='white',\n",
    "    legend=True,\n",
    "    ax=ax\n",
    ")\n",
    "\n",
    "ax.set_title('Population Density by County\\nCalifornia (Log Scale)', \n",
    "             fontsize=14, fontweight='bold')\n",
    "ax.set_axis_off()\n",
    "\n",
    "plt.tight_layout()\n",
    "plt.show()"
   ]
  },
  {
   "cell_type": "markdown",
   "metadata": {},
   "source": [
    "## Advanced Visualization Techniques\n",
    "\n",
    "### Using Different Color Schemes"
   ]
  },
  {
   "cell_type": "code",
   "execution_count": null,
   "metadata": {},
   "outputs": [],
   "source": [
    "# Compare different color schemes\n",
    "fig, axes = plt.subplots(2, 2, figsize=(16, 12))\n",
    "axes = axes.ravel()\n",
    "\n",
    "cmaps = ['viridis', 'plasma', 'RdYlBu_r', 'coolwarm']\n",
    "titles = ['Viridis', 'Plasma', 'RdYlBu_r', 'Coolwarm']\n",
    "\n",
    "for i, (cmap, title) in enumerate(zip(cmaps, titles)):\n",
    "    orange_projected.plot(\n",
    "        column='value',\n",
    "        cmap=cmap,\n",
    "        linewidth=0.1,\n",
    "        edgecolor='white',\n",
    "        legend=True,\n",
    "        ax=axes[i]\n",
    "    )\n",
    "    axes[i].set_title(f'{title} Color Scheme', fontweight='bold')\n",
    "    axes[i].set_axis_off()\n",
    "\n",
    "plt.suptitle('Median Household Income - Different Color Schemes\\nOrange County, CA', \n",
    "             fontsize=16, fontweight='bold')\n",
    "plt.tight_layout()\n",
    "plt.show()"
   ]
  },
  {
   "cell_type": "markdown",
   "metadata": {},
   "source": [
    "### Classification Schemes\n",
    "\n",
    "Sometimes it's useful to classify continuous data into discrete categories:"
   ]
  },
  {
   "cell_type": "code",
   "execution_count": null,
   "metadata": {},
   "outputs": [],
   "source": [
    "# Create income categories\n",
    "orange_classified = orange_projected.copy()\n",
    "\n",
    "# Define income brackets\n",
    "bins = [0, 50000, 75000, 100000, 150000, float('inf')]\n",
    "labels = ['< $50K', '$50K-$75K', '$75K-$100K', '$100K-$150K', '> $150K']\n",
    "\n",
    "orange_classified['income_category'] = pd.cut(\n",
    "    orange_classified['value'], \n",
    "    bins=bins, \n",
    "    labels=labels, \n",
    "    include_lowest=True\n",
    ")\n",
    "\n",
    "# Create custom color palette\n",
    "colors = ['#fee5d9', '#fcbba1', '#fc9272', '#fb6a4a', '#de2d26']\n",
    "\n",
    "fig, ax = plt.subplots(figsize=(12, 10))\n",
    "\n",
    "# Plot each category with different color\n",
    "for i, (category, color) in enumerate(zip(labels, colors)):\n",
    "    subset = orange_classified[orange_classified['income_category'] == category]\n",
    "    subset.plot(\n",
    "        color=color,\n",
    "        linewidth=0.1,\n",
    "        edgecolor='white',\n",
    "        ax=ax,\n",
    "        label=category\n",
    "    )\n",
    "\n",
    "ax.set_title('Median Household Income Categories\\nOrange County, CA', \n",
    "             fontsize=14, fontweight='bold')\n",
    "ax.set_axis_off()\n",
    "ax.legend(title='Income Category', loc='upper left', bbox_to_anchor=(1, 1))\n",
    "\n",
    "plt.tight_layout()\n",
    "plt.show()"
   ]
  },
  {
   "cell_type": "markdown",
   "metadata": {},
   "source": [
    "## Spatial Analysis\n",
    "\n",
    "Let's perform some basic spatial analysis:"
   ]
  },
  {
   "cell_type": "code",
   "execution_count": null,
   "metadata": {},
   "outputs": [],
   "source": [
    "# Calculate centroids and identify high-income clusters\n",
    "orange_analysis = orange_projected.copy()\n",
    "orange_analysis['centroid'] = orange_analysis.geometry.centroid\n",
    "\n",
    "# Identify high-income tracts (top quartile)\n",
    "high_income_threshold = orange_analysis['value'].quantile(0.75)\n",
    "orange_analysis['high_income'] = orange_analysis['value'] >= high_income_threshold\n",
    "\n",
    "print(f\"High income threshold: ${high_income_threshold:,.0f}\")\n",
    "print(f\"Number of high-income tracts: {orange_analysis['high_income'].sum()}\")\n",
    "print(f\"Percentage of tracts: {100 * orange_analysis['high_income'].mean():.1f}%\")"
   ]
  },
  {
   "cell_type": "code",
   "execution_count": null,
   "metadata": {},
   "outputs": [],
   "source": [
    "# Visualize high-income areas\n",
    "fig, ax = plt.subplots(figsize=(12, 10))\n",
    "\n",
    "# Plot all tracts in light gray\n",
    "orange_analysis.plot(\n",
    "    color='lightgray',\n",
    "    linewidth=0.1,\n",
    "    edgecolor='white',\n",
    "    ax=ax\n",
    ")\n",
    "\n",
    "# Highlight high-income tracts\n",
    "high_income_tracts = orange_analysis[orange_analysis['high_income']]\n",
    "high_income_tracts.plot(\n",
    "    color='darkred',\n",
    "    linewidth=0.1,\n",
    "    edgecolor='white',\n",
    "    ax=ax,\n",
    "    alpha=0.8\n",
    ")\n",
    "\n",
    "ax.set_title(f'High-Income Census Tracts\\nOrange County, CA (Top 25%, >${high_income_threshold:,.0f})', \n",
    "             fontsize=14, fontweight='bold')\n",
    "ax.set_axis_off()\n",
    "\n",
    "# Add legend\n",
    "from matplotlib.patches import Patch\n",
    "legend_elements = [\n",
    "    Patch(facecolor='lightgray', label='Other tracts'),\n",
    "    Patch(facecolor='darkred', label=f'High income (>${high_income_threshold:,.0f}+)')\n",
    "]\n",
    "ax.legend(handles=legend_elements, loc='upper right')\n",
    "\n",
    "plt.tight_layout()\n",
    "plt.show()"
   ]
  },
  {
   "cell_type": "markdown",
   "metadata": {},
   "source": [
    "## Summary Statistics by Geography\n",
    "\n",
    "Let's compute some summary statistics for our spatial data:"
   ]
  },
  {
   "cell_type": "code",
   "execution_count": null,
   "metadata": {},
   "outputs": [],
   "source": [
    "# Summary statistics for Orange County income data\n",
    "print(\"Median Household Income Statistics - Orange County, CA\")\n",
    "print(\"=\" * 55)\n",
    "print(f\"Mean:     ${orange['value'].mean():,.0f}\")\n",
    "print(f\"Median:   ${orange['value'].median():,.0f}\")\n",
    "print(f\"Std Dev:  ${orange['value'].std():,.0f}\")\n",
    "print(f\"Min:      ${orange['value'].min():,.0f}\")\n",
    "print(f\"Max:      ${orange['value'].max():,.0f}\")\n",
    "print(f\"Range:    ${orange['value'].max() - orange['value'].min():,.0f}\")\n",
    "\n",
    "# Quartile analysis\n",
    "print(\"\\nQuartile Analysis:\")\n",
    "quartiles = orange['value'].quantile([0.25, 0.5, 0.75])\n",
    "for q, val in quartiles.items():\n",
    "    print(f\"{int(q*100)}th percentile: ${val:,.0f}\")"
   ]
  },
  {
   "cell_type": "markdown",
   "metadata": {},
   "source": [
    "## Saving Spatial Data\n",
    "\n",
    "You can save your spatial data in various formats:"
   ]
  },
  {
   "cell_type": "code",
   "execution_count": null,
   "metadata": {},
   "outputs": [],
   "source": [
    "# Save to different formats (uncomment to save)\n",
    "# orange.to_file(\"orange_county_income.shp\")  # Shapefile\n",
    "# orange.to_file(\"orange_county_income.geojson\", driver=\"GeoJSON\")  # GeoJSON\n",
    "# orange.to_parquet(\"orange_county_income.parquet\")  # Parquet (preserves geometry)\n",
    "\n",
    "print(\"File formats available for saving:\")\n",
    "print(\"- Shapefile (.shp)\")\n",
    "print(\"- GeoJSON (.geojson)\")\n",
    "print(\"- Parquet (.parquet)\")\n",
    "print(\"- PostGIS database\")\n",
    "print(\"- And many more via GeoPandas!\")"
   ]
  },
  {
   "cell_type": "markdown",
   "metadata": {},
   "source": [
    "## Summary\n",
    "\n",
    "In this notebook, we learned how to:\n",
    "\n",
    "1. **Get spatial data** by setting `geometry=True` in pytidycensus functions\n",
    "2. **Create choropleth maps** using GeoPandas and matplotlib\n",
    "3. **Work with coordinate systems** and projections\n",
    "4. **Create faceted maps** for comparing multiple variables\n",
    "5. **Use different visualization techniques** including color schemes and classification\n",
    "6. **Perform basic spatial analysis** like identifying spatial patterns\n",
    "7. **Save spatial data** in various formats\n",
    "\n",
    "## Next Steps\n",
    "\n",
    "- **Advanced Spatial Analysis**: Use spatial statistics packages like `PySAL`\n",
    "- **Interactive Maps**: Create web maps with `folium` or `plotly`\n",
    "- **3D Visualization**: Use packages like `pydeck` for 3D mapping\n",
    "- **Web Mapping**: Deploy maps with `streamlit` or `dash`\n",
    "\n",
    "## Resources\n",
    "\n",
    "- [GeoPandas Documentation](https://geopandas.org/)\n",
    "- [Matplotlib Colormaps](https://matplotlib.org/stable/tutorials/colors/colormaps.html)\n",
    "- [Coordinate Reference Systems](https://spatialreference.org/)\n",
    "- [Census TIGER/Line Shapefiles](https://www.census.gov/geographies/mapping-files/time-series/geo/tiger-line-file.html)"
   ]
  }
 ],
 "metadata": {
  "kernelspec": {
   "display_name": "test2",
   "language": "python",
   "name": "python3"
  },
  "language_info": {
   "codemirror_mode": {
    "name": "ipython",
    "version": 3
   },
   "file_extension": ".py",
   "mimetype": "text/x-python",
   "name": "python",
   "nbconvert_exporter": "python",
   "pygments_lexer": "ipython3",
   "version": "3.11.13"
  }
 },
 "nbformat": 4,
 "nbformat_minor": 4
}
