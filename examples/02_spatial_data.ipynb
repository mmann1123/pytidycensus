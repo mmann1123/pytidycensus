{
 "cells": [
  {
   "cell_type": "markdown",
   "metadata": {},
   "source": [
    "# Spatial data in pytidycensus\n",
    "\n",
    "[![Open in Colab](https://colab.research.google.com/assets/colab-badge.svg)](https://colab.research.google.com/github/mmann1123/pytidycensus/blob/main/examples/02_spatial_data.ipynb)\n",
    "\n",
    "This notebook demonstrates how to work with spatial data in **pytidycensus**, including creating maps and performing spatial analysis with GeoPandas.\n",
    "\n",
    "## Setup\n",
    "\n",
    "First, let's install and import the necessary packages:"
   ]
  },
  {
   "cell_type": "code",
   "execution_count": null,
   "metadata": {},
   "outputs": [],
   "source": [
    "# Uncomment to install if running in Colab\n",
    "# !pip install pytidycensus geopandas matplotlib contextily\n",
    "\n",
    "import pytidycensus as tc\n",
    "import pandas as pd\n",
    "import geopandas as gpd\n",
    "import matplotlib.pyplot as plt\n",
    "import numpy as np\n",
    "from matplotlib.colors import LinearSegmentedColormap\n",
    "import warnings\n",
    "warnings.filterwarnings('ignore')\n",
    "\n",
    "# Set up matplotlib\n",
    "plt.style.use('default')\n",
    "%matplotlib inline"
   ]
  },
  {
   "cell_type": "markdown",
   "metadata": {},
   "source": [
    "## Census API Key Setup\n",
    "\n",
    "Set your Census API key (get one at https://api.census.gov/data/key_signup.html):"
   ]
  },
  {
   "cell_type": "code",
   "execution_count": null,
   "metadata": {},
   "outputs": [],
   "source": [
    "# Replace with your actual API key\n",
    "tc.set_census_api_key(\"YOUR API KEY GOES HERE\")"
   ]
  },
  {
   "cell_type": "markdown",
   "metadata": {},
   "source": [
    "## Getting Spatial Data\n",
    "\n",
    "When you set `geometry=True` in pytidycensus functions, the package automatically downloads the corresponding TIGER/Line shapefiles and merges them with your data.\n",
    "\n",
    "### Example: Median Household Income in Orange County, CA\n",
    "\n",
    "Let's get median household income for Census tracts in Orange County, California:"
   ]
  },
  {
   "cell_type": "code",
   "execution_count": null,
   "metadata": {},
   "outputs": [],
   "source": [
    "# Get ACS data with geometry for Orange County, CA\n",
    "orange = tc.get_acs(\n",
    "    state=\"CA\",\n",
    "    county=\"Orange\",\n",
    "    geography=\"tract\",\n",
    "    variables=\"B19013_001\",  # Median household income\n",
    "    geometry=True,\n",
    "    year=2022\n",
    ")\n",
    "\n",
    "print(f\"Data type: {type(orange)}\")\n",
    "print(f\"Shape: {orange.shape}\")\n",
    "print(f\"CRS: {orange.crs}\")\n",
    "orange.head()"
   ]
  },
  {
   "cell_type": "markdown",
   "metadata": {},
   "source": [
    "The returned object is a **GeoDataFrame** with a `geometry` column containing the spatial boundaries. The default coordinate system is NAD83 (EPSG:4269).\n",
    "\n",
    "## Basic Choropleth Mapping\n",
    "\n",
    "Let's create a basic choropleth map:"
   ]
  },
  {
   "cell_type": "code",
   "execution_count": null,
   "metadata": {},
   "outputs": [],
   "source": [
    "# Create a basic choropleth map\n",
    "fig, ax = plt.subplots(figsize=(12, 10))\n",
    "\n",
    "orange.plot(\n",
    "    column='value',\n",
    "    cmap='viridis',\n",
    "    linewidth=0.1,\n",
    "    edgecolor='white',\n",
    "    legend=True,\n",
    "    ax=ax\n",
    ")\n",
    "\n",
    "ax.set_title('Median Household Income by Census Tract\\nOrange County, CA (2018-2022 ACS)', \n",
    "             fontsize=14, fontweight='bold')\n",
    "ax.set_axis_off()\n",
    "\n",
    "# Add colorbar label\n",
    "cbar = ax.get_figure().get_axes()[1]\n",
    "cbar.set_ylabel('Median Household Income ($)', rotation=270, labelpad=20)\n",
    "\n",
    "plt.tight_layout()\n",
    "plt.show()"
   ]
  },
  {
   "cell_type": "markdown",
   "metadata": {},
   "source": [
    "## Coordinate Reference Systems\n",
    "\n",
    "For better visualization and analysis, it's often useful to project the data to an appropriate coordinate system:"
   ]
  },
  {
   "cell_type": "code",
   "execution_count": null,
   "metadata": {},
   "outputs": [],
   "source": [
    "# Project to California Albers (EPSG:3310) for better area representation\n",
    "orange_projected = orange.to_crs('EPSG:3310')\n",
    "\n",
    "fig, ax = plt.subplots(figsize=(12, 10))\n",
    "\n",
    "orange_projected.plot(\n",
    "    column='value',\n",
    "    cmap='magma',\n",
    "    linewidth=0.1,\n",
    "    edgecolor='white',\n",
    "    legend=True,\n",
    "    ax=ax\n",
    ")\n",
    "\n",
    "ax.set_title('Median Household Income (Projected)\\nOrange County, CA', \n",
    "             fontsize=14, fontweight='bold')\n",
    "ax.set_axis_off()\n",
    "\n",
    "plt.tight_layout()\n",
    "plt.show()"
   ]
  },
  {
   "cell_type": "markdown",
   "metadata": {},
   "source": [
    "## Faceted Mapping\n",
    "\n",
    "One powerful feature is creating small multiples to compare different variables. Let's look at racial demographics in Harris County, Texas.\n",
    "\n",
    "### Race/Ethnicity Data with Summary Variable"
   ]
  },
  {
   "cell_type": "code",
   "execution_count": null,
   "metadata": {},
   "outputs": [],
   "source": [
    "# Define race/ethnicity variables for 2020 Census\n",
    "race_vars = {\n",
    "    \"White\": \"P2_005N\",\n",
    "    \"Black\": \"P2_006N\", \n",
    "    \"Asian\": \"P2_008N\",\n",
    "    \"Hispanic\": \"P2_002N\"\n",
    "}\n",
    "\n",
    "# Get data for Harris County, TX with total population as summary variable\n",
    "harris = tc.get_decennial(\n",
    "    geography=\"tract\",\n",
    "    variables=race_vars,\n",
    "    state=\"TX\",\n",
    "    county=\"Harris\",\n",
    "    geometry=True,\n",
    "    summary_var=\"P2_001N\",  # Total population\n",
    "    year=2020,\n",
    "    sumfile=\"pl\"\n",
    ")\n",
    "\n",
    "print(f\"Shape: {harris.shape}\")\n",
    "harris.head()"
   ]
  },
  {
   "cell_type": "markdown",
   "metadata": {},
   "source": [
    "Notice that we have multiple rows per tract (one for each race/ethnicity variable) and a `summary_value` column with the total population.\n",
    "\n",
    "### Calculate Percentages and Create Faceted Map"
   ]
  },
  {
   "cell_type": "code",
   "execution_count": null,
   "metadata": {},
   "outputs": [],
   "source": [
    "# Calculate percentage of total population\n",
    "harris['percent'] = 100 * (harris['value'] / harris['summary_value'])\n",
    "\n",
    "# Create faceted map\n",
    "fig, axes = plt.subplots(2, 2, figsize=(15, 12))\n",
    "axes = axes.ravel()\n",
    "\n",
    "# Get unique variables for iteration\n",
    "variables = harris['variable'].unique()\n",
    "\n",
    "for i, var in enumerate(variables):\n",
    "    # Filter data for this variable\n",
    "    subset = harris[harris['variable'] == var]\n",
    "    \n",
    "    # Create map\n",
    "    subset.plot(\n",
    "        column='percent',\n",
    "        cmap='viridis',\n",
    "        linewidth=0,\n",
    "        legend=True,\n",
    "        ax=axes[i],\n",
    "        vmin=0,\n",
    "        vmax=80  # Set consistent scale\n",
    "    )\n",
    "    \n",
    "    axes[i].set_title(f'{var}', fontsize=12, fontweight='bold')\n",
    "    axes[i].set_axis_off()\n",
    "\n",
    "plt.suptitle('Racial and Ethnic Geography of Harris County, TX\\n2020 Census (% of Total Population)', \n",
    "             fontsize=16, fontweight='bold')\n",
    "plt.tight_layout()\n",
    "plt.show()"
   ]
  },
  {
   "cell_type": "markdown",
   "metadata": {},
   "source": [
    "## Interactive Analysis\n",
    "\n",
    "Let's explore the data interactively by looking at summary statistics:"
   ]
  },
  {
   "cell_type": "code",
   "execution_count": null,
   "metadata": {},
   "outputs": [],
   "source": [
    "# Summary statistics by race/ethnicity\n",
    "summary_stats = harris.groupby('variable')['percent'].describe()\n",
    "print(\"Percentage Distribution by Race/Ethnicity:\")\n",
    "print(summary_stats.round(2))"
   ]
  },
  {
   "cell_type": "code",
   "execution_count": null,
   "metadata": {},
   "outputs": [],
   "source": [
    "# Create box plots to show distribution\n",
    "fig, ax = plt.subplots(figsize=(10, 6))\n",
    "\n",
    "harris.boxplot(column='percent', by='variable', ax=ax)\n",
    "ax.set_title('Distribution of Race/Ethnicity Percentages by Census Tract\\nHarris County, TX')\n",
    "ax.set_xlabel('Race/Ethnicity Group')\n",
    "ax.set_ylabel('Percentage of Total Population')\n",
    "plt.xticks(rotation=45)\n",
    "plt.suptitle('')  # Remove automatic title\n",
    "plt.tight_layout()\n",
    "plt.show()"
   ]
  },
  {
   "cell_type": "markdown",
   "metadata": {},
   "source": [
    "## Working with Different Geographic Levels\n",
    "\n",
    "### State-Level Data\n",
    "\n",
    "Let's create a map of median household income for all US states:"
   ]
  },
  {
   "cell_type": "code",
   "execution_count": null,
   "metadata": {},
   "outputs": [],
   "source": [
    "# Get median household income for all states\n",
    "states_income = tc.get_acs(\n",
    "    geography=\"state\",\n",
    "    variables=\"B19013_001\",\n",
    "    year=2022,\n",
    "    geometry=True\n",
    ")\n",
    "\n",
    "# Remove territories for cleaner continental US map\n",
    "states_continental = states_income[\n",
    "    ~states_income['NAME'].isin([\n",
    "        'Puerto Rico', 'United States Virgin Islands', \n",
    "        'Guam', 'American Samoa', 'Commonwealth of the Northern Mariana Islands'\n",
    "    ])\n",
    "]\n",
    "\n",
    "print(f\"Number of states/DC: {len(states_continental)}\")"
   ]
  },
  {
   "cell_type": "code",
   "execution_count": null,
   "metadata": {},
   "outputs": [],
   "source": [
    "# Project to Albers Equal Area for US mapping\n",
    "states_albers = states_continental.to_crs('EPSG:5070')\n",
    "\n",
    "fig, ax = plt.subplots(figsize=(15, 10))\n",
    "\n",
    "states_albers.plot(\n",
    "    column='value',\n",
    "    cmap='RdYlBu_r',\n",
    "    linewidth=0.5,\n",
    "    edgecolor='white',\n",
    "    legend=True,\n",
    "    ax=ax\n",
    ")\n",
    "\n",
    "ax.set_title('Median Household Income by State\\n2018-2022 American Community Survey', \n",
    "             fontsize=16, fontweight='bold')\n",
    "ax.set_axis_off()\n",
    "\n",
    "# Add colorbar label\n",
    "cbar = ax.get_figure().get_axes()[1]\n",
    "cbar.set_ylabel('Median Household Income ($)', rotation=270, labelpad=20)\n",
    "\n",
    "plt.tight_layout()\n",
    "plt.show()"
   ]
  },
  {
   "cell_type": "markdown",
   "metadata": {},
   "source": [
    "### County-Level Analysis\n",
    "\n",
    "Let's look at population density across counties in a specific state:"
   ]
  },
  {
   "cell_type": "code",
   "execution_count": null,
   "metadata": {},
   "outputs": [],
   "source": [
    "# Get population and calculate density for California counties\n",
    "ca_counties = tc.get_acs(\n",
    "    geography=\"county\",\n",
    "    variables=\"B01003_001\",  # Total population\n",
    "    state=\"CA\",\n",
    "    year=2022,\n",
    "    geometry=True\n",
    ")\n",
    "\n",
    "# Calculate area in square kilometers and population density\n",
    "ca_counties_proj = ca_counties.to_crs('EPSG:3310')  # California Albers\n",
    "ca_counties_proj['area_km2'] = ca_counties_proj.geometry.area / 1e6\n",
    "ca_counties_proj['density'] = ca_counties_proj['value'] / ca_counties_proj['area_km2']\n",
    "\n",
    "print(\"Top 10 most dense counties:\")\n",
    "print(ca_counties_proj.nlargest(10, 'density')[['NAME', 'density']].round(1))"
   ]
  },
  {
   "cell_type": "code",
   "execution_count": null,
   "metadata": {},
   "outputs": [],
   "source": [
    "# Map population density with log scale\n",
    "fig, ax = plt.subplots(figsize=(12, 15))\n",
    "\n",
    "# Use log scale for better visualization of density\n",
    "ca_counties_proj['log_density'] = np.log10(ca_counties_proj['density'] + 1)\n",
    "\n",
    "ca_counties_proj.plot(\n",
    "    column='log_density',\n",
    "    cmap='OrRd',\n",
    "    linewidth=0.2,\n",
    "    edgecolor='white',\n",
    "    legend=True,\n",
    "    ax=ax\n",
    ")\n",
    "\n",
    "ax.set_title('Population Density by County\\nCalifornia (Log Scale)', \n",
    "             fontsize=14, fontweight='bold')\n",
    "ax.set_axis_off()\n",
    "\n",
    "plt.tight_layout()\n",
    "plt.show()"
   ]
  },
  {
   "cell_type": "markdown",
   "metadata": {},
   "source": [
    "## Advanced Visualization Techniques\n",
    "\n",
    "### Using Different Color Schemes"
   ]
  },
  {
   "cell_type": "code",
   "execution_count": null,
   "metadata": {},
   "outputs": [],
   "source": [
    "# Compare different color schemes\n",
    "fig, axes = plt.subplots(2, 2, figsize=(16, 12))\n",
    "axes = axes.ravel()\n",
    "\n",
    "cmaps = ['viridis', 'plasma', 'RdYlBu_r', 'coolwarm']\n",
    "titles = ['Viridis', 'Plasma', 'RdYlBu_r', 'Coolwarm']\n",
    "\n",
    "for i, (cmap, title) in enumerate(zip(cmaps, titles)):\n",
    "    orange_projected.plot(\n",
    "        column='value',\n",
    "        cmap=cmap,\n",
    "        linewidth=0.1,\n",
    "        edgecolor='white',\n",
    "        legend=True,\n",
    "        ax=axes[i]\n",
    "    )\n",
    "    axes[i].set_title(f'{title} Color Scheme', fontweight='bold')\n",
    "    axes[i].set_axis_off()\n",
    "\n",
    "plt.suptitle('Median Household Income - Different Color Schemes\\nOrange County, CA', \n",
    "             fontsize=16, fontweight='bold')\n",
    "plt.tight_layout()\n",
    "plt.show()"
   ]
  },
  {
   "cell_type": "markdown",
   "metadata": {},
   "source": [
    "### Classification Schemes\n",
    "\n",
    "Sometimes it's useful to classify continuous data into discrete categories:"
   ]
  },
  {
   "cell_type": "code",
   "execution_count": null,
   "metadata": {},
   "outputs": [],
   "source": [
    "# Create income categories\n",
    "orange_classified = orange_projected.copy()\n",
    "\n",
    "# Define income brackets\n",
    "bins = [0, 50000, 75000, 100000, 150000, float('inf')]\n",
    "labels = ['< $50K', '$50K-$75K', '$75K-$100K', '$100K-$150K', '> $150K']\n",
    "\n",
    "orange_classified['income_category'] = pd.cut(\n",
    "    orange_classified['value'], \n",
    "    bins=bins, \n",
    "    labels=labels, \n",
    "    include_lowest=True\n",
    ")\n",
    "\n",
    "# Create custom color palette\n",
    "colors = ['#fee5d9', '#fcbba1', '#fc9272', '#fb6a4a', '#de2d26']\n",
    "\n",
    "fig, ax = plt.subplots(figsize=(12, 10))\n",
    "\n",
    "# Plot each category with different color\n",
    "for i, (category, color) in enumerate(zip(labels, colors)):\n",
    "    subset = orange_classified[orange_classified['income_category'] == category]\n",
    "    subset.plot(\n",
    "        color=color,\n",
    "        linewidth=0.1,\n",
    "        edgecolor='white',\n",
    "        ax=ax,\n",
    "        label=category\n",
    "    )\n",
    "\n",
    "ax.set_title('Median Household Income Categories\\nOrange County, CA', \n",
    "             fontsize=14, fontweight='bold')\n",
    "ax.set_axis_off()\n",
    "ax.legend(title='Income Category', loc='upper left', bbox_to_anchor=(1, 1))\n",
    "\n",
    "plt.tight_layout()\n",
    "plt.show()"
   ]
  },
  {
   "cell_type": "markdown",
   "metadata": {},
   "source": [
    "## Spatial Analysis\n",
    "\n",
    "Let's perform some basic spatial analysis:"
   ]
  },
  {
   "cell_type": "code",
   "execution_count": null,
   "metadata": {},
   "outputs": [],
   "source": [
    "# Calculate centroids and identify high-income clusters\n",
    "orange_analysis = orange_projected.copy()\n",
    "orange_analysis['centroid'] = orange_analysis.geometry.centroid\n",
    "\n",
    "# Identify high-income tracts (top quartile)\n",
    "high_income_threshold = orange_analysis['value'].quantile(0.75)\n",
    "orange_analysis['high_income'] = orange_analysis['value'] >= high_income_threshold\n",
    "\n",
    "print(f\"High income threshold: ${high_income_threshold:,.0f}\")\n",
    "print(f\"Number of high-income tracts: {orange_analysis['high_income'].sum()}\")\n",
    "print(f\"Percentage of tracts: {100 * orange_analysis['high_income'].mean():.1f}%\")"
   ]
  },
  {
   "cell_type": "code",
   "execution_count": null,
   "metadata": {},
   "outputs": [],
   "source": [
    "# Visualize high-income areas\n",
    "fig, ax = plt.subplots(figsize=(12, 10))\n",
    "\n",
    "# Plot all tracts in light gray\n",
    "orange_analysis.plot(\n",
    "    color='lightgray',\n",
    "    linewidth=0.1,\n",
    "    edgecolor='white',\n",
    "    ax=ax\n",
    ")\n",
    "\n",
    "# Highlight high-income tracts\n",
    "high_income_tracts = orange_analysis[orange_analysis['high_income']]\n",
    "high_income_tracts.plot(\n",
    "    color='darkred',\n",
    "    linewidth=0.1,\n",
    "    edgecolor='white',\n",
    "    ax=ax,\n",
    "    alpha=0.8\n",
    ")\n",
    "\n",
    "ax.set_title(f'High-Income Census Tracts\\nOrange County, CA (Top 25%, >${high_income_threshold:,.0f})', \n",
    "             fontsize=14, fontweight='bold')\n",
    "ax.set_axis_off()\n",
    "\n",
    "# Add legend\n",
    "from matplotlib.patches import Patch\n",
    "legend_elements = [\n",
    "    Patch(facecolor='lightgray', label='Other tracts'),\n",
    "    Patch(facecolor='darkred', label=f'High income (>${high_income_threshold:,.0f}+)')\n",
    "]\n",
    "ax.legend(handles=legend_elements, loc='upper right')\n",
    "\n",
    "plt.tight_layout()\n",
    "plt.show()"
   ]
  },
  {
   "cell_type": "markdown",
   "metadata": {},
   "source": [
    "## Summary Statistics by Geography\n",
    "\n",
    "Let's compute some summary statistics for our spatial data:"
   ]
  },
  {
   "cell_type": "code",
   "execution_count": null,
   "metadata": {},
   "outputs": [],
   "source": [
    "# Summary statistics for Orange County income data\n",
    "print(\"Median Household Income Statistics - Orange County, CA\")\n",
    "print(\"=\" * 55)\n",
    "print(f\"Mean:     ${orange['value'].mean():,.0f}\")\n",
    "print(f\"Median:   ${orange['value'].median():,.0f}\")\n",
    "print(f\"Std Dev:  ${orange['value'].std():,.0f}\")\n",
    "print(f\"Min:      ${orange['value'].min():,.0f}\")\n",
    "print(f\"Max:      ${orange['value'].max():,.0f}\")\n",
    "print(f\"Range:    ${orange['value'].max() - orange['value'].min():,.0f}\")\n",
    "\n",
    "# Quartile analysis\n",
    "print(\"\\nQuartile Analysis:\")\n",
    "quartiles = orange['value'].quantile([0.25, 0.5, 0.75])\n",
    "for q, val in quartiles.items():\n",
    "    print(f\"{int(q*100)}th percentile: ${val:,.0f}\")"
   ]
  },
  {
   "cell_type": "markdown",
   "metadata": {},
   "source": [
    "## Saving Spatial Data\n",
    "\n",
    "You can save your spatial data in various formats:"
   ]
  },
  {
   "cell_type": "code",
   "execution_count": null,
   "metadata": {},
   "outputs": [],
   "source": [
    "# Save to different formats (uncomment to save)\n",
    "# orange.to_file(\"orange_county_income.shp\")  # Shapefile\n",
    "# orange.to_file(\"orange_county_income.geojson\", driver=\"GeoJSON\")  # GeoJSON\n",
    "# orange.to_parquet(\"orange_county_income.parquet\")  # Parquet (preserves geometry)\n",
    "\n",
    "print(\"File formats available for saving:\")\n",
    "print(\"- Shapefile (.shp)\")\n",
    "print(\"- GeoJSON (.geojson)\")\n",
    "print(\"- Parquet (.parquet)\")\n",
    "print(\"- PostGIS database\")\n",
    "print(\"- And many more via GeoPandas!\")"
   ]
  },
  {
   "cell_type": "markdown",
   "metadata": {},
   "source": [
    "## Summary\n",
    "\n",
    "In this notebook, we learned how to:\n",
    "\n",
    "1. **Get spatial data** by setting `geometry=True` in pytidycensus functions\n",
    "2. **Create choropleth maps** using GeoPandas and matplotlib\n",
    "3. **Work with coordinate systems** and projections\n",
    "4. **Create faceted maps** for comparing multiple variables\n",
    "5. **Use different visualization techniques** including color schemes and classification\n",
    "6. **Perform basic spatial analysis** like identifying spatial patterns\n",
    "7. **Save spatial data** in various formats\n",
    "\n",
    "## Next Steps\n",
    "\n",
    "- **Advanced Spatial Analysis**: Use spatial statistics packages like `PySAL`\n",
    "- **Interactive Maps**: Create web maps with `folium` or `plotly`\n",
    "- **3D Visualization**: Use packages like `pydeck` for 3D mapping\n",
    "- **Web Mapping**: Deploy maps with `streamlit` or `dash`\n",
    "\n",
    "## Resources\n",
    "\n",
    "- [GeoPandas Documentation](https://geopandas.org/)\n",
    "- [Matplotlib Colormaps](https://matplotlib.org/stable/tutorials/colors/colormaps.html)\n",
    "- [Coordinate Reference Systems](https://spatialreference.org/)\n",
    "- [Census TIGER/Line Shapefiles](https://www.census.gov/geographies/mapping-files/time-series/geo/tiger-line-file.html)"
   ]
  }
 ],
 "metadata": {
  "kernelspec": {
   "display_name": "Python 3",
   "language": "python",
   "name": "python3"
  },
  "language_info": {
   "codemirror_mode": {
    "name": "ipython",
    "version": 3
   },
   "file_extension": ".py",
   "name": "python",
   "nbconvert_exporter": "python",
   "pygments_lexer": "ipython3",
   "version": "3.9.0"
  }
 },
 "nbformat": 4,
 "nbformat_minor": 4
}