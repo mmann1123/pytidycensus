{
 "cells": [
  {
   "cell_type": "markdown",
   "metadata": {},
   "source": [
    "# Margins of error in the ACS\n",
    "\n",
    "[![Open in Colab](https://colab.research.google.com/assets/colab-badge.svg)](https://colab.research.google.com/github/mmann1123/pytidycensus/blob/main/examples/03_margins_of_error.ipynb)\n",
    "\n",
    "Understanding and working with uncertainty in American Community Survey data."
   ]
  },
  {
   "cell_type": "code",
   "execution_count": null,
   "metadata": {},
   "outputs": [],
   "source": [
    "import pytidycensus as tc\n",
    "import pandas as pd\n",
    "import numpy as np\n",
    "import matplotlib.pyplot as plt\n",
    "\n",
    "tc.set_census_api_key(\"YOUR API KEY GOES HERE\")"
   ]
  },
  {
   "cell_type": "markdown",
   "metadata": {},
   "source": [
    "## Understanding ACS Uncertainty\n",
    "\n",
    "Unlike decennial Census counts, ACS data are estimates with margins of error."
   ]
  },
  {
   "cell_type": "code",
   "execution_count": null,
   "metadata": {},
   "outputs": [],
   "source": [
    "# Example: Aging populations in Ramsey County, MN\n",
    "age_vars = [f\"B01001_0{i:02d}\" for i in range(20, 26)] + [f\"B01001_0{i:02d}\" for i in range(44, 50)]\n",
    "\n",
    "ramsey = tc.get_acs(\n",
    "    geography=\"tract\",\n",
    "    variables=age_vars,\n",
    "    state=\"MN\", \n",
    "    county=\"Ramsey\",\n",
    "    year=2022\n",
    ")\n",
    "\n",
    "# Show cases where MOE exceeds estimate\n",
    "ramsey['moe_ratio'] = ramsey['B01001_020_moe'] / ramsey['value']  # Example MOE column\n",
    "print(\"Cases where margin of error exceeds estimate:\")\n",
    "print(ramsey[ramsey['moe_ratio'] > 1].head())"
   ]
  },
  {
   "cell_type": "markdown",
   "metadata": {},
   "source": [
    "## Aggregating Data and MOE Calculations\n",
    "\n",
    "When combining estimates, we need to properly calculate the margin of error."
   ]
  },
  {
   "cell_type": "code",
   "execution_count": null,
   "metadata": {},
   "outputs": [],
   "source": [
    "# Custom MOE calculation functions (simplified versions)\n",
    "def moe_sum(moes, estimates):\n",
    "    \"\"\"Calculate MOE for sum of estimates\"\"\"\n",
    "    return np.sqrt(sum(moe**2 for moe in moes))\n",
    "\n",
    "# Aggregate population over 65 by tract\n",
    "ramsey_65plus = ramsey.groupby('GEOID').agg({\n",
    "    'value': 'sum',\n",
    "    'B01001_020_moe': lambda x: moe_sum(x, ramsey.loc[x.index, 'value'])\n",
    "}).rename(columns={'B01001_020_moe': 'moe_sum'})\n",
    "\n",
    "print(\"Aggregated estimates with proper MOE calculation:\")\n",
    "print(ramsey_65plus.head())"
   ]
  },
  {
   "cell_type": "markdown",
   "metadata": {},
   "source": [
    "## Visualization with Confidence Intervals"
   ]
  },
  {
   "cell_type": "code",
   "execution_count": null,
   "metadata": {},
   "outputs": [],
   "source": [
    "# Create error bar plot showing uncertainty\n",
    "fig, ax = plt.subplots(figsize=(12, 8))\n",
    "\n",
    "sample_data = ramsey_65plus.head(10)\n",
    "x = range(len(sample_data))\n",
    "\n",
    "ax.errorbar(x, sample_data['value'], yerr=sample_data['moe_sum'], \n",
    "           fmt='o', capsize=5, capthick=2)\n",
    "ax.set_xlabel('Census Tract')\n",
    "ax.set_ylabel('Population 65+')\n",
    "ax.set_title('Population 65+ by Census Tract with Margins of Error')\n",
    "plt.xticks(x, [f'Tract {i+1}' for i in x], rotation=45)\n",
    "plt.tight_layout()\n",
    "plt.show()"
   ]
  }
 ],
 "metadata": {
  "kernelspec": {
   "display_name": "Python 3",
   "language": "python",
   "name": "python3"
  },
  "language_info": {
   "name": "python",
   "version": "3.9.0"
  }
 },
 "nbformat": 4,
 "nbformat_minor": 4
}