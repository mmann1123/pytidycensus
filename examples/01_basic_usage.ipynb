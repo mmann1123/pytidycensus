{
 "cells": [
  {
   "cell_type": "markdown",
   "metadata": {},
   "source": [
    "# Basic usage of pytidycensus\n",
    "\n",
    "[![Open in Colab](https://colab.research.google.com/assets/colab-badge.svg)](https://colab.research.google.com/github/mmann1123/pytidycensus/blob/main/examples/01_basic_usage.ipynb)\n",
    "\n",
    "This notebook demonstrates the basic functionality of **pytidycensus**, a Python library for accessing US Census Bureau data with pandas and GeoPandas support.\n",
    "\n",
    "## Setup\n",
    "\n",
    "First, let's install and import the necessary packages:"
   ]
  },
  {
   "cell_type": "code",
   "execution_count": null,
   "metadata": {},
   "outputs": [],
   "source": [
    "# Uncomment to install if running in Colab\n",
    "# !pip install pytidycensus matplotlib\n",
    "\n",
    "import pytidycensus as tc\n",
    "import pandas as pd\n",
    "import matplotlib.pyplot as plt\n",
    "import seaborn as sns\n",
    "\n",
    "# Set styling\n",
    "plt.style.use('default')\n",
    "sns.set_palette(\"husl\")"
   ]
  },
  {
   "cell_type": "markdown",
   "metadata": {},
   "source": [
    "## Census API Key\n",
    "\n",
    "To use pytidycensus, you need a free API key from the US Census Bureau. Get one at: https://api.census.gov/data/key_signup.html\n",
    "\n",
    "Set your API key:"
   ]
  },
  {
   "cell_type": "code",
   "execution_count": null,
   "metadata": {},
   "outputs": [],
   "source": [
    "# Replace with your actual API key\n",
    "tc.set_census_api_key(\"Your API Key Here\")\n",
    "\n",
    "# # Alternatively, set as environment variable:\n",
    "# import os\n",
    "# os.environ['CENSUS_API_KEY'] = 'Your API Key Here'"
   ]
  },
  {
   "cell_type": "markdown",
   "metadata": {},
   "source": [
    "## Core Functions\n",
    "\n",
    "pytidycensus provides two main functions:\n",
    "\n",
    "- **`get_decennial()`**: Access to 2000, 2010, and 2020 decennial US Census APIs\n",
    "- **`get_acs()`**: Access to 1-year and 5-year American Community Survey APIs\n",
    "\n",
    "### Example: Median Age by State (2020 Census)\n",
    "\n",
    "Let's look at median age by state from the 2020 Census:"
   ]
  },
  {
   "cell_type": "code",
   "execution_count": 4,
   "metadata": {},
   "outputs": [
    {
     "name": "stdout",
     "output_type": "stream",
     "text": [
      "Getting data from the 2020 decennial Census\n",
      "Using the Demographic and Housing Characteristics File\n",
      "Data shape: (52, 4)\n"
     ]
    },
    {
     "name": "stderr",
     "output_type": "stream",
     "text": [
      "/home/mmann1123/miniconda3/envs/test2/lib/python3.11/site-packages/pytidycensus/decennial.py:327: UserWarning: Note: 2020 decennial Census data use differential privacy, a technique that introduces errors into data to preserve respondent confidentiality. Small counts should be interpreted with caution. See https://www.census.gov/library/fact-sheets/2021/protecting-the-confidentiality-of-the-2020-census-redistricting-data.html for additional guidance.\n",
      "  warnings.warn(\n"
     ]
    },
    {
     "data": {
      "application/vnd.microsoft.datawrangler.viewer.v0+json": {
       "columns": [
        {
         "name": "index",
         "rawType": "int64",
         "type": "integer"
        },
        {
         "name": "state",
         "rawType": "object",
         "type": "string"
        },
        {
         "name": "GEOID",
         "rawType": "object",
         "type": "string"
        },
        {
         "name": "variable",
         "rawType": "object",
         "type": "string"
        },
        {
         "name": "value",
         "rawType": "float64",
         "type": "float"
        }
       ],
       "ref": "f33842f8-3261-48ae-ad31-b78b76988516",
       "rows": [
        [
         "0",
         "09",
         "09",
         "P13_001N",
         "41.1"
        ],
        [
         "1",
         "10",
         "10",
         "P13_001N",
         "41.1"
        ],
        [
         "2",
         "11",
         "11",
         "P13_001N",
         "33.9"
        ],
        [
         "3",
         "12",
         "12",
         "P13_001N",
         "43.0"
        ],
        [
         "4",
         "13",
         "13",
         "P13_001N",
         "37.5"
        ]
       ],
       "shape": {
        "columns": 4,
        "rows": 5
       }
      },
      "text/html": [
       "<div>\n",
       "<style scoped>\n",
       "    .dataframe tbody tr th:only-of-type {\n",
       "        vertical-align: middle;\n",
       "    }\n",
       "\n",
       "    .dataframe tbody tr th {\n",
       "        vertical-align: top;\n",
       "    }\n",
       "\n",
       "    .dataframe thead th {\n",
       "        text-align: right;\n",
       "    }\n",
       "</style>\n",
       "<table border=\"1\" class=\"dataframe\">\n",
       "  <thead>\n",
       "    <tr style=\"text-align: right;\">\n",
       "      <th></th>\n",
       "      <th>state</th>\n",
       "      <th>GEOID</th>\n",
       "      <th>variable</th>\n",
       "      <th>value</th>\n",
       "    </tr>\n",
       "  </thead>\n",
       "  <tbody>\n",
       "    <tr>\n",
       "      <th>0</th>\n",
       "      <td>09</td>\n",
       "      <td>09</td>\n",
       "      <td>P13_001N</td>\n",
       "      <td>41.1</td>\n",
       "    </tr>\n",
       "    <tr>\n",
       "      <th>1</th>\n",
       "      <td>10</td>\n",
       "      <td>10</td>\n",
       "      <td>P13_001N</td>\n",
       "      <td>41.1</td>\n",
       "    </tr>\n",
       "    <tr>\n",
       "      <th>2</th>\n",
       "      <td>11</td>\n",
       "      <td>11</td>\n",
       "      <td>P13_001N</td>\n",
       "      <td>33.9</td>\n",
       "    </tr>\n",
       "    <tr>\n",
       "      <th>3</th>\n",
       "      <td>12</td>\n",
       "      <td>12</td>\n",
       "      <td>P13_001N</td>\n",
       "      <td>43.0</td>\n",
       "    </tr>\n",
       "    <tr>\n",
       "      <th>4</th>\n",
       "      <td>13</td>\n",
       "      <td>13</td>\n",
       "      <td>P13_001N</td>\n",
       "      <td>37.5</td>\n",
       "    </tr>\n",
       "  </tbody>\n",
       "</table>\n",
       "</div>"
      ],
      "text/plain": [
       "  state GEOID  variable  value\n",
       "0    09    09  P13_001N   41.1\n",
       "1    10    10  P13_001N   41.1\n",
       "2    11    11  P13_001N   33.9\n",
       "3    12    12  P13_001N   43.0\n",
       "4    13    13  P13_001N   37.5"
      ]
     },
     "execution_count": 4,
     "metadata": {},
     "output_type": "execute_result"
    }
   ],
   "source": [
    "# Get median age by state from 2020 Census\n",
    "age_2020 = tc.get_decennial(\n",
    "    geography=\"state\",\n",
    "    variables=\"P13_001N\",  # Median age variable\n",
    "    year=2020,\n",
    "    sumfile=\"dhc\"  # Demographic and Housing Characteristics file\n",
    ")\n",
    "\n",
    "print(f\"Data shape: {age_2020.shape}\")\n",
    "age_2020.head()"
   ]
  },
  {
   "cell_type": "markdown",
   "metadata": {},
   "source": [
    "The function returns a pandas DataFrame with four columns:\n",
    "\n",
    "- **`GEOID`**: Identifier for the geographical unit\n",
    "- **`NAME`**: Descriptive name of the geographical unit  \n",
    "- **`variable`**: Census variable represented in the row\n",
    "- **`value`**: Value of the variable for that unit\n",
    "\n",
    "### Visualizing the Data\n",
    "\n",
    "Since we have a tidy DataFrame, we can easily visualize it:"
   ]
  },
  {
   "cell_type": "code",
   "execution_count": 5,
   "metadata": {},
   "outputs": [
    {
     "data": {
      "image/png": "[encoded data removed]",
      "text/plain": [
       "<Figure size 1000x1200 with 1 Axes>"
      ]
     },
     "metadata": {},
     "output_type": "display_data"
    }
   ],
   "source": [
    "# Create a horizontal bar plot\n",
    "plt.figure(figsize=(10, 12))\n",
    "\n",
    "# Sort by median age and plot\n",
    "age_sorted = age_2020.sort_values('value')\n",
    "plt.barh(range(len(age_sorted)), age_sorted['value'])\n",
    "plt.yticks(range(len(age_sorted)), age_sorted['state'])\n",
    "plt.xlabel('Median Age (years)')\n",
    "plt.title('Median Age by State (2020 Census)', fontsize=14, fontweight='bold')\n",
    "plt.grid(axis='x', alpha=0.3)\n",
    "plt.tight_layout()\n",
    "plt.show()"
   ]
  },
  {
   "cell_type": "markdown",
   "metadata": {},
   "source": [
    "## Geography in pytidycensus\n",
    "\n",
    "pytidycensus supports many geographic levels. Here are the most commonly used:\n",
    "\n",
    "| Geography | Definition | Example Usage |\n",
    "|-----------|------------|---------------|\n",
    "| `\"us\"` | United States | National data |\n",
    "| `\"state\"` | State or equivalent | State-level data |\n",
    "| `\"county\"` | County or equivalent | County-level data |\n",
    "| `\"tract\"` | Census tract | Neighborhood-level data |\n",
    "| `\"block group\"` | Census block group | Sub-neighborhood data |\n",
    "| `\"place\"` | Census-designated place | City/town data |\n",
    "| `\"zcta\"` | ZIP Code Tabulation Area | ZIP code areas |\n",
    "\n",
    "### Example: County Data\n",
    "\n",
    "Let's get population data for counties in Texas:"
   ]
  },
  {
   "cell_type": "code",
   "execution_count": 6,
   "metadata": {},
   "outputs": [
    {
     "name": "stdout",
     "output_type": "stream",
     "text": [
      "Getting data from the 2020 decennial Census\n",
      "Using the PL 94-171 Redistricting Data Summary File\n",
      "Number of Texas counties: 254\n"
     ]
    },
    {
     "name": "stderr",
     "output_type": "stream",
     "text": [
      "/home/mmann1123/miniconda3/envs/test2/lib/python3.11/site-packages/pytidycensus/decennial.py:327: UserWarning: Note: 2020 decennial Census data use differential privacy, a technique that introduces errors into data to preserve respondent confidentiality. Small counts should be interpreted with caution. See https://www.census.gov/library/fact-sheets/2021/protecting-the-confidentiality-of-the-2020-census-redistricting-data.html for additional guidance.\n",
      "  warnings.warn(\n"
     ]
    },
    {
     "data": {
      "application/vnd.microsoft.datawrangler.viewer.v0+json": {
       "columns": [
        {
         "name": "index",
         "rawType": "int64",
         "type": "integer"
        },
        {
         "name": "state",
         "rawType": "object",
         "type": "string"
        },
        {
         "name": "county",
         "rawType": "object",
         "type": "string"
        },
        {
         "name": "GEOID",
         "rawType": "object",
         "type": "string"
        },
        {
         "name": "variable",
         "rawType": "object",
         "type": "string"
        },
        {
         "name": "value",
         "rawType": "int64",
         "type": "integer"
        }
       ],
       "ref": "3aca9dc9-f0a5-40b8-95b5-ad1df5a02218",
       "rows": [
        [
         "0",
         "48",
         "001",
         "48001",
         "P1_001N",
         "57922"
        ],
        [
         "1",
         "48",
         "003",
         "48003",
         "P1_001N",
         "18610"
        ],
        [
         "2",
         "48",
         "005",
         "48005",
         "P1_001N",
         "86395"
        ],
        [
         "3",
         "48",
         "007",
         "48007",
         "P1_001N",
         "23830"
        ],
        [
         "4",
         "48",
         "009",
         "48009",
         "P1_001N",
         "8560"
        ]
       ],
       "shape": {
        "columns": 5,
        "rows": 5
       }
      },
      "text/html": [
       "<div>\n",
       "<style scoped>\n",
       "    .dataframe tbody tr th:only-of-type {\n",
       "        vertical-align: middle;\n",
       "    }\n",
       "\n",
       "    .dataframe tbody tr th {\n",
       "        vertical-align: top;\n",
       "    }\n",
       "\n",
       "    .dataframe thead th {\n",
       "        text-align: right;\n",
       "    }\n",
       "</style>\n",
       "<table border=\"1\" class=\"dataframe\">\n",
       "  <thead>\n",
       "    <tr style=\"text-align: right;\">\n",
       "      <th></th>\n",
       "      <th>state</th>\n",
       "      <th>county</th>\n",
       "      <th>GEOID</th>\n",
       "      <th>variable</th>\n",
       "      <th>value</th>\n",
       "    </tr>\n",
       "  </thead>\n",
       "  <tbody>\n",
       "    <tr>\n",
       "      <th>0</th>\n",
       "      <td>48</td>\n",
       "      <td>001</td>\n",
       "      <td>48001</td>\n",
       "      <td>P1_001N</td>\n",
       "      <td>57922</td>\n",
       "    </tr>\n",
       "    <tr>\n",
       "      <th>1</th>\n",
       "      <td>48</td>\n",
       "      <td>003</td>\n",
       "      <td>48003</td>\n",
       "      <td>P1_001N</td>\n",
       "      <td>18610</td>\n",
       "    </tr>\n",
       "    <tr>\n",
       "      <th>2</th>\n",
       "      <td>48</td>\n",
       "      <td>005</td>\n",
       "      <td>48005</td>\n",
       "      <td>P1_001N</td>\n",
       "      <td>86395</td>\n",
       "    </tr>\n",
       "    <tr>\n",
       "      <th>3</th>\n",
       "      <td>48</td>\n",
       "      <td>007</td>\n",
       "      <td>48007</td>\n",
       "      <td>P1_001N</td>\n",
       "      <td>23830</td>\n",
       "    </tr>\n",
       "    <tr>\n",
       "      <th>4</th>\n",
       "      <td>48</td>\n",
       "      <td>009</td>\n",
       "      <td>48009</td>\n",
       "      <td>P1_001N</td>\n",
       "      <td>8560</td>\n",
       "    </tr>\n",
       "  </tbody>\n",
       "</table>\n",
       "</div>"
      ],
      "text/plain": [
       "  state county  GEOID variable  value\n",
       "0    48    001  48001  P1_001N  57922\n",
       "1    48    003  48003  P1_001N  18610\n",
       "2    48    005  48005  P1_001N  86395\n",
       "3    48    007  48007  P1_001N  23830\n",
       "4    48    009  48009  P1_001N   8560"
      ]
     },
     "execution_count": 6,
     "metadata": {},
     "output_type": "execute_result"
    }
   ],
   "source": [
    "# Get total population for Texas counties\n",
    "tx_pop = tc.get_decennial(\n",
    "    geography=\"county\",\n",
    "    variables=\"P1_001N\",  # Total population\n",
    "    state=\"TX\",  # Filter to Texas\n",
    "    year=2020\n",
    ")\n",
    "\n",
    "print(f\"Number of Texas counties: {len(tx_pop)}\")\n",
    "tx_pop.head()"
   ]
  },
  {
   "cell_type": "markdown",
   "metadata": {},
   "source": [
    "## Searching for Variables\n",
    "\n",
    "The Census has thousands of variables. Use `load_variables()` to search for what you need:"
   ]
  },
  {
   "cell_type": "code",
   "execution_count": 7,
   "metadata": {},
   "outputs": [
    {
     "name": "stdout",
     "output_type": "stream",
     "text": [
      "Loaded cached variables for 2022 acs acs5\n",
      "Total variables available: 28193\n"
     ]
    },
    {
     "data": {
      "application/vnd.microsoft.datawrangler.viewer.v0+json": {
       "columns": [
        {
         "name": "index",
         "rawType": "int64",
         "type": "integer"
        },
        {
         "name": "name",
         "rawType": "object",
         "type": "string"
        },
        {
         "name": "label",
         "rawType": "object",
         "type": "string"
        },
        {
         "name": "concept",
         "rawType": "object",
         "type": "string"
        },
        {
         "name": "predicateType",
         "rawType": "object",
         "type": "string"
        },
        {
         "name": "group",
         "rawType": "object",
         "type": "string"
        },
        {
         "name": "limit",
         "rawType": "int64",
         "type": "integer"
        },
        {
         "name": "table",
         "rawType": "object",
         "type": "unknown"
        }
       ],
       "ref": "d82f2ec1-0ffc-4995-aa8d-4a57f12379ab",
       "rows": [
        [
         "0",
         "AIANHH",
         "Geography",
         "",
         "",
         "N/A",
         "0",
         null
        ],
        [
         "1",
         "AIHHTL",
         "Geography",
         "",
         "",
         "N/A",
         "0",
         null
        ],
        [
         "2",
         "AIRES",
         "Geography",
         "",
         "",
         "N/A",
         "0",
         null
        ],
        [
         "3",
         "ANRC",
         "Geography",
         "",
         "",
         "N/A",
         "0",
         null
        ],
        [
         "4",
         "B01001A_001E",
         "Estimate!!Total:",
         "Sex by Age (White Alone)",
         "int",
         "B01001A",
         "0",
         "B01001A"
        ]
       ],
       "shape": {
        "columns": 7,
        "rows": 5
       }
      },
      "text/html": [
       "<div>\n",
       "<style scoped>\n",
       "    .dataframe tbody tr th:only-of-type {\n",
       "        vertical-align: middle;\n",
       "    }\n",
       "\n",
       "    .dataframe tbody tr th {\n",
       "        vertical-align: top;\n",
       "    }\n",
       "\n",
       "    .dataframe thead th {\n",
       "        text-align: right;\n",
       "    }\n",
       "</style>\n",
       "<table border=\"1\" class=\"dataframe\">\n",
       "  <thead>\n",
       "    <tr style=\"text-align: right;\">\n",
       "      <th></th>\n",
       "      <th>name</th>\n",
       "      <th>label</th>\n",
       "      <th>concept</th>\n",
       "      <th>predicateType</th>\n",
       "      <th>group</th>\n",
       "      <th>limit</th>\n",
       "      <th>table</th>\n",
       "    </tr>\n",
       "  </thead>\n",
       "  <tbody>\n",
       "    <tr>\n",
       "      <th>0</th>\n",
       "      <td>AIANHH</td>\n",
       "      <td>Geography</td>\n",
       "      <td></td>\n",
       "      <td></td>\n",
       "      <td>N/A</td>\n",
       "      <td>0</td>\n",
       "      <td>NaN</td>\n",
       "    </tr>\n",
       "    <tr>\n",
       "      <th>1</th>\n",
       "      <td>AIHHTL</td>\n",
       "      <td>Geography</td>\n",
       "      <td></td>\n",
       "      <td></td>\n",
       "      <td>N/A</td>\n",
       "      <td>0</td>\n",
       "      <td>NaN</td>\n",
       "    </tr>\n",
       "    <tr>\n",
       "      <th>2</th>\n",
       "      <td>AIRES</td>\n",
       "      <td>Geography</td>\n",
       "      <td></td>\n",
       "      <td></td>\n",
       "      <td>N/A</td>\n",
       "      <td>0</td>\n",
       "      <td>NaN</td>\n",
       "    </tr>\n",
       "    <tr>\n",
       "      <th>3</th>\n",
       "      <td>ANRC</td>\n",
       "      <td>Geography</td>\n",
       "      <td></td>\n",
       "      <td></td>\n",
       "      <td>N/A</td>\n",
       "      <td>0</td>\n",
       "      <td>NaN</td>\n",
       "    </tr>\n",
       "    <tr>\n",
       "      <th>4</th>\n",
       "      <td>B01001A_001E</td>\n",
       "      <td>Estimate!!Total:</td>\n",
       "      <td>Sex by Age (White Alone)</td>\n",
       "      <td>int</td>\n",
       "      <td>B01001A</td>\n",
       "      <td>0</td>\n",
       "      <td>B01001A</td>\n",
       "    </tr>\n",
       "  </tbody>\n",
       "</table>\n",
       "</div>"
      ],
      "text/plain": [
       "           name             label                   concept predicateType  \\\n",
       "0        AIANHH         Geography                                           \n",
       "1        AIHHTL         Geography                                           \n",
       "2         AIRES         Geography                                           \n",
       "3          ANRC         Geography                                           \n",
       "4  B01001A_001E  Estimate!!Total:  Sex by Age (White Alone)           int   \n",
       "\n",
       "     group  limit    table  \n",
       "0      N/A      0      NaN  \n",
       "1      N/A      0      NaN  \n",
       "2      N/A      0      NaN  \n",
       "3      N/A      0      NaN  \n",
       "4  B01001A      0  B01001A  "
      ]
     },
     "execution_count": 7,
     "metadata": {},
     "output_type": "execute_result"
    }
   ],
   "source": [
    "# Load variables for 2022 5-year ACS\n",
    "variables_2022 = tc.load_variables(2022, \"acs\", \"acs5\", cache=True)\n",
    "\n",
    "print(f\"Total variables available: {len(variables_2022)}\")\n",
    "variables_2022.head()"
   ]
  },
  {
   "cell_type": "code",
   "execution_count": 8,
   "metadata": {},
   "outputs": [
    {
     "name": "stdout",
     "output_type": "stream",
     "text": [
      "Loaded cached variables for 2022 acs acs5\n",
      "Found 25 income-related variables\n"
     ]
    },
    {
     "data": {
      "application/vnd.microsoft.datawrangler.viewer.v0+json": {
       "columns": [
        {
         "name": "index",
         "rawType": "int64",
         "type": "integer"
        },
        {
         "name": "name",
         "rawType": "object",
         "type": "string"
        },
        {
         "name": "label",
         "rawType": "object",
         "type": "string"
        }
       ],
       "ref": "1a2ed6c6-d573-4e69-a5ba-0fe72c2618fe",
       "rows": [
        [
         "0",
         "B19013A_001E",
         "Estimate!!Median household income in the past 12 months (in 2022 inflation-adjusted dollars)"
        ],
        [
         "1",
         "B19013B_001E",
         "Estimate!!Median household income in the past 12 months (in 2022 inflation-adjusted dollars)"
        ],
        [
         "2",
         "B19013C_001E",
         "Estimate!!Median household income in the past 12 months (in 2022 inflation-adjusted dollars)"
        ],
        [
         "3",
         "B19013D_001E",
         "Estimate!!Median household income in the past 12 months (in 2022 inflation-adjusted dollars)"
        ],
        [
         "4",
         "B19013E_001E",
         "Estimate!!Median household income in the past 12 months (in 2022 inflation-adjusted dollars)"
        ],
        [
         "5",
         "B19013F_001E",
         "Estimate!!Median household income in the past 12 months (in 2022 inflation-adjusted dollars)"
        ],
        [
         "6",
         "B19013G_001E",
         "Estimate!!Median household income in the past 12 months (in 2022 inflation-adjusted dollars)"
        ],
        [
         "7",
         "B19013H_001E",
         "Estimate!!Median household income in the past 12 months (in 2022 inflation-adjusted dollars)"
        ],
        [
         "8",
         "B19013I_001E",
         "Estimate!!Median household income in the past 12 months (in 2022 inflation-adjusted dollars)"
        ],
        [
         "9",
         "B19013_001E",
         "Estimate!!Median household income in the past 12 months (in 2022 inflation-adjusted dollars)"
        ]
       ],
       "shape": {
        "columns": 2,
        "rows": 10
       }
      },
      "text/html": [
       "<div>\n",
       "<style scoped>\n",
       "    .dataframe tbody tr th:only-of-type {\n",
       "        vertical-align: middle;\n",
       "    }\n",
       "\n",
       "    .dataframe tbody tr th {\n",
       "        vertical-align: top;\n",
       "    }\n",
       "\n",
       "    .dataframe thead th {\n",
       "        text-align: right;\n",
       "    }\n",
       "</style>\n",
       "<table border=\"1\" class=\"dataframe\">\n",
       "  <thead>\n",
       "    <tr style=\"text-align: right;\">\n",
       "      <th></th>\n",
       "      <th>name</th>\n",
       "      <th>label</th>\n",
       "    </tr>\n",
       "  </thead>\n",
       "  <tbody>\n",
       "    <tr>\n",
       "      <th>0</th>\n",
       "      <td>B19013A_001E</td>\n",
       "      <td>Estimate!!Median household income in the past ...</td>\n",
       "    </tr>\n",
       "    <tr>\n",
       "      <th>1</th>\n",
       "      <td>B19013B_001E</td>\n",
       "      <td>Estimate!!Median household income in the past ...</td>\n",
       "    </tr>\n",
       "    <tr>\n",
       "      <th>2</th>\n",
       "      <td>B19013C_001E</td>\n",
       "      <td>Estimate!!Median household income in the past ...</td>\n",
       "    </tr>\n",
       "    <tr>\n",
       "      <th>3</th>\n",
       "      <td>B19013D_001E</td>\n",
       "      <td>Estimate!!Median household income in the past ...</td>\n",
       "    </tr>\n",
       "    <tr>\n",
       "      <th>4</th>\n",
       "      <td>B19013E_001E</td>\n",
       "      <td>Estimate!!Median household income in the past ...</td>\n",
       "    </tr>\n",
       "    <tr>\n",
       "      <th>5</th>\n",
       "      <td>B19013F_001E</td>\n",
       "      <td>Estimate!!Median household income in the past ...</td>\n",
       "    </tr>\n",
       "    <tr>\n",
       "      <th>6</th>\n",
       "      <td>B19013G_001E</td>\n",
       "      <td>Estimate!!Median household income in the past ...</td>\n",
       "    </tr>\n",
       "    <tr>\n",
       "      <th>7</th>\n",
       "      <td>B19013H_001E</td>\n",
       "      <td>Estimate!!Median household income in the past ...</td>\n",
       "    </tr>\n",
       "    <tr>\n",
       "      <th>8</th>\n",
       "      <td>B19013I_001E</td>\n",
       "      <td>Estimate!!Median household income in the past ...</td>\n",
       "    </tr>\n",
       "    <tr>\n",
       "      <th>9</th>\n",
       "      <td>B19013_001E</td>\n",
       "      <td>Estimate!!Median household income in the past ...</td>\n",
       "    </tr>\n",
       "  </tbody>\n",
       "</table>\n",
       "</div>"
      ],
      "text/plain": [
       "           name                                              label\n",
       "0  B19013A_001E  Estimate!!Median household income in the past ...\n",
       "1  B19013B_001E  Estimate!!Median household income in the past ...\n",
       "2  B19013C_001E  Estimate!!Median household income in the past ...\n",
       "3  B19013D_001E  Estimate!!Median household income in the past ...\n",
       "4  B19013E_001E  Estimate!!Median household income in the past ...\n",
       "5  B19013F_001E  Estimate!!Median household income in the past ...\n",
       "6  B19013G_001E  Estimate!!Median household income in the past ...\n",
       "7  B19013H_001E  Estimate!!Median household income in the past ...\n",
       "8  B19013I_001E  Estimate!!Median household income in the past ...\n",
       "9   B19013_001E  Estimate!!Median household income in the past ..."
      ]
     },
     "execution_count": 8,
     "metadata": {},
     "output_type": "execute_result"
    }
   ],
   "source": [
    "# Search for income-related variables\n",
    "income_vars = tc.search_variables(\"median household income\", 2022, \"acs\", \"acs5\")\n",
    "print(f\"Found {len(income_vars)} income-related variables\")\n",
    "income_vars[['name', 'label']].head(10)"
   ]
  },
  {
   "cell_type": "markdown",
   "metadata": {},
   "source": [
    "## Working with ACS Data\n",
    "\n",
    "American Community Survey (ACS) data includes estimates with margins of error, since it's based on a sample rather than a complete count.\n",
    "\n",
    "### Example: Median Household Income\n",
    "\n",
    "Let's get median household income for Vermont counties:"
   ]
  },
  {
   "cell_type": "code",
   "execution_count": 9,
   "metadata": {},
   "outputs": [
    {
     "name": "stdout",
     "output_type": "stream",
     "text": [
      "Getting data from the 2018-2022 5-year ACS\n"
     ]
    },
    {
     "data": {
      "application/vnd.microsoft.datawrangler.viewer.v0+json": {
       "columns": [
        {
         "name": "index",
         "rawType": "int64",
         "type": "integer"
        },
        {
         "name": "medincome",
         "rawType": "object",
         "type": "unknown"
        },
        {
         "name": "state",
         "rawType": "object",
         "type": "string"
        },
        {
         "name": "county",
         "rawType": "object",
         "type": "string"
        },
        {
         "name": "tract",
         "rawType": "object",
         "type": "string"
        },
        {
         "name": "GEOID",
         "rawType": "object",
         "type": "string"
        },
        {
         "name": "medincome_moe",
         "rawType": "object",
         "type": "unknown"
        }
       ],
       "ref": "ac2d777a-58eb-4e46-b628-d1a3e7d1b6f4",
       "rows": [
        [
         "0",
         "96154",
         "50",
         "001",
         "960100",
         "50001960100",
         "18071.0"
        ],
        [
         "1",
         "106328",
         "50",
         "001",
         "960200",
         "50001960200",
         "22525.0"
        ],
        [
         "2",
         "72171",
         "50",
         "001",
         "960300",
         "50001960300",
         "19890.0"
        ],
        [
         "3",
         "99056",
         "50",
         "001",
         "960400",
         "50001960400",
         "5760.0"
        ],
        [
         "4",
         "75875",
         "50",
         "001",
         "960500",
         "50001960500",
         "15001.0"
        ],
        [
         "5",
         "80833",
         "50",
         "001",
         "960600",
         "50001960600",
         "9192.0"
        ],
        [
         "6",
         "80947",
         "50",
         "001",
         "960700",
         "50001960700",
         "21455.0"
        ],
        [
         "7",
         "72386",
         "50",
         "001",
         "960800",
         "50001960800",
         "23938.0"
        ],
        [
         "8",
         "81875",
         "50",
         "001",
         "960900",
         "50001960900",
         "10676.0"
        ],
        [
         "9",
         "73403",
         "50",
         "001",
         "961000",
         "50001961000",
         "15455.0"
        ],
        [
         "10",
         "92933",
         "50",
         "003",
         "970401",
         "50003970401",
         "26310.0"
        ],
        [
         "11",
         "83567",
         "50",
         "003",
         "970402",
         "50003970402",
         "35014.0"
        ],
        [
         "12",
         "85677",
         "50",
         "003",
         "970500",
         "50003970500",
         "14354.0"
        ],
        [
         "13",
         "68021",
         "50",
         "003",
         "970601",
         "50003970601",
         "8713.0"
        ],
        [
         "14",
         "103938",
         "50",
         "003",
         "970800",
         "50003970800",
         "18129.0"
        ],
        [
         "15",
         "58721",
         "50",
         "003",
         "970900",
         "50003970900",
         "15297.0"
        ],
        [
         "16",
         "63825",
         "50",
         "003",
         "971000",
         "50003971000",
         "10068.0"
        ],
        [
         "17",
         "76477",
         "50",
         "003",
         "971100",
         "50003971100",
         "24515.0"
        ],
        [
         "18",
         "41399",
         "50",
         "003",
         "971200",
         "50003971200",
         "6897.0"
        ],
        [
         "19",
         "71382",
         "50",
         "003",
         "971300",
         "50003971300",
         "23169.0"
        ],
        [
         "20",
         "73919",
         "50",
         "003",
         "971400",
         "50003971400",
         "19985.0"
        ],
        [
         "21",
         "74391",
         "50",
         "003",
         "971600",
         "50003971600",
         "10165.0"
        ],
        [
         "22",
         "68482",
         "50",
         "005",
         "957000",
         "50005957000",
         "4528.0"
        ],
        [
         "23",
         "64722",
         "50",
         "005",
         "957100",
         "50005957100",
         "17382.0"
        ],
        [
         "24",
         "59861",
         "50",
         "005",
         "957200",
         "50005957200",
         "15494.0"
        ],
        [
         "25",
         "62523",
         "50",
         "005",
         "957300",
         "50005957300",
         "11002.0"
        ],
        [
         "26",
         "52875",
         "50",
         "005",
         "957400",
         "50005957400",
         "10590.0"
        ],
        [
         "27",
         "53071",
         "50",
         "005",
         "957500",
         "50005957500",
         "11453.0"
        ],
        [
         "28",
         "71731",
         "50",
         "005",
         "957600",
         "50005957600",
         "14169.0"
        ],
        [
         "29",
         "69250",
         "50",
         "005",
         "957700",
         "50005957700",
         "15742.0"
        ],
        [
         "30",
         "65577",
         "50",
         "005",
         "957800",
         "50005957800",
         "9587.0"
        ],
        [
         "31",
         "80583",
         "50",
         "005",
         "957900",
         "50005957900",
         "14844.0"
        ],
        [
         "32",
         "95027",
         "50",
         "007",
         "000100",
         "50007000100",
         "11097.0"
        ],
        [
         "33",
         "80524",
         "50",
         "007",
         "000200",
         "50007000200",
         "22388.0"
        ],
        [
         "34",
         "50110",
         "50",
         "007",
         "000300",
         "50007000300",
         "8993.0"
        ],
        [
         "35",
         "61667",
         "50",
         "007",
         "000600",
         "50007000600",
         "5992.0"
        ],
        [
         "36",
         "116691",
         "50",
         "007",
         "000800",
         "50007000800",
         "14912.0"
        ],
        [
         "37",
         "69784",
         "50",
         "007",
         "000900",
         "50007000900",
         "22165.0"
        ],
        [
         "38",
         "57386",
         "50",
         "007",
         "001000",
         "50007001000",
         "14005.0"
        ],
        [
         "39",
         "111500",
         "50",
         "007",
         "001100",
         "50007001100",
         "28686.0"
        ],
        [
         "40",
         "133750",
         "50",
         "007",
         "002101",
         "50007002101",
         "22468.0"
        ],
        [
         "41",
         "112632",
         "50",
         "007",
         "002103",
         "50007002103",
         "16500.0"
        ],
        [
         "42",
         "88533",
         "50",
         "007",
         "002104",
         "50007002104",
         "20732.0"
        ],
        [
         "43",
         "59773",
         "50",
         "007",
         "002201",
         "50007002201",
         "9800.0"
        ],
        [
         "44",
         "87444",
         "50",
         "007",
         "002202",
         "50007002202",
         "17094.0"
        ],
        [
         "45",
         "118750",
         "50",
         "007",
         "002301",
         "50007002301",
         "43009.0"
        ],
        [
         "46",
         "113636",
         "50",
         "007",
         "002303",
         "50007002303",
         "27898.0"
        ],
        [
         "47",
         "80319",
         "50",
         "007",
         "002304",
         "50007002304",
         "11972.0"
        ],
        [
         "48",
         "72125",
         "50",
         "007",
         "002400",
         "50007002400",
         "14125.0"
        ],
        [
         "49",
         "57990",
         "50",
         "007",
         "002501",
         "50007002501",
         "17617.0"
        ]
       ],
       "shape": {
        "columns": 6,
        "rows": 193
       }
      },
      "text/html": [
       "<div>\n",
       "<style scoped>\n",
       "    .dataframe tbody tr th:only-of-type {\n",
       "        vertical-align: middle;\n",
       "    }\n",
       "\n",
       "    .dataframe tbody tr th {\n",
       "        vertical-align: top;\n",
       "    }\n",
       "\n",
       "    .dataframe thead th {\n",
       "        text-align: right;\n",
       "    }\n",
       "</style>\n",
       "<table border=\"1\" class=\"dataframe\">\n",
       "  <thead>\n",
       "    <tr style=\"text-align: right;\">\n",
       "      <th></th>\n",
       "      <th>medincome</th>\n",
       "      <th>state</th>\n",
       "      <th>county</th>\n",
       "      <th>tract</th>\n",
       "      <th>GEOID</th>\n",
       "      <th>medincome_moe</th>\n",
       "    </tr>\n",
       "  </thead>\n",
       "  <tbody>\n",
       "    <tr>\n",
       "      <th>0</th>\n",
       "      <td>96154</td>\n",
       "      <td>50</td>\n",
       "      <td>001</td>\n",
       "      <td>960100</td>\n",
       "      <td>50001960100</td>\n",
       "      <td>18071.0</td>\n",
       "    </tr>\n",
       "    <tr>\n",
       "      <th>1</th>\n",
       "      <td>106328</td>\n",
       "      <td>50</td>\n",
       "      <td>001</td>\n",
       "      <td>960200</td>\n",
       "      <td>50001960200</td>\n",
       "      <td>22525.0</td>\n",
       "    </tr>\n",
       "    <tr>\n",
       "      <th>2</th>\n",
       "      <td>72171</td>\n",
       "      <td>50</td>\n",
       "      <td>001</td>\n",
       "      <td>960300</td>\n",
       "      <td>50001960300</td>\n",
       "      <td>19890.0</td>\n",
       "    </tr>\n",
       "    <tr>\n",
       "      <th>3</th>\n",
       "      <td>99056</td>\n",
       "      <td>50</td>\n",
       "      <td>001</td>\n",
       "      <td>960400</td>\n",
       "      <td>50001960400</td>\n",
       "      <td>5760.0</td>\n",
       "    </tr>\n",
       "    <tr>\n",
       "      <th>4</th>\n",
       "      <td>75875</td>\n",
       "      <td>50</td>\n",
       "      <td>001</td>\n",
       "      <td>960500</td>\n",
       "      <td>50001960500</td>\n",
       "      <td>15001.0</td>\n",
       "    </tr>\n",
       "    <tr>\n",
       "      <th>...</th>\n",
       "      <td>...</td>\n",
       "      <td>...</td>\n",
       "      <td>...</td>\n",
       "      <td>...</td>\n",
       "      <td>...</td>\n",
       "      <td>...</td>\n",
       "    </tr>\n",
       "    <tr>\n",
       "      <th>188</th>\n",
       "      <td>64756</td>\n",
       "      <td>50</td>\n",
       "      <td>027</td>\n",
       "      <td>966501</td>\n",
       "      <td>50027966501</td>\n",
       "      <td>8833.0</td>\n",
       "    </tr>\n",
       "    <tr>\n",
       "      <th>189</th>\n",
       "      <td>103750</td>\n",
       "      <td>50</td>\n",
       "      <td>027</td>\n",
       "      <td>966502</td>\n",
       "      <td>50027966502</td>\n",
       "      <td>12857.0</td>\n",
       "    </tr>\n",
       "    <tr>\n",
       "      <th>190</th>\n",
       "      <td>64364</td>\n",
       "      <td>50</td>\n",
       "      <td>027</td>\n",
       "      <td>966600</td>\n",
       "      <td>50027966600</td>\n",
       "      <td>5805.0</td>\n",
       "    </tr>\n",
       "    <tr>\n",
       "      <th>191</th>\n",
       "      <td>56875</td>\n",
       "      <td>50</td>\n",
       "      <td>027</td>\n",
       "      <td>966700</td>\n",
       "      <td>50027966700</td>\n",
       "      <td>12544.0</td>\n",
       "    </tr>\n",
       "    <tr>\n",
       "      <th>192</th>\n",
       "      <td>68542</td>\n",
       "      <td>50</td>\n",
       "      <td>027</td>\n",
       "      <td>966800</td>\n",
       "      <td>50027966800</td>\n",
       "      <td>3365.0</td>\n",
       "    </tr>\n",
       "  </tbody>\n",
       "</table>\n",
       "<p>193 rows × 6 columns</p>\n",
       "</div>"
      ],
      "text/plain": [
       "    medincome state county   tract        GEOID medincome_moe\n",
       "0       96154    50    001  960100  50001960100       18071.0\n",
       "1      106328    50    001  960200  50001960200       22525.0\n",
       "2       72171    50    001  960300  50001960300       19890.0\n",
       "3       99056    50    001  960400  50001960400        5760.0\n",
       "4       75875    50    001  960500  50001960500       15001.0\n",
       "..        ...   ...    ...     ...          ...           ...\n",
       "188     64756    50    027  966501  50027966501        8833.0\n",
       "189    103750    50    027  966502  50027966502       12857.0\n",
       "190     64364    50    027  966600  50027966600        5805.0\n",
       "191     56875    50    027  966700  50027966700       12544.0\n",
       "192     68542    50    027  966800  50027966800        3365.0\n",
       "\n",
       "[193 rows x 6 columns]"
      ]
     },
     "execution_count": 9,
     "metadata": {},
     "output_type": "execute_result"
    }
   ],
   "source": [
    "# Get median household income for Vermont tracts\n",
    "vt_income = tc.get_acs(\n",
    "    geography=\"tract\",\n",
    "    variables={\"medincome\": \"B19013_001\"},  # Can use dictionary for variable names\n",
    "    state=\"VT\",\n",
    "    year=2022,\n",
    "    output=\"wide\",  # Get data in wide format\n",
    ")\n",
    "\n",
    "vt_income"
   ]
  },
  {
   "cell_type": "markdown",
   "metadata": {},
   "source": [
    "Notice that ACS data returns `estimate` and `moe` (margin of error) columns instead of a single `value` column.\n",
    "\n",
    "### Visualizing Uncertainty\n",
    "\n",
    "We can visualize the uncertainty around estimates using error bars:"
   ]
  },
  {
   "cell_type": "code",
   "execution_count": 10,
   "metadata": {},
   "outputs": [
    {
     "data": {
      "image/png": "[encoded data removed]",
      "text/plain": [
       "<Figure size 1000x600 with 1 Axes>"
      ]
     },
     "metadata": {},
     "output_type": "display_data"
    }
   ],
   "source": [
    "# Clean county names and create visualization\n",
    "vt_clean = vt_income.copy()\n",
    "vt_clean = vt_clean.sort_values(\"medincome\")\n",
    "vt_clean.dropna(subset=[\"medincome\"], inplace=True)\n",
    "plt.figure(figsize=(10, 6))\n",
    "\n",
    "# Create error bar plot\n",
    "plt.errorbar(\n",
    "    vt_clean[\"medincome\"],\n",
    "    range(len(vt_clean)),\n",
    "    xerr=vt_clean[\"medincome_moe\"],  # Using margin of error as error bars\n",
    "    fmt=\"o\",\n",
    "    color=\"red\",\n",
    "    markersize=8,\n",
    "    capsize=5,\n",
    "    capthick=2,\n",
    ")\n",
    "\n",
    "plt.xlabel('ACS Estimate (bars represent margin of error)')\n",
    "plt.title('Median Household Income by County in Vermont\\n2018-2022 American Community Survey')\n",
    "plt.grid(axis='x', alpha=0.3)\n",
    "plt.tight_layout()\n",
    "plt.show()"
   ]
  },
  {
   "cell_type": "markdown",
   "metadata": {},
   "source": [
    "## Data Output Formats\n",
    "\n",
    "By default, pytidycensus returns data in \"tidy\" format. You can also request \"wide\" format:\n",
    "\n",
    "### Tidy Format (Default)"
   ]
  },
  {
   "cell_type": "code",
   "execution_count": 11,
   "metadata": {},
   "outputs": [
    {
     "name": "stdout",
     "output_type": "stream",
     "text": [
      "Getting data from the 2018-2022 5-year ACS\n",
      "Tidy format shape: (348, 5)\n"
     ]
    },
    {
     "data": {
      "application/vnd.microsoft.datawrangler.viewer.v0+json": {
       "columns": [
        {
         "name": "index",
         "rawType": "int64",
         "type": "integer"
        },
        {
         "name": "state",
         "rawType": "object",
         "type": "string"
        },
        {
         "name": "county",
         "rawType": "object",
         "type": "string"
        },
        {
         "name": "GEOID",
         "rawType": "object",
         "type": "string"
        },
        {
         "name": "variable",
         "rawType": "object",
         "type": "string"
        },
        {
         "name": "value",
         "rawType": "object",
         "type": "unknown"
        }
       ],
       "ref": "41296cd0-74c8-4762-aba3-02e7ea9cc3db",
       "rows": [
        [
         "0",
         "06",
         "001",
         "06001",
         "total_pop",
         "1663823"
        ],
        [
         "1",
         "06",
         "003",
         "06003",
         "total_pop",
         "1515"
        ],
        [
         "2",
         "06",
         "005",
         "06005",
         "total_pop",
         "40577"
        ],
        [
         "3",
         "06",
         "007",
         "06007",
         "total_pop",
         "213605"
        ],
        [
         "4",
         "06",
         "009",
         "06009",
         "total_pop",
         "45674"
        ],
        [
         "5",
         "06",
         "011",
         "06011",
         "total_pop",
         "21811"
        ],
        [
         "6",
         "06",
         "013",
         "06013",
         "total_pop",
         "1162648"
        ],
        [
         "7",
         "06",
         "015",
         "06015",
         "total_pop",
         "27462"
        ],
        [
         "8",
         "06",
         "017",
         "06017",
         "total_pop",
         "191713"
        ],
        [
         "9",
         "06",
         "019",
         "06019",
         "total_pop",
         "1008280"
        ],
        [
         "10",
         "06",
         "021",
         "06021",
         "total_pop",
         "28657"
        ],
        [
         "11",
         "06",
         "023",
         "06023",
         "total_pop",
         "136132"
        ],
        [
         "12",
         "06",
         "025",
         "06025",
         "total_pop",
         "179578"
        ],
        [
         "13",
         "06",
         "027",
         "06027",
         "total_pop",
         "18829"
        ],
        [
         "14",
         "06",
         "029",
         "06029",
         "total_pop",
         "906883"
        ],
        [
         "15",
         "06",
         "031",
         "06031",
         "total_pop",
         "152515"
        ],
        [
         "16",
         "06",
         "033",
         "06033",
         "total_pop",
         "68024"
        ],
        [
         "17",
         "06",
         "035",
         "06035",
         "total_pop",
         "31873"
        ],
        [
         "18",
         "06",
         "037",
         "06037",
         "total_pop",
         "9936690"
        ],
        [
         "19",
         "06",
         "039",
         "06039",
         "total_pop",
         "157243"
        ],
        [
         "20",
         "06",
         "041",
         "06041",
         "total_pop",
         "260485"
        ],
        [
         "21",
         "06",
         "043",
         "06043",
         "total_pop",
         "17130"
        ],
        [
         "22",
         "06",
         "045",
         "06045",
         "total_pop",
         "91145"
        ],
        [
         "23",
         "06",
         "047",
         "06047",
         "total_pop",
         "282290"
        ],
        [
         "24",
         "06",
         "049",
         "06049",
         "total_pop",
         "8651"
        ],
        [
         "25",
         "06",
         "051",
         "06051",
         "total_pop",
         "13219"
        ],
        [
         "26",
         "06",
         "053",
         "06053",
         "total_pop",
         "437609"
        ],
        [
         "27",
         "06",
         "055",
         "06055",
         "total_pop",
         "137384"
        ],
        [
         "28",
         "06",
         "057",
         "06057",
         "total_pop",
         "102322"
        ],
        [
         "29",
         "06",
         "059",
         "06059",
         "total_pop",
         "3175227"
        ],
        [
         "30",
         "06",
         "061",
         "06061",
         "total_pop",
         "406608"
        ],
        [
         "31",
         "06",
         "063",
         "06063",
         "total_pop",
         "19650"
        ],
        [
         "32",
         "06",
         "065",
         "06065",
         "total_pop",
         "2429487"
        ],
        [
         "33",
         "06",
         "067",
         "06067",
         "total_pop",
         "1579211"
        ],
        [
         "34",
         "06",
         "069",
         "06069",
         "total_pop",
         "64753"
        ],
        [
         "35",
         "06",
         "071",
         "06071",
         "total_pop",
         "2180563"
        ],
        [
         "36",
         "06",
         "073",
         "06073",
         "total_pop",
         "3289701"
        ],
        [
         "37",
         "06",
         "075",
         "06075",
         "total_pop",
         "851036"
        ],
        [
         "38",
         "06",
         "077",
         "06077",
         "total_pop",
         "779445"
        ],
        [
         "39",
         "06",
         "079",
         "06079",
         "total_pop",
         "281712"
        ],
        [
         "40",
         "06",
         "081",
         "06081",
         "total_pop",
         "754250"
        ],
        [
         "41",
         "06",
         "083",
         "06083",
         "total_pop",
         "445213"
        ],
        [
         "42",
         "06",
         "085",
         "06085",
         "total_pop",
         "1916831"
        ],
        [
         "43",
         "06",
         "087",
         "06087",
         "total_pop",
         "268571"
        ],
        [
         "44",
         "06",
         "089",
         "06089",
         "total_pop",
         "181852"
        ],
        [
         "45",
         "06",
         "091",
         "06091",
         "total_pop",
         "2916"
        ],
        [
         "46",
         "06",
         "093",
         "06093",
         "total_pop",
         "44049"
        ],
        [
         "47",
         "06",
         "095",
         "06095",
         "total_pop",
         "450995"
        ],
        [
         "48",
         "06",
         "097",
         "06097",
         "total_pop",
         "488436"
        ],
        [
         "49",
         "06",
         "099",
         "06099",
         "total_pop",
         "552063"
        ]
       ],
       "shape": {
        "columns": 5,
        "rows": 348
       }
      },
      "text/html": [
       "<div>\n",
       "<style scoped>\n",
       "    .dataframe tbody tr th:only-of-type {\n",
       "        vertical-align: middle;\n",
       "    }\n",
       "\n",
       "    .dataframe tbody tr th {\n",
       "        vertical-align: top;\n",
       "    }\n",
       "\n",
       "    .dataframe thead th {\n",
       "        text-align: right;\n",
       "    }\n",
       "</style>\n",
       "<table border=\"1\" class=\"dataframe\">\n",
       "  <thead>\n",
       "    <tr style=\"text-align: right;\">\n",
       "      <th></th>\n",
       "      <th>state</th>\n",
       "      <th>county</th>\n",
       "      <th>GEOID</th>\n",
       "      <th>variable</th>\n",
       "      <th>value</th>\n",
       "    </tr>\n",
       "  </thead>\n",
       "  <tbody>\n",
       "    <tr>\n",
       "      <th>0</th>\n",
       "      <td>06</td>\n",
       "      <td>001</td>\n",
       "      <td>06001</td>\n",
       "      <td>total_pop</td>\n",
       "      <td>1663823</td>\n",
       "    </tr>\n",
       "    <tr>\n",
       "      <th>1</th>\n",
       "      <td>06</td>\n",
       "      <td>003</td>\n",
       "      <td>06003</td>\n",
       "      <td>total_pop</td>\n",
       "      <td>1515</td>\n",
       "    </tr>\n",
       "    <tr>\n",
       "      <th>2</th>\n",
       "      <td>06</td>\n",
       "      <td>005</td>\n",
       "      <td>06005</td>\n",
       "      <td>total_pop</td>\n",
       "      <td>40577</td>\n",
       "    </tr>\n",
       "    <tr>\n",
       "      <th>3</th>\n",
       "      <td>06</td>\n",
       "      <td>007</td>\n",
       "      <td>06007</td>\n",
       "      <td>total_pop</td>\n",
       "      <td>213605</td>\n",
       "    </tr>\n",
       "    <tr>\n",
       "      <th>4</th>\n",
       "      <td>06</td>\n",
       "      <td>009</td>\n",
       "      <td>06009</td>\n",
       "      <td>total_pop</td>\n",
       "      <td>45674</td>\n",
       "    </tr>\n",
       "    <tr>\n",
       "      <th>...</th>\n",
       "      <td>...</td>\n",
       "      <td>...</td>\n",
       "      <td>...</td>\n",
       "      <td>...</td>\n",
       "      <td>...</td>\n",
       "    </tr>\n",
       "    <tr>\n",
       "      <th>343</th>\n",
       "      <td>06</td>\n",
       "      <td>107</td>\n",
       "      <td>06107</td>\n",
       "      <td>median_age_moe</td>\n",
       "      <td>0.2</td>\n",
       "    </tr>\n",
       "    <tr>\n",
       "      <th>344</th>\n",
       "      <td>06</td>\n",
       "      <td>109</td>\n",
       "      <td>06109</td>\n",
       "      <td>median_age_moe</td>\n",
       "      <td>0.4</td>\n",
       "    </tr>\n",
       "    <tr>\n",
       "      <th>345</th>\n",
       "      <td>06</td>\n",
       "      <td>111</td>\n",
       "      <td>06111</td>\n",
       "      <td>median_age_moe</td>\n",
       "      <td>0.2</td>\n",
       "    </tr>\n",
       "    <tr>\n",
       "      <th>346</th>\n",
       "      <td>06</td>\n",
       "      <td>113</td>\n",
       "      <td>06113</td>\n",
       "      <td>median_age_moe</td>\n",
       "      <td>0.2</td>\n",
       "    </tr>\n",
       "    <tr>\n",
       "      <th>347</th>\n",
       "      <td>06</td>\n",
       "      <td>115</td>\n",
       "      <td>06115</td>\n",
       "      <td>median_age_moe</td>\n",
       "      <td>0.3</td>\n",
       "    </tr>\n",
       "  </tbody>\n",
       "</table>\n",
       "<p>348 rows × 5 columns</p>\n",
       "</div>"
      ],
      "text/plain": [
       "    state county  GEOID        variable    value\n",
       "0      06    001  06001       total_pop  1663823\n",
       "1      06    003  06003       total_pop     1515\n",
       "2      06    005  06005       total_pop    40577\n",
       "3      06    007  06007       total_pop   213605\n",
       "4      06    009  06009       total_pop    45674\n",
       "..    ...    ...    ...             ...      ...\n",
       "343    06    107  06107  median_age_moe      0.2\n",
       "344    06    109  06109  median_age_moe      0.4\n",
       "345    06    111  06111  median_age_moe      0.2\n",
       "346    06    113  06113  median_age_moe      0.2\n",
       "347    06    115  06115  median_age_moe      0.3\n",
       "\n",
       "[348 rows x 5 columns]"
      ]
     },
     "execution_count": 11,
     "metadata": {},
     "output_type": "execute_result"
    }
   ],
   "source": [
    "# Multiple variables in tidy format\n",
    "ca_demo_tidy = tc.get_acs(\n",
    "    geography=\"county\",\n",
    "    variables={\n",
    "        \"total_pop\": \"B01003_001\",\n",
    "        \"median_income\": \"B19013_001\",\n",
    "        \"median_age\": \"B01002_001\"\n",
    "    },\n",
    "    state=\"CA\",\n",
    "    year=2022,\n",
    "    output=\"tidy\"  # This is the default\n",
    ")\n",
    "\n",
    "print(f\"Tidy format shape: {ca_demo_tidy.shape}\")\n",
    "ca_demo_tidy "
   ]
  },
  {
   "cell_type": "markdown",
   "metadata": {},
   "source": [
    "### Wide Format"
   ]
  },
  {
   "cell_type": "code",
   "execution_count": null,
   "metadata": {},
   "outputs": [],
   "source": [
    "# Same data in wide format\n",
    "ca_demo_wide = tc.get_acs(\n",
    "    geography=\"county\",\n",
    "    variables={\n",
    "        \"total_pop\": \"B01003_001\",\n",
    "        \"median_income\": \"B19013_001\", \n",
    "        \"median_age\": \"B01002_001\"\n",
    "    },\n",
    "    state=\"CA\",\n",
    "    year=2022,\n",
    "    output=\"wide\"\n",
    ")\n",
    "\n",
    "print(f\"Wide format shape: {ca_demo_wide.shape}\")\n",
    "ca_demo_wide.head()"
   ]
  },
  {
   "cell_type": "markdown",
   "metadata": {},
   "source": [
    "## Multiple Variables Analysis\n",
    "\n",
    "Let's analyze the relationship between different demographic variables:"
   ]
  },
  {
   "cell_type": "code",
   "execution_count": null,
   "metadata": {},
   "outputs": [],
   "source": [
    "# Create scatter plot of median age vs median income\n",
    "plt.figure(figsize=(10, 6))\n",
    "\n",
    "plt.scatter(\n",
    "    ca_demo_wide['median_age'], \n",
    "    ca_demo_wide['median_income'],\n",
    "    s=ca_demo_wide['total_pop']/5000,  # Size by population\n",
    "    alpha=0.6\n",
    ")\n",
    "\n",
    "plt.xlabel('Median Age (years)')\n",
    "plt.ylabel('Median Household Income ($)')\n",
    "plt.title('Median Age vs Median Income by California County\\n(Bubble size = Population)')\n",
    "plt.grid(alpha=0.3)\n",
    "\n",
    "# Add correlation coefficient\n",
    "correlation = ca_demo_wide['median_age'].corr(ca_demo_wide['median_income'])\n",
    "plt.text(0.05, 0.95, f'Correlation: {correlation:.3f}', \n",
    "         transform=plt.gca().transAxes, fontsize=12,\n",
    "         bbox=dict(boxstyle='round', facecolor='white', alpha=0.8))\n",
    "\n",
    "plt.tight_layout()\n",
    "plt.show()"
   ]
  },
  {
   "cell_type": "markdown",
   "metadata": {},
   "source": [
    "## Working with Different Survey Types\n",
    "\n",
    "The ACS has different survey periods:\n",
    "\n",
    "- **5-year ACS** (`survey=\"acs5\"`): More reliable for small areas, 5-year average\n",
    "- **1-year ACS** (`survey=\"acs1\"`): More current, only for areas with 65,000+ population"
   ]
  },
  {
   "cell_type": "code",
   "execution_count": null,
   "metadata": {},
   "outputs": [],
   "source": [
    "# Compare 1-year vs 5-year estimates for large cities\n",
    "cities_5yr = tc.get_acs(\n",
    "    geography=\"place\",\n",
    "    variables=\"B19013_001\",\n",
    "    state=\"CA\", \n",
    "    year=2022,\n",
    "    survey=\"acs5\"\n",
    ")\n",
    "\n",
    "cities_1yr = tc.get_acs(\n",
    "    geography=\"place\",\n",
    "    variables=\"B19013_001\",\n",
    "    state=\"CA\",\n",
    "    year=2022, \n",
    "    survey=\"acs1\"\n",
    ")\n",
    "\n",
    "print(f\"5-year ACS places: {len(cities_5yr)}\")\n",
    "print(f\"1-year ACS places: {len(cities_1yr)}\")\n",
    "print(\"\\n1-year ACS is only available for larger places:\")\n",
    "cities_1yr.head()"
   ]
  },
  {
   "cell_type": "markdown",
   "metadata": {},
   "source": [
    "## Summary\n",
    "\n",
    "In this notebook, we learned:\n",
    "\n",
    "1. **Setup**: How to install pytidycensus and set your API key\n",
    "2. **Core functions**: `get_decennial()` and `get_acs()` for different data sources\n",
    "3. **Geographic levels**: From national to neighborhood-level data\n",
    "4. **Variable search**: Using `load_variables()` and `search_variables()`\n",
    "5. **Data formats**: Tidy vs wide format output\n",
    "6. **Uncertainty**: Working with ACS margins of error\n",
    "7. **Visualization**: Creating plots with matplotlib\n",
    "\n",
    "## Next Steps\n",
    "\n",
    "- **Spatial Analysis**: See `02_spatial_data.ipynb` for mapping examples\n",
    "- **Advanced ACS**: Explore `03_margins_of_error.ipynb` for statistical techniques\n",
    "- **Other Datasets**: Check `04_other_datasets.ipynb` for population estimates\n",
    "- **Microdata**: Learn about PUMS data in `05_pums_data.ipynb`\n",
    "\n",
    "## Resources\n",
    "\n",
    "- [pytidycensus Documentation](https://mmann1123.github.io/pytidycensus)\n",
    "- [Census Variable Search](https://api.census.gov/data.html)\n",
    "- [Census Bureau Data](https://www.census.gov/data.html)"
   ]
  }
 ],
 "metadata": {
  "kernelspec": {
   "display_name": "test2",
   "language": "python",
   "name": "python3"
  },
  "language_info": {
   "codemirror_mode": {
    "name": "ipython",
    "version": 3
   },
   "file_extension": ".py",
   "mimetype": "text/x-python",
   "name": "python",
   "nbconvert_exporter": "python",
   "pygments_lexer": "ipython3",
   "version": "3.11.4"
  }
 },
 "nbformat": 4,
 "nbformat_minor": 4
}
